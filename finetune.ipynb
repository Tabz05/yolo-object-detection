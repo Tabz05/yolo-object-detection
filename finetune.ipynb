{
 "cells": [
  {
   "cell_type": "code",
   "execution_count": 3,
   "metadata": {},
   "outputs": [
    {
     "name": "stdout",
     "output_type": "stream",
     "text": [
      "Ultralytics 8.3.92  Python-3.12.2 torch-2.5.1+cu124 CUDA:0 (NVIDIA GeForce RTX 3080 Laptop GPU, 16384MiB)\n",
      "\u001b[34m\u001b[1mengine\\trainer: \u001b[0mtask=detect, mode=train, model=yolov10s.pt, data=c:\\Users\\Shamim\\Downloads\\ObjectDetection\\ObjectDetection/dataset/dataset.yaml, epochs=100, time=None, patience=100, batch=16, imgsz=640, save=True, save_period=-1, cache=False, device=0, workers=8, project=None, name=train, exist_ok=False, pretrained=True, optimizer=auto, verbose=True, seed=0, deterministic=True, single_cls=False, rect=False, cos_lr=False, close_mosaic=10, resume=False, amp=True, fraction=1.0, profile=False, freeze=None, multi_scale=False, overlap_mask=True, mask_ratio=4, dropout=0.0, val=True, split=val, save_json=False, save_hybrid=False, conf=None, iou=0.7, max_det=300, half=False, dnn=False, plots=True, source=None, vid_stride=1, stream_buffer=False, visualize=False, augment=False, agnostic_nms=False, classes=None, retina_masks=False, embed=None, show=False, save_frames=False, save_txt=False, save_conf=False, save_crop=False, show_labels=True, show_conf=True, show_boxes=True, line_width=None, format=torchscript, keras=False, optimize=False, int8=False, dynamic=False, simplify=True, opset=None, workspace=None, nms=False, lr0=0.001, lrf=0.01, momentum=0.937, weight_decay=0.0005, warmup_epochs=3.0, warmup_momentum=0.8, warmup_bias_lr=0.1, box=7.5, cls=0.5, dfl=1.5, pose=12.0, kobj=1.0, nbs=64, hsv_h=0.02, hsv_s=0.7, hsv_v=0.4, degrees=0.0, translate=0.1, scale=0.5, shear=0.1, perspective=0.0005, flipud=0.1, fliplr=0.5, bgr=0.0, mosaic=1.0, mixup=0.1, copy_paste=0.0, copy_paste_mode=flip, auto_augment=randaugment, erasing=0.4, crop_fraction=1.0, cfg=None, tracker=botsort.yaml, save_dir=runs\\detect\\train\n",
      "Downloading https://ultralytics.com/assets/Arial.ttf to 'C:\\Users\\Shamim\\AppData\\Roaming\\Ultralytics\\Arial.ttf'...\n"
     ]
    },
    {
     "name": "stderr",
     "output_type": "stream",
     "text": [
      "100%|██████████| 755k/755k [00:00<00:00, 2.71MB/s]\n"
     ]
    },
    {
     "name": "stdout",
     "output_type": "stream",
     "text": [
      "Overriding model.yaml nc=80 with nc=3\n",
      "\n",
      "                   from  n    params  module                                       arguments                     \n",
      "  0                  -1  1       928  ultralytics.nn.modules.conv.Conv             [3, 32, 3, 2]                 \n",
      "  1                  -1  1     18560  ultralytics.nn.modules.conv.Conv             [32, 64, 3, 2]                \n",
      "  2                  -1  1     29056  ultralytics.nn.modules.block.C2f             [64, 64, 1, True]             \n",
      "  3                  -1  1     73984  ultralytics.nn.modules.conv.Conv             [64, 128, 3, 2]               \n",
      "  4                  -1  2    197632  ultralytics.nn.modules.block.C2f             [128, 128, 2, True]           \n",
      "  5                  -1  1     36096  ultralytics.nn.modules.block.SCDown          [128, 256, 3, 2]              \n",
      "  6                  -1  2    788480  ultralytics.nn.modules.block.C2f             [256, 256, 2, True]           \n",
      "  7                  -1  1    137728  ultralytics.nn.modules.block.SCDown          [256, 512, 3, 2]              \n",
      "  8                  -1  1    958464  ultralytics.nn.modules.block.C2fCIB          [512, 512, 1, True, True]     \n",
      "  9                  -1  1    656896  ultralytics.nn.modules.block.SPPF            [512, 512, 5]                 \n",
      " 10                  -1  1    990976  ultralytics.nn.modules.block.PSA             [512, 512]                    \n",
      " 11                  -1  1         0  torch.nn.modules.upsampling.Upsample         [None, 2, 'nearest']          \n",
      " 12             [-1, 6]  1         0  ultralytics.nn.modules.conv.Concat           [1]                           \n",
      " 13                  -1  1    591360  ultralytics.nn.modules.block.C2f             [768, 256, 1]                 \n",
      " 14                  -1  1         0  torch.nn.modules.upsampling.Upsample         [None, 2, 'nearest']          \n",
      " 15             [-1, 4]  1         0  ultralytics.nn.modules.conv.Concat           [1]                           \n",
      " 16                  -1  1    148224  ultralytics.nn.modules.block.C2f             [384, 128, 1]                 \n",
      " 17                  -1  1    147712  ultralytics.nn.modules.conv.Conv             [128, 128, 3, 2]              \n",
      " 18            [-1, 13]  1         0  ultralytics.nn.modules.conv.Concat           [1]                           \n",
      " 19                  -1  1    493056  ultralytics.nn.modules.block.C2f             [384, 256, 1]                 \n",
      " 20                  -1  1     68864  ultralytics.nn.modules.block.SCDown          [256, 256, 3, 2]              \n",
      " 21            [-1, 10]  1         0  ultralytics.nn.modules.conv.Concat           [1]                           \n",
      " 22                  -1  1   1089536  ultralytics.nn.modules.block.C2fCIB          [768, 512, 1, True, True]     \n",
      " 23        [16, 19, 22]  1   1641122  ultralytics.nn.modules.head.v10Detect        [3, [128, 256, 512]]          \n",
      "YOLOv10s summary: 234 layers, 8,068,674 parameters, 8,068,658 gradients, 24.8 GFLOPs\n",
      "\n",
      "Transferred 607/619 items from pretrained weights\n",
      "\u001b[34m\u001b[1mTensorBoard: \u001b[0mStart with 'tensorboard --logdir runs\\detect\\train', view at http://localhost:6006/\n",
      "Freezing layer 'model.23.dfl.conv.weight'\n",
      "\u001b[34m\u001b[1mAMP: \u001b[0mrunning Automatic Mixed Precision (AMP) checks...\n",
      "Downloading https://github.com/ultralytics/assets/releases/download/v8.3.0/yolo11n.pt to 'yolo11n.pt'...\n"
     ]
    },
    {
     "name": "stderr",
     "output_type": "stream",
     "text": [
      "100%|██████████| 5.35M/5.35M [00:03<00:00, 1.48MB/s]\n"
     ]
    },
    {
     "name": "stdout",
     "output_type": "stream",
     "text": [
      "\u001b[34m\u001b[1mAMP: \u001b[0mchecks passed \n"
     ]
    },
    {
     "name": "stderr",
     "output_type": "stream",
     "text": [
      "\u001b[34m\u001b[1mtrain: \u001b[0mScanning C:\\Users\\Shamim\\Downloads\\ObjectDetection\\ObjectDetection\\dataset\\labels\\train... 205 images, 0 backgrounds, 0 corrupt: 100%|██████████| 205/205 [00:00<00:00, 1160.03it/s]"
     ]
    },
    {
     "name": "stdout",
     "output_type": "stream",
     "text": [
      "\u001b[34m\u001b[1mtrain: \u001b[0mNew cache created: C:\\Users\\Shamim\\Downloads\\ObjectDetection\\ObjectDetection\\dataset\\labels\\train.cache\n"
     ]
    },
    {
     "name": "stderr",
     "output_type": "stream",
     "text": [
      "\n",
      "\u001b[34m\u001b[1mval: \u001b[0mScanning C:\\Users\\Shamim\\Downloads\\ObjectDetection\\ObjectDetection\\dataset\\labels\\val... 87 images, 0 backgrounds, 0 corrupt: 100%|██████████| 87/87 [00:00<00:00, 732.28it/s]"
     ]
    },
    {
     "name": "stdout",
     "output_type": "stream",
     "text": [
      "\u001b[34m\u001b[1mval: \u001b[0mNew cache created: C:\\Users\\Shamim\\Downloads\\ObjectDetection\\ObjectDetection\\dataset\\labels\\val.cache\n"
     ]
    },
    {
     "name": "stderr",
     "output_type": "stream",
     "text": [
      "\n"
     ]
    },
    {
     "name": "stdout",
     "output_type": "stream",
     "text": [
      "Plotting labels to runs\\detect\\train\\labels.jpg... \n",
      "\u001b[34m\u001b[1moptimizer:\u001b[0m 'optimizer=auto' found, ignoring 'lr0=0.001' and 'momentum=0.937' and determining best 'optimizer', 'lr0' and 'momentum' automatically... \n",
      "\u001b[34m\u001b[1moptimizer:\u001b[0m AdamW(lr=0.001429, momentum=0.9) with parameter groups 99 weight(decay=0.0), 112 weight(decay=0.0005), 111 bias(decay=0.0)\n",
      "\u001b[34m\u001b[1mTensorBoard: \u001b[0mmodel graph visualization added \n",
      "Image sizes 640 train, 640 val\n",
      "Using 8 dataloader workers\n",
      "Logging results to \u001b[1mruns\\detect\\train\u001b[0m\n",
      "Starting training for 100 epochs...\n",
      "\n",
      "      Epoch    GPU_mem   box_loss   cls_loss   dfl_loss  Instances       Size\n"
     ]
    },
    {
     "name": "stderr",
     "output_type": "stream",
     "text": [
      "      1/100      5.59G      5.086      8.044      4.692        355        640: 100%|██████████| 13/13 [00:06<00:00,  2.02it/s]\n",
      "                 Class     Images  Instances      Box(P          R      mAP50  mAP50-95): 100%|██████████| 3/3 [00:00<00:00,  3.14it/s]"
     ]
    },
    {
     "name": "stdout",
     "output_type": "stream",
     "text": [
      "                   all         87       1138      0.146      0.377      0.158     0.0732\n"
     ]
    },
    {
     "name": "stderr",
     "output_type": "stream",
     "text": [
      "\n"
     ]
    },
    {
     "name": "stdout",
     "output_type": "stream",
     "text": [
      "\n",
      "      Epoch    GPU_mem   box_loss   cls_loss   dfl_loss  Instances       Size\n"
     ]
    },
    {
     "name": "stderr",
     "output_type": "stream",
     "text": [
      "      2/100      5.86G      3.694      4.791      3.273        324        640: 100%|██████████| 13/13 [00:03<00:00,  3.26it/s]\n",
      "                 Class     Images  Instances      Box(P          R      mAP50  mAP50-95): 100%|██████████| 3/3 [00:00<00:00,  4.62it/s]"
     ]
    },
    {
     "name": "stdout",
     "output_type": "stream",
     "text": [
      "                   all         87       1138   7.94e-05    0.00418   4.14e-05   1.35e-05\n"
     ]
    },
    {
     "name": "stderr",
     "output_type": "stream",
     "text": [
      "\n"
     ]
    },
    {
     "name": "stdout",
     "output_type": "stream",
     "text": [
      "\n",
      "      Epoch    GPU_mem   box_loss   cls_loss   dfl_loss  Instances       Size\n"
     ]
    },
    {
     "name": "stderr",
     "output_type": "stream",
     "text": [
      "      3/100      5.88G      3.673      4.143      3.189        419        640: 100%|██████████| 13/13 [00:03<00:00,  3.45it/s]\n",
      "                 Class     Images  Instances      Box(P          R      mAP50  mAP50-95): 100%|██████████| 3/3 [00:00<00:00,  4.44it/s]"
     ]
    },
    {
     "name": "stdout",
     "output_type": "stream",
     "text": [
      "                   all         87       1138   8.53e-05     0.0115   4.42e-05   5.86e-06\n"
     ]
    },
    {
     "name": "stderr",
     "output_type": "stream",
     "text": [
      "\n"
     ]
    },
    {
     "name": "stdout",
     "output_type": "stream",
     "text": [
      "\n",
      "      Epoch    GPU_mem   box_loss   cls_loss   dfl_loss  Instances       Size\n"
     ]
    },
    {
     "name": "stderr",
     "output_type": "stream",
     "text": [
      "      4/100      5.88G       3.49        3.7      2.981        306        640: 100%|██████████| 13/13 [00:03<00:00,  3.53it/s]\n",
      "                 Class     Images  Instances      Box(P          R      mAP50  mAP50-95): 100%|██████████| 3/3 [00:00<00:00,  4.15it/s]"
     ]
    },
    {
     "name": "stdout",
     "output_type": "stream",
     "text": [
      "                   all         87       1138     0.0514      0.231     0.0512     0.0189\n"
     ]
    },
    {
     "name": "stderr",
     "output_type": "stream",
     "text": [
      "\n"
     ]
    },
    {
     "name": "stdout",
     "output_type": "stream",
     "text": [
      "\n",
      "      Epoch    GPU_mem   box_loss   cls_loss   dfl_loss  Instances       Size\n"
     ]
    },
    {
     "name": "stderr",
     "output_type": "stream",
     "text": [
      "      5/100      5.88G      3.516       3.69      3.072        267        640: 100%|██████████| 13/13 [00:03<00:00,  3.58it/s]\n",
      "                 Class     Images  Instances      Box(P          R      mAP50  mAP50-95): 100%|██████████| 3/3 [00:00<00:00,  4.28it/s]"
     ]
    },
    {
     "name": "stdout",
     "output_type": "stream",
     "text": [
      "                   all         87       1138     0.0871      0.613     0.0969     0.0397\n"
     ]
    },
    {
     "name": "stderr",
     "output_type": "stream",
     "text": [
      "\n"
     ]
    },
    {
     "name": "stdout",
     "output_type": "stream",
     "text": [
      "\n",
      "      Epoch    GPU_mem   box_loss   cls_loss   dfl_loss  Instances       Size\n"
     ]
    },
    {
     "name": "stderr",
     "output_type": "stream",
     "text": [
      "      6/100      5.88G      3.386      3.354      2.972        435        640: 100%|██████████| 13/13 [00:03<00:00,  3.54it/s]\n",
      "                 Class     Images  Instances      Box(P          R      mAP50  mAP50-95): 100%|██████████| 3/3 [00:00<00:00,  4.37it/s]"
     ]
    },
    {
     "name": "stdout",
     "output_type": "stream",
     "text": [
      "                   all         87       1138      0.388      0.523      0.383      0.146\n"
     ]
    },
    {
     "name": "stderr",
     "output_type": "stream",
     "text": [
      "\n"
     ]
    },
    {
     "name": "stdout",
     "output_type": "stream",
     "text": [
      "\n",
      "      Epoch    GPU_mem   box_loss   cls_loss   dfl_loss  Instances       Size\n"
     ]
    },
    {
     "name": "stderr",
     "output_type": "stream",
     "text": [
      "      7/100      5.88G      3.464      3.329      3.003        470        640: 100%|██████████| 13/13 [00:03<00:00,  3.65it/s]\n",
      "                 Class     Images  Instances      Box(P          R      mAP50  mAP50-95): 100%|██████████| 3/3 [00:00<00:00,  3.87it/s]"
     ]
    },
    {
     "name": "stdout",
     "output_type": "stream",
     "text": [
      "                   all         87       1138      0.803      0.406      0.486      0.222\n"
     ]
    },
    {
     "name": "stderr",
     "output_type": "stream",
     "text": [
      "\n"
     ]
    },
    {
     "name": "stdout",
     "output_type": "stream",
     "text": [
      "\n",
      "      Epoch    GPU_mem   box_loss   cls_loss   dfl_loss  Instances       Size\n"
     ]
    },
    {
     "name": "stderr",
     "output_type": "stream",
     "text": [
      "      8/100      5.88G      3.381       3.24      2.931        268        640: 100%|██████████| 13/13 [00:03<00:00,  3.47it/s]\n",
      "                 Class     Images  Instances      Box(P          R      mAP50  mAP50-95): 100%|██████████| 3/3 [00:00<00:00,  4.25it/s]"
     ]
    },
    {
     "name": "stdout",
     "output_type": "stream",
     "text": [
      "                   all         87       1138      0.494      0.515      0.477      0.201\n"
     ]
    },
    {
     "name": "stderr",
     "output_type": "stream",
     "text": [
      "\n"
     ]
    },
    {
     "name": "stdout",
     "output_type": "stream",
     "text": [
      "\n",
      "      Epoch    GPU_mem   box_loss   cls_loss   dfl_loss  Instances       Size\n"
     ]
    },
    {
     "name": "stderr",
     "output_type": "stream",
     "text": [
      "      9/100      5.88G      3.438      3.177      2.962        325        640: 100%|██████████| 13/13 [00:03<00:00,  3.67it/s]\n",
      "                 Class     Images  Instances      Box(P          R      mAP50  mAP50-95): 100%|██████████| 3/3 [00:00<00:00,  4.20it/s]"
     ]
    },
    {
     "name": "stdout",
     "output_type": "stream",
     "text": [
      "                   all         87       1138      0.486      0.715      0.578      0.317\n"
     ]
    },
    {
     "name": "stderr",
     "output_type": "stream",
     "text": [
      "\n"
     ]
    },
    {
     "name": "stdout",
     "output_type": "stream",
     "text": [
      "\n",
      "      Epoch    GPU_mem   box_loss   cls_loss   dfl_loss  Instances       Size\n"
     ]
    },
    {
     "name": "stderr",
     "output_type": "stream",
     "text": [
      "     10/100      5.88G      3.316      3.024       2.85        340        640: 100%|██████████| 13/13 [00:03<00:00,  3.63it/s]\n",
      "                 Class     Images  Instances      Box(P          R      mAP50  mAP50-95): 100%|██████████| 3/3 [00:00<00:00,  4.18it/s]"
     ]
    },
    {
     "name": "stdout",
     "output_type": "stream",
     "text": [
      "                   all         87       1138      0.547      0.667      0.608       0.36\n"
     ]
    },
    {
     "name": "stderr",
     "output_type": "stream",
     "text": [
      "\n"
     ]
    },
    {
     "name": "stdout",
     "output_type": "stream",
     "text": [
      "\n",
      "      Epoch    GPU_mem   box_loss   cls_loss   dfl_loss  Instances       Size\n"
     ]
    },
    {
     "name": "stderr",
     "output_type": "stream",
     "text": [
      "     11/100      5.88G      3.227      2.995       2.83        365        640: 100%|██████████| 13/13 [00:03<00:00,  3.63it/s]\n",
      "                 Class     Images  Instances      Box(P          R      mAP50  mAP50-95): 100%|██████████| 3/3 [00:00<00:00,  4.30it/s]"
     ]
    },
    {
     "name": "stdout",
     "output_type": "stream",
     "text": [
      "                   all         87       1138      0.632      0.681      0.651      0.324\n"
     ]
    },
    {
     "name": "stderr",
     "output_type": "stream",
     "text": [
      "\n"
     ]
    },
    {
     "name": "stdout",
     "output_type": "stream",
     "text": [
      "\n",
      "      Epoch    GPU_mem   box_loss   cls_loss   dfl_loss  Instances       Size\n"
     ]
    },
    {
     "name": "stderr",
     "output_type": "stream",
     "text": [
      "     12/100      5.88G        3.4      3.065      2.912        441        640: 100%|██████████| 13/13 [00:03<00:00,  3.51it/s]\n",
      "                 Class     Images  Instances      Box(P          R      mAP50  mAP50-95): 100%|██████████| 3/3 [00:00<00:00,  4.03it/s]"
     ]
    },
    {
     "name": "stdout",
     "output_type": "stream",
     "text": [
      "                   all         87       1138      0.748      0.494       0.55       0.26\n"
     ]
    },
    {
     "name": "stderr",
     "output_type": "stream",
     "text": [
      "\n"
     ]
    },
    {
     "name": "stdout",
     "output_type": "stream",
     "text": [
      "\n",
      "      Epoch    GPU_mem   box_loss   cls_loss   dfl_loss  Instances       Size\n"
     ]
    },
    {
     "name": "stderr",
     "output_type": "stream",
     "text": [
      "     13/100      5.88G      3.219      2.945      2.831        361        640: 100%|██████████| 13/13 [00:03<00:00,  3.50it/s]\n",
      "                 Class     Images  Instances      Box(P          R      mAP50  mAP50-95): 100%|██████████| 3/3 [00:00<00:00,  4.23it/s]"
     ]
    },
    {
     "name": "stdout",
     "output_type": "stream",
     "text": [
      "                   all         87       1138      0.468       0.73      0.622      0.296\n"
     ]
    },
    {
     "name": "stderr",
     "output_type": "stream",
     "text": [
      "\n"
     ]
    },
    {
     "name": "stdout",
     "output_type": "stream",
     "text": [
      "\n",
      "      Epoch    GPU_mem   box_loss   cls_loss   dfl_loss  Instances       Size\n"
     ]
    },
    {
     "name": "stderr",
     "output_type": "stream",
     "text": [
      "     14/100      5.88G      3.201      2.899      2.792        385        640: 100%|██████████| 13/13 [00:03<00:00,  3.53it/s]\n",
      "                 Class     Images  Instances      Box(P          R      mAP50  mAP50-95): 100%|██████████| 3/3 [00:00<00:00,  4.01it/s]"
     ]
    },
    {
     "name": "stdout",
     "output_type": "stream",
     "text": [
      "                   all         87       1138      0.489      0.754      0.635      0.342\n"
     ]
    },
    {
     "name": "stderr",
     "output_type": "stream",
     "text": [
      "\n"
     ]
    },
    {
     "name": "stdout",
     "output_type": "stream",
     "text": [
      "\n",
      "      Epoch    GPU_mem   box_loss   cls_loss   dfl_loss  Instances       Size\n"
     ]
    },
    {
     "name": "stderr",
     "output_type": "stream",
     "text": [
      "     15/100      5.88G      3.189      2.824      2.788        364        640: 100%|██████████| 13/13 [00:03<00:00,  3.54it/s]\n",
      "                 Class     Images  Instances      Box(P          R      mAP50  mAP50-95): 100%|██████████| 3/3 [00:00<00:00,  4.01it/s]"
     ]
    },
    {
     "name": "stdout",
     "output_type": "stream",
     "text": [
      "                   all         87       1138      0.529      0.695      0.643      0.342\n"
     ]
    },
    {
     "name": "stderr",
     "output_type": "stream",
     "text": [
      "\n"
     ]
    },
    {
     "name": "stdout",
     "output_type": "stream",
     "text": [
      "\n",
      "      Epoch    GPU_mem   box_loss   cls_loss   dfl_loss  Instances       Size\n"
     ]
    },
    {
     "name": "stderr",
     "output_type": "stream",
     "text": [
      "     16/100      5.88G      3.208      2.693      2.771        392        640: 100%|██████████| 13/13 [00:03<00:00,  3.42it/s]\n",
      "                 Class     Images  Instances      Box(P          R      mAP50  mAP50-95): 100%|██████████| 3/3 [00:00<00:00,  4.19it/s]"
     ]
    },
    {
     "name": "stdout",
     "output_type": "stream",
     "text": [
      "                   all         87       1138       0.58      0.757      0.715      0.416\n"
     ]
    },
    {
     "name": "stderr",
     "output_type": "stream",
     "text": [
      "\n"
     ]
    },
    {
     "name": "stdout",
     "output_type": "stream",
     "text": [
      "\n",
      "      Epoch    GPU_mem   box_loss   cls_loss   dfl_loss  Instances       Size\n"
     ]
    },
    {
     "name": "stderr",
     "output_type": "stream",
     "text": [
      "     17/100      5.88G      3.028      2.468      2.707        358        640: 100%|██████████| 13/13 [00:03<00:00,  3.53it/s]\n",
      "                 Class     Images  Instances      Box(P          R      mAP50  mAP50-95): 100%|██████████| 3/3 [00:00<00:00,  4.02it/s]"
     ]
    },
    {
     "name": "stdout",
     "output_type": "stream",
     "text": [
      "                   all         87       1138      0.685      0.715      0.734      0.424\n"
     ]
    },
    {
     "name": "stderr",
     "output_type": "stream",
     "text": [
      "\n"
     ]
    },
    {
     "name": "stdout",
     "output_type": "stream",
     "text": [
      "\n",
      "      Epoch    GPU_mem   box_loss   cls_loss   dfl_loss  Instances       Size\n"
     ]
    },
    {
     "name": "stderr",
     "output_type": "stream",
     "text": [
      "     18/100      5.88G      3.277      2.648      2.825        239        640: 100%|██████████| 13/13 [00:03<00:00,  3.61it/s]\n",
      "                 Class     Images  Instances      Box(P          R      mAP50  mAP50-95): 100%|██████████| 3/3 [00:00<00:00,  4.07it/s]"
     ]
    },
    {
     "name": "stdout",
     "output_type": "stream",
     "text": [
      "                   all         87       1138      0.644      0.762      0.741      0.424\n"
     ]
    },
    {
     "name": "stderr",
     "output_type": "stream",
     "text": [
      "\n"
     ]
    },
    {
     "name": "stdout",
     "output_type": "stream",
     "text": [
      "\n",
      "      Epoch    GPU_mem   box_loss   cls_loss   dfl_loss  Instances       Size\n"
     ]
    },
    {
     "name": "stderr",
     "output_type": "stream",
     "text": [
      "     19/100      5.88G      3.362      2.744       2.86        362        640: 100%|██████████| 13/13 [00:03<00:00,  3.54it/s]\n",
      "                 Class     Images  Instances      Box(P          R      mAP50  mAP50-95): 100%|██████████| 3/3 [00:00<00:00,  4.25it/s]"
     ]
    },
    {
     "name": "stdout",
     "output_type": "stream",
     "text": [
      "                   all         87       1138      0.581      0.667      0.682       0.31\n"
     ]
    },
    {
     "name": "stderr",
     "output_type": "stream",
     "text": [
      "\n"
     ]
    },
    {
     "name": "stdout",
     "output_type": "stream",
     "text": [
      "\n",
      "      Epoch    GPU_mem   box_loss   cls_loss   dfl_loss  Instances       Size\n"
     ]
    },
    {
     "name": "stderr",
     "output_type": "stream",
     "text": [
      "     20/100      5.88G       3.24      2.785      2.822        245        640: 100%|██████████| 13/13 [00:03<00:00,  3.54it/s]\n",
      "                 Class     Images  Instances      Box(P          R      mAP50  mAP50-95): 100%|██████████| 3/3 [00:00<00:00,  4.17it/s]"
     ]
    },
    {
     "name": "stdout",
     "output_type": "stream",
     "text": [
      "                   all         87       1138      0.619      0.679      0.699      0.375\n"
     ]
    },
    {
     "name": "stderr",
     "output_type": "stream",
     "text": [
      "\n"
     ]
    },
    {
     "name": "stdout",
     "output_type": "stream",
     "text": [
      "\n",
      "      Epoch    GPU_mem   box_loss   cls_loss   dfl_loss  Instances       Size\n"
     ]
    },
    {
     "name": "stderr",
     "output_type": "stream",
     "text": [
      "     21/100      5.88G      3.098      2.629      2.727        356        640: 100%|██████████| 13/13 [00:03<00:00,  3.56it/s]\n",
      "                 Class     Images  Instances      Box(P          R      mAP50  mAP50-95): 100%|██████████| 3/3 [00:00<00:00,  4.12it/s]"
     ]
    },
    {
     "name": "stdout",
     "output_type": "stream",
     "text": [
      "                   all         87       1138      0.565      0.733      0.688       0.39\n"
     ]
    },
    {
     "name": "stderr",
     "output_type": "stream",
     "text": [
      "\n"
     ]
    },
    {
     "name": "stdout",
     "output_type": "stream",
     "text": [
      "\n",
      "      Epoch    GPU_mem   box_loss   cls_loss   dfl_loss  Instances       Size\n"
     ]
    },
    {
     "name": "stderr",
     "output_type": "stream",
     "text": [
      "     22/100      5.88G      3.033      2.428      2.653        380        640: 100%|██████████| 13/13 [00:03<00:00,  3.56it/s]\n",
      "                 Class     Images  Instances      Box(P          R      mAP50  mAP50-95): 100%|██████████| 3/3 [00:00<00:00,  3.82it/s]"
     ]
    },
    {
     "name": "stdout",
     "output_type": "stream",
     "text": [
      "                   all         87       1138      0.679        0.7      0.723      0.427\n"
     ]
    },
    {
     "name": "stderr",
     "output_type": "stream",
     "text": [
      "\n"
     ]
    },
    {
     "name": "stdout",
     "output_type": "stream",
     "text": [
      "\n",
      "      Epoch    GPU_mem   box_loss   cls_loss   dfl_loss  Instances       Size\n"
     ]
    },
    {
     "name": "stderr",
     "output_type": "stream",
     "text": [
      "     23/100      5.88G      3.014      2.355      2.666        346        640: 100%|██████████| 13/13 [00:03<00:00,  3.38it/s]\n",
      "                 Class     Images  Instances      Box(P          R      mAP50  mAP50-95): 100%|██████████| 3/3 [00:00<00:00,  4.20it/s]"
     ]
    },
    {
     "name": "stdout",
     "output_type": "stream",
     "text": [
      "                   all         87       1138      0.755      0.706      0.757      0.454\n"
     ]
    },
    {
     "name": "stderr",
     "output_type": "stream",
     "text": [
      "\n"
     ]
    },
    {
     "name": "stdout",
     "output_type": "stream",
     "text": [
      "\n",
      "      Epoch    GPU_mem   box_loss   cls_loss   dfl_loss  Instances       Size\n"
     ]
    },
    {
     "name": "stderr",
     "output_type": "stream",
     "text": [
      "     24/100      5.88G      3.121      2.425      2.731        499        640: 100%|██████████| 13/13 [00:03<00:00,  3.45it/s]\n",
      "                 Class     Images  Instances      Box(P          R      mAP50  mAP50-95): 100%|██████████| 3/3 [00:00<00:00,  4.00it/s]"
     ]
    },
    {
     "name": "stdout",
     "output_type": "stream",
     "text": [
      "                   all         87       1138      0.632       0.76      0.742      0.445\n"
     ]
    },
    {
     "name": "stderr",
     "output_type": "stream",
     "text": [
      "\n"
     ]
    },
    {
     "name": "stdout",
     "output_type": "stream",
     "text": [
      "\n",
      "      Epoch    GPU_mem   box_loss   cls_loss   dfl_loss  Instances       Size\n"
     ]
    },
    {
     "name": "stderr",
     "output_type": "stream",
     "text": [
      "     25/100      5.88G      3.035      2.337      2.678        289        640: 100%|██████████| 13/13 [00:03<00:00,  3.52it/s]\n",
      "                 Class     Images  Instances      Box(P          R      mAP50  mAP50-95): 100%|██████████| 3/3 [00:00<00:00,  4.31it/s]\n"
     ]
    },
    {
     "name": "stdout",
     "output_type": "stream",
     "text": [
      "                   all         87       1138      0.654      0.717      0.722      0.419\n",
      "\n",
      "      Epoch    GPU_mem   box_loss   cls_loss   dfl_loss  Instances       Size\n"
     ]
    },
    {
     "name": "stderr",
     "output_type": "stream",
     "text": [
      "     26/100      5.88G      3.085        2.4      2.692        337        640: 100%|██████████| 13/13 [00:03<00:00,  3.56it/s]\n",
      "                 Class     Images  Instances      Box(P          R      mAP50  mAP50-95): 100%|██████████| 3/3 [00:00<00:00,  4.09it/s]"
     ]
    },
    {
     "name": "stdout",
     "output_type": "stream",
     "text": [
      "                   all         87       1138      0.564      0.775      0.724      0.461\n"
     ]
    },
    {
     "name": "stderr",
     "output_type": "stream",
     "text": [
      "\n"
     ]
    },
    {
     "name": "stdout",
     "output_type": "stream",
     "text": [
      "\n",
      "      Epoch    GPU_mem   box_loss   cls_loss   dfl_loss  Instances       Size\n"
     ]
    },
    {
     "name": "stderr",
     "output_type": "stream",
     "text": [
      "     27/100      5.88G      3.098      2.324      2.719        368        640: 100%|██████████| 13/13 [00:03<00:00,  3.47it/s]\n",
      "                 Class     Images  Instances      Box(P          R      mAP50  mAP50-95): 100%|██████████| 3/3 [00:00<00:00,  4.16it/s]"
     ]
    },
    {
     "name": "stdout",
     "output_type": "stream",
     "text": [
      "                   all         87       1138      0.607      0.816      0.757      0.448\n"
     ]
    },
    {
     "name": "stderr",
     "output_type": "stream",
     "text": [
      "\n"
     ]
    },
    {
     "name": "stdout",
     "output_type": "stream",
     "text": [
      "\n",
      "      Epoch    GPU_mem   box_loss   cls_loss   dfl_loss  Instances       Size\n"
     ]
    },
    {
     "name": "stderr",
     "output_type": "stream",
     "text": [
      "     28/100      5.88G      3.151      2.352      2.763        363        640: 100%|██████████| 13/13 [00:03<00:00,  3.53it/s]\n",
      "                 Class     Images  Instances      Box(P          R      mAP50  mAP50-95): 100%|██████████| 3/3 [00:00<00:00,  4.26it/s]"
     ]
    },
    {
     "name": "stdout",
     "output_type": "stream",
     "text": [
      "                   all         87       1138      0.702      0.767      0.758      0.442\n"
     ]
    },
    {
     "name": "stderr",
     "output_type": "stream",
     "text": [
      "\n"
     ]
    },
    {
     "name": "stdout",
     "output_type": "stream",
     "text": [
      "\n",
      "      Epoch    GPU_mem   box_loss   cls_loss   dfl_loss  Instances       Size\n"
     ]
    },
    {
     "name": "stderr",
     "output_type": "stream",
     "text": [
      "     29/100      5.88G      3.008      2.202      2.666        327        640: 100%|██████████| 13/13 [00:03<00:00,  3.53it/s]\n",
      "                 Class     Images  Instances      Box(P          R      mAP50  mAP50-95): 100%|██████████| 3/3 [00:00<00:00,  4.05it/s]"
     ]
    },
    {
     "name": "stdout",
     "output_type": "stream",
     "text": [
      "                   all         87       1138      0.627      0.783      0.758      0.472\n"
     ]
    },
    {
     "name": "stderr",
     "output_type": "stream",
     "text": [
      "\n"
     ]
    },
    {
     "name": "stdout",
     "output_type": "stream",
     "text": [
      "\n",
      "      Epoch    GPU_mem   box_loss   cls_loss   dfl_loss  Instances       Size\n"
     ]
    },
    {
     "name": "stderr",
     "output_type": "stream",
     "text": [
      "     30/100      5.88G       2.99       2.21       2.63        304        640: 100%|██████████| 13/13 [00:03<00:00,  3.45it/s]\n",
      "                 Class     Images  Instances      Box(P          R      mAP50  mAP50-95): 100%|██████████| 3/3 [00:00<00:00,  4.09it/s]"
     ]
    },
    {
     "name": "stdout",
     "output_type": "stream",
     "text": [
      "                   all         87       1138      0.667      0.787      0.782      0.475\n"
     ]
    },
    {
     "name": "stderr",
     "output_type": "stream",
     "text": [
      "\n"
     ]
    },
    {
     "name": "stdout",
     "output_type": "stream",
     "text": [
      "\n",
      "      Epoch    GPU_mem   box_loss   cls_loss   dfl_loss  Instances       Size\n"
     ]
    },
    {
     "name": "stderr",
     "output_type": "stream",
     "text": [
      "     31/100      5.88G      3.103      2.267      2.713        278        640: 100%|██████████| 13/13 [00:03<00:00,  3.38it/s]\n",
      "                 Class     Images  Instances      Box(P          R      mAP50  mAP50-95): 100%|██████████| 3/3 [00:00<00:00,  3.84it/s]"
     ]
    },
    {
     "name": "stdout",
     "output_type": "stream",
     "text": [
      "                   all         87       1138      0.659      0.794       0.79       0.49\n"
     ]
    },
    {
     "name": "stderr",
     "output_type": "stream",
     "text": [
      "\n"
     ]
    },
    {
     "name": "stdout",
     "output_type": "stream",
     "text": [
      "\n",
      "      Epoch    GPU_mem   box_loss   cls_loss   dfl_loss  Instances       Size\n"
     ]
    },
    {
     "name": "stderr",
     "output_type": "stream",
     "text": [
      "     32/100      5.88G      3.021      2.255      2.658        371        640: 100%|██████████| 13/13 [00:03<00:00,  3.41it/s]\n",
      "                 Class     Images  Instances      Box(P          R      mAP50  mAP50-95): 100%|██████████| 3/3 [00:00<00:00,  3.87it/s]"
     ]
    },
    {
     "name": "stdout",
     "output_type": "stream",
     "text": [
      "                   all         87       1138      0.678      0.717      0.755      0.438\n"
     ]
    },
    {
     "name": "stderr",
     "output_type": "stream",
     "text": [
      "\n"
     ]
    },
    {
     "name": "stdout",
     "output_type": "stream",
     "text": [
      "\n",
      "      Epoch    GPU_mem   box_loss   cls_loss   dfl_loss  Instances       Size\n"
     ]
    },
    {
     "name": "stderr",
     "output_type": "stream",
     "text": [
      "     33/100      5.88G      2.926      2.179      2.618        431        640: 100%|██████████| 13/13 [00:03<00:00,  3.47it/s]\n",
      "                 Class     Images  Instances      Box(P          R      mAP50  mAP50-95): 100%|██████████| 3/3 [00:00<00:00,  3.96it/s]"
     ]
    },
    {
     "name": "stdout",
     "output_type": "stream",
     "text": [
      "                   all         87       1138      0.501      0.663      0.594      0.329\n"
     ]
    },
    {
     "name": "stderr",
     "output_type": "stream",
     "text": [
      "\n"
     ]
    },
    {
     "name": "stdout",
     "output_type": "stream",
     "text": [
      "\n",
      "      Epoch    GPU_mem   box_loss   cls_loss   dfl_loss  Instances       Size\n"
     ]
    },
    {
     "name": "stderr",
     "output_type": "stream",
     "text": [
      "     34/100      5.88G      3.073      2.191      2.689        322        640: 100%|██████████| 13/13 [00:03<00:00,  3.47it/s]\n",
      "                 Class     Images  Instances      Box(P          R      mAP50  mAP50-95): 100%|██████████| 3/3 [00:00<00:00,  4.00it/s]"
     ]
    },
    {
     "name": "stdout",
     "output_type": "stream",
     "text": [
      "                   all         87       1138      0.553       0.61      0.589        0.3\n"
     ]
    },
    {
     "name": "stderr",
     "output_type": "stream",
     "text": [
      "\n"
     ]
    },
    {
     "name": "stdout",
     "output_type": "stream",
     "text": [
      "\n",
      "      Epoch    GPU_mem   box_loss   cls_loss   dfl_loss  Instances       Size\n"
     ]
    },
    {
     "name": "stderr",
     "output_type": "stream",
     "text": [
      "     35/100      5.88G      3.026      2.209      2.668        365        640: 100%|██████████| 13/13 [00:03<00:00,  3.50it/s]\n",
      "                 Class     Images  Instances      Box(P          R      mAP50  mAP50-95): 100%|██████████| 3/3 [00:00<00:00,  3.82it/s]"
     ]
    },
    {
     "name": "stdout",
     "output_type": "stream",
     "text": [
      "                   all         87       1138      0.629       0.81      0.763       0.46\n"
     ]
    },
    {
     "name": "stderr",
     "output_type": "stream",
     "text": [
      "\n"
     ]
    },
    {
     "name": "stdout",
     "output_type": "stream",
     "text": [
      "\n",
      "      Epoch    GPU_mem   box_loss   cls_loss   dfl_loss  Instances       Size\n"
     ]
    },
    {
     "name": "stderr",
     "output_type": "stream",
     "text": [
      "     36/100      5.88G      2.911       2.13      2.599        380        640: 100%|██████████| 13/13 [00:03<00:00,  3.39it/s]\n",
      "                 Class     Images  Instances      Box(P          R      mAP50  mAP50-95): 100%|██████████| 3/3 [00:00<00:00,  4.23it/s]"
     ]
    },
    {
     "name": "stdout",
     "output_type": "stream",
     "text": [
      "                   all         87       1138      0.605      0.693      0.652      0.352\n"
     ]
    },
    {
     "name": "stderr",
     "output_type": "stream",
     "text": [
      "\n"
     ]
    },
    {
     "name": "stdout",
     "output_type": "stream",
     "text": [
      "\n",
      "      Epoch    GPU_mem   box_loss   cls_loss   dfl_loss  Instances       Size\n"
     ]
    },
    {
     "name": "stderr",
     "output_type": "stream",
     "text": [
      "     37/100      5.88G      2.895      2.117      2.595        333        640: 100%|██████████| 13/13 [00:03<00:00,  3.61it/s]\n",
      "                 Class     Images  Instances      Box(P          R      mAP50  mAP50-95): 100%|██████████| 3/3 [00:00<00:00,  4.21it/s]"
     ]
    },
    {
     "name": "stdout",
     "output_type": "stream",
     "text": [
      "                   all         87       1138      0.733      0.753      0.817      0.469\n"
     ]
    },
    {
     "name": "stderr",
     "output_type": "stream",
     "text": [
      "\n"
     ]
    },
    {
     "name": "stdout",
     "output_type": "stream",
     "text": [
      "\n",
      "      Epoch    GPU_mem   box_loss   cls_loss   dfl_loss  Instances       Size\n"
     ]
    },
    {
     "name": "stderr",
     "output_type": "stream",
     "text": [
      "     38/100      5.88G      2.831      2.005      2.554        324        640: 100%|██████████| 13/13 [00:03<00:00,  3.66it/s]\n",
      "                 Class     Images  Instances      Box(P          R      mAP50  mAP50-95): 100%|██████████| 3/3 [00:00<00:00,  4.24it/s]"
     ]
    },
    {
     "name": "stdout",
     "output_type": "stream",
     "text": [
      "                   all         87       1138      0.669      0.735      0.756      0.447\n"
     ]
    },
    {
     "name": "stderr",
     "output_type": "stream",
     "text": [
      "\n"
     ]
    },
    {
     "name": "stdout",
     "output_type": "stream",
     "text": [
      "\n",
      "      Epoch    GPU_mem   box_loss   cls_loss   dfl_loss  Instances       Size\n"
     ]
    },
    {
     "name": "stderr",
     "output_type": "stream",
     "text": [
      "     39/100      5.88G      2.806      1.922      2.554        361        640: 100%|██████████| 13/13 [00:03<00:00,  3.69it/s]\n",
      "                 Class     Images  Instances      Box(P          R      mAP50  mAP50-95): 100%|██████████| 3/3 [00:00<00:00,  4.28it/s]"
     ]
    },
    {
     "name": "stdout",
     "output_type": "stream",
     "text": [
      "                   all         87       1138      0.737      0.813      0.826      0.513\n"
     ]
    },
    {
     "name": "stderr",
     "output_type": "stream",
     "text": [
      "\n"
     ]
    },
    {
     "name": "stdout",
     "output_type": "stream",
     "text": [
      "\n",
      "      Epoch    GPU_mem   box_loss   cls_loss   dfl_loss  Instances       Size\n"
     ]
    },
    {
     "name": "stderr",
     "output_type": "stream",
     "text": [
      "     40/100      5.88G      2.855      2.037      2.567        393        640: 100%|██████████| 13/13 [00:03<00:00,  3.56it/s]\n",
      "                 Class     Images  Instances      Box(P          R      mAP50  mAP50-95): 100%|██████████| 3/3 [00:00<00:00,  4.29it/s]"
     ]
    },
    {
     "name": "stdout",
     "output_type": "stream",
     "text": [
      "                   all         87       1138      0.757      0.774      0.816      0.503\n"
     ]
    },
    {
     "name": "stderr",
     "output_type": "stream",
     "text": [
      "\n"
     ]
    },
    {
     "name": "stdout",
     "output_type": "stream",
     "text": [
      "\n",
      "      Epoch    GPU_mem   box_loss   cls_loss   dfl_loss  Instances       Size\n"
     ]
    },
    {
     "name": "stderr",
     "output_type": "stream",
     "text": [
      "     41/100      5.88G      2.807      1.947      2.518        312        640: 100%|██████████| 13/13 [00:03<00:00,  3.58it/s]\n",
      "                 Class     Images  Instances      Box(P          R      mAP50  mAP50-95): 100%|██████████| 3/3 [00:00<00:00,  4.17it/s]"
     ]
    },
    {
     "name": "stdout",
     "output_type": "stream",
     "text": [
      "                   all         87       1138      0.701      0.834      0.831      0.524\n"
     ]
    },
    {
     "name": "stderr",
     "output_type": "stream",
     "text": [
      "\n"
     ]
    },
    {
     "name": "stdout",
     "output_type": "stream",
     "text": [
      "\n",
      "      Epoch    GPU_mem   box_loss   cls_loss   dfl_loss  Instances       Size\n"
     ]
    },
    {
     "name": "stderr",
     "output_type": "stream",
     "text": [
      "     42/100      5.88G      2.843      1.985      2.535        469        640: 100%|██████████| 13/13 [00:03<00:00,  3.60it/s]\n",
      "                 Class     Images  Instances      Box(P          R      mAP50  mAP50-95): 100%|██████████| 3/3 [00:00<00:00,  4.27it/s]"
     ]
    },
    {
     "name": "stdout",
     "output_type": "stream",
     "text": [
      "                   all         87       1138      0.761      0.837      0.841      0.522\n"
     ]
    },
    {
     "name": "stderr",
     "output_type": "stream",
     "text": [
      "\n"
     ]
    },
    {
     "name": "stdout",
     "output_type": "stream",
     "text": [
      "\n",
      "      Epoch    GPU_mem   box_loss   cls_loss   dfl_loss  Instances       Size\n"
     ]
    },
    {
     "name": "stderr",
     "output_type": "stream",
     "text": [
      "     43/100      5.88G      2.822      1.975      2.537        370        640: 100%|██████████| 13/13 [00:03<00:00,  3.55it/s]\n",
      "                 Class     Images  Instances      Box(P          R      mAP50  mAP50-95): 100%|██████████| 3/3 [00:00<00:00,  3.77it/s]"
     ]
    },
    {
     "name": "stdout",
     "output_type": "stream",
     "text": [
      "                   all         87       1138      0.771      0.829      0.845      0.525\n"
     ]
    },
    {
     "name": "stderr",
     "output_type": "stream",
     "text": [
      "\n"
     ]
    },
    {
     "name": "stdout",
     "output_type": "stream",
     "text": [
      "\n",
      "      Epoch    GPU_mem   box_loss   cls_loss   dfl_loss  Instances       Size\n"
     ]
    },
    {
     "name": "stderr",
     "output_type": "stream",
     "text": [
      "     44/100      5.88G      2.797      1.979       2.54        365        640: 100%|██████████| 13/13 [00:03<00:00,  3.32it/s]\n",
      "                 Class     Images  Instances      Box(P          R      mAP50  mAP50-95): 100%|██████████| 3/3 [00:00<00:00,  3.92it/s]"
     ]
    },
    {
     "name": "stdout",
     "output_type": "stream",
     "text": [
      "                   all         87       1138      0.773        0.8      0.841      0.507\n"
     ]
    },
    {
     "name": "stderr",
     "output_type": "stream",
     "text": [
      "\n"
     ]
    },
    {
     "name": "stdout",
     "output_type": "stream",
     "text": [
      "\n",
      "      Epoch    GPU_mem   box_loss   cls_loss   dfl_loss  Instances       Size\n"
     ]
    },
    {
     "name": "stderr",
     "output_type": "stream",
     "text": [
      "     45/100      5.88G      2.814      1.902      2.556        317        640: 100%|██████████| 13/13 [00:03<00:00,  3.53it/s]\n",
      "                 Class     Images  Instances      Box(P          R      mAP50  mAP50-95): 100%|██████████| 3/3 [00:00<00:00,  4.12it/s]"
     ]
    },
    {
     "name": "stdout",
     "output_type": "stream",
     "text": [
      "                   all         87       1138      0.759      0.812      0.823       0.49\n"
     ]
    },
    {
     "name": "stderr",
     "output_type": "stream",
     "text": [
      "\n"
     ]
    },
    {
     "name": "stdout",
     "output_type": "stream",
     "text": [
      "\n",
      "      Epoch    GPU_mem   box_loss   cls_loss   dfl_loss  Instances       Size\n"
     ]
    },
    {
     "name": "stderr",
     "output_type": "stream",
     "text": [
      "     46/100      5.88G      2.853       2.04      2.584        389        640: 100%|██████████| 13/13 [00:03<00:00,  3.54it/s]\n",
      "                 Class     Images  Instances      Box(P          R      mAP50  mAP50-95): 100%|██████████| 3/3 [00:00<00:00,  4.13it/s]"
     ]
    },
    {
     "name": "stdout",
     "output_type": "stream",
     "text": [
      "                   all         87       1138       0.72      0.817      0.824      0.504\n"
     ]
    },
    {
     "name": "stderr",
     "output_type": "stream",
     "text": [
      "\n"
     ]
    },
    {
     "name": "stdout",
     "output_type": "stream",
     "text": [
      "\n",
      "      Epoch    GPU_mem   box_loss   cls_loss   dfl_loss  Instances       Size\n"
     ]
    },
    {
     "name": "stderr",
     "output_type": "stream",
     "text": [
      "     47/100      5.88G      2.886       2.06       2.62        267        640: 100%|██████████| 13/13 [00:03<00:00,  3.56it/s]\n",
      "                 Class     Images  Instances      Box(P          R      mAP50  mAP50-95): 100%|██████████| 3/3 [00:00<00:00,  4.16it/s]"
     ]
    },
    {
     "name": "stdout",
     "output_type": "stream",
     "text": [
      "                   all         87       1138      0.781        0.8      0.836      0.515\n"
     ]
    },
    {
     "name": "stderr",
     "output_type": "stream",
     "text": [
      "\n"
     ]
    },
    {
     "name": "stdout",
     "output_type": "stream",
     "text": [
      "\n",
      "      Epoch    GPU_mem   box_loss   cls_loss   dfl_loss  Instances       Size\n"
     ]
    },
    {
     "name": "stderr",
     "output_type": "stream",
     "text": [
      "     48/100      5.88G      2.773      1.922      2.525        421        640: 100%|██████████| 13/13 [00:03<00:00,  3.44it/s]\n",
      "                 Class     Images  Instances      Box(P          R      mAP50  mAP50-95): 100%|██████████| 3/3 [00:00<00:00,  4.15it/s]"
     ]
    },
    {
     "name": "stdout",
     "output_type": "stream",
     "text": [
      "                   all         87       1138      0.725      0.835      0.848      0.519\n"
     ]
    },
    {
     "name": "stderr",
     "output_type": "stream",
     "text": [
      "\n"
     ]
    },
    {
     "name": "stdout",
     "output_type": "stream",
     "text": [
      "\n",
      "      Epoch    GPU_mem   box_loss   cls_loss   dfl_loss  Instances       Size\n"
     ]
    },
    {
     "name": "stderr",
     "output_type": "stream",
     "text": [
      "     49/100      5.88G      2.815      1.942      2.553        359        640: 100%|██████████| 13/13 [00:03<00:00,  3.55it/s]\n",
      "                 Class     Images  Instances      Box(P          R      mAP50  mAP50-95): 100%|██████████| 3/3 [00:00<00:00,  4.15it/s]"
     ]
    },
    {
     "name": "stdout",
     "output_type": "stream",
     "text": [
      "                   all         87       1138      0.726      0.819      0.835      0.527\n"
     ]
    },
    {
     "name": "stderr",
     "output_type": "stream",
     "text": [
      "\n"
     ]
    },
    {
     "name": "stdout",
     "output_type": "stream",
     "text": [
      "\n",
      "      Epoch    GPU_mem   box_loss   cls_loss   dfl_loss  Instances       Size\n"
     ]
    },
    {
     "name": "stderr",
     "output_type": "stream",
     "text": [
      "     50/100      5.88G      2.858      2.033      2.591        410        640: 100%|██████████| 13/13 [00:03<00:00,  3.69it/s]\n",
      "                 Class     Images  Instances      Box(P          R      mAP50  mAP50-95): 100%|██████████| 3/3 [00:00<00:00,  4.43it/s]"
     ]
    },
    {
     "name": "stdout",
     "output_type": "stream",
     "text": [
      "                   all         87       1138      0.772      0.808      0.827      0.515\n"
     ]
    },
    {
     "name": "stderr",
     "output_type": "stream",
     "text": [
      "\n"
     ]
    },
    {
     "name": "stdout",
     "output_type": "stream",
     "text": [
      "\n",
      "      Epoch    GPU_mem   box_loss   cls_loss   dfl_loss  Instances       Size\n"
     ]
    },
    {
     "name": "stderr",
     "output_type": "stream",
     "text": [
      "     51/100      5.88G      2.733       1.93      2.497        343        640: 100%|██████████| 13/13 [00:03<00:00,  3.69it/s]\n",
      "                 Class     Images  Instances      Box(P          R      mAP50  mAP50-95): 100%|██████████| 3/3 [00:00<00:00,  4.17it/s]"
     ]
    },
    {
     "name": "stdout",
     "output_type": "stream",
     "text": [
      "                   all         87       1138      0.758      0.804      0.814      0.517\n"
     ]
    },
    {
     "name": "stderr",
     "output_type": "stream",
     "text": [
      "\n"
     ]
    },
    {
     "name": "stdout",
     "output_type": "stream",
     "text": [
      "\n",
      "      Epoch    GPU_mem   box_loss   cls_loss   dfl_loss  Instances       Size\n"
     ]
    },
    {
     "name": "stderr",
     "output_type": "stream",
     "text": [
      "     52/100      5.88G      2.777      1.886       2.52        304        640: 100%|██████████| 13/13 [00:03<00:00,  3.53it/s]\n",
      "                 Class     Images  Instances      Box(P          R      mAP50  mAP50-95): 100%|██████████| 3/3 [00:00<00:00,  4.36it/s]"
     ]
    },
    {
     "name": "stdout",
     "output_type": "stream",
     "text": [
      "                   all         87       1138      0.733      0.798      0.816      0.505\n"
     ]
    },
    {
     "name": "stderr",
     "output_type": "stream",
     "text": [
      "\n"
     ]
    },
    {
     "name": "stdout",
     "output_type": "stream",
     "text": [
      "\n",
      "      Epoch    GPU_mem   box_loss   cls_loss   dfl_loss  Instances       Size\n"
     ]
    },
    {
     "name": "stderr",
     "output_type": "stream",
     "text": [
      "     53/100      5.88G      2.723      1.886      2.505        308        640: 100%|██████████| 13/13 [00:03<00:00,  3.55it/s]\n",
      "                 Class     Images  Instances      Box(P          R      mAP50  mAP50-95): 100%|██████████| 3/3 [00:00<00:00,  4.29it/s]"
     ]
    },
    {
     "name": "stdout",
     "output_type": "stream",
     "text": [
      "                   all         87       1138      0.802      0.761      0.838      0.517\n"
     ]
    },
    {
     "name": "stderr",
     "output_type": "stream",
     "text": [
      "\n"
     ]
    },
    {
     "name": "stdout",
     "output_type": "stream",
     "text": [
      "\n",
      "      Epoch    GPU_mem   box_loss   cls_loss   dfl_loss  Instances       Size\n"
     ]
    },
    {
     "name": "stderr",
     "output_type": "stream",
     "text": [
      "     54/100      5.88G      2.748        1.9      2.527        250        640: 100%|██████████| 13/13 [00:03<00:00,  3.49it/s]\n",
      "                 Class     Images  Instances      Box(P          R      mAP50  mAP50-95): 100%|██████████| 3/3 [00:00<00:00,  4.07it/s]"
     ]
    },
    {
     "name": "stdout",
     "output_type": "stream",
     "text": [
      "                   all         87       1138      0.783      0.814      0.827      0.502\n"
     ]
    },
    {
     "name": "stderr",
     "output_type": "stream",
     "text": [
      "\n"
     ]
    },
    {
     "name": "stdout",
     "output_type": "stream",
     "text": [
      "\n",
      "      Epoch    GPU_mem   box_loss   cls_loss   dfl_loss  Instances       Size\n"
     ]
    },
    {
     "name": "stderr",
     "output_type": "stream",
     "text": [
      "     55/100      5.88G      2.754      1.898       2.52        296        640: 100%|██████████| 13/13 [00:03<00:00,  3.61it/s]\n",
      "                 Class     Images  Instances      Box(P          R      mAP50  mAP50-95): 100%|██████████| 3/3 [00:00<00:00,  4.42it/s]"
     ]
    },
    {
     "name": "stdout",
     "output_type": "stream",
     "text": [
      "                   all         87       1138      0.791      0.796      0.839      0.527\n"
     ]
    },
    {
     "name": "stderr",
     "output_type": "stream",
     "text": [
      "\n"
     ]
    },
    {
     "name": "stdout",
     "output_type": "stream",
     "text": [
      "\n",
      "      Epoch    GPU_mem   box_loss   cls_loss   dfl_loss  Instances       Size\n"
     ]
    },
    {
     "name": "stderr",
     "output_type": "stream",
     "text": [
      "     56/100      5.88G      2.728      1.897       2.51        363        640: 100%|██████████| 13/13 [00:03<00:00,  3.60it/s]\n",
      "                 Class     Images  Instances      Box(P          R      mAP50  mAP50-95): 100%|██████████| 3/3 [00:00<00:00,  4.26it/s]"
     ]
    },
    {
     "name": "stdout",
     "output_type": "stream",
     "text": [
      "                   all         87       1138      0.774      0.818      0.841      0.516\n"
     ]
    },
    {
     "name": "stderr",
     "output_type": "stream",
     "text": [
      "\n"
     ]
    },
    {
     "name": "stdout",
     "output_type": "stream",
     "text": [
      "\n",
      "      Epoch    GPU_mem   box_loss   cls_loss   dfl_loss  Instances       Size\n"
     ]
    },
    {
     "name": "stderr",
     "output_type": "stream",
     "text": [
      "     57/100      5.88G      2.765      1.917      2.566        333        640: 100%|██████████| 13/13 [00:03<00:00,  3.62it/s]\n",
      "                 Class     Images  Instances      Box(P          R      mAP50  mAP50-95): 100%|██████████| 3/3 [00:00<00:00,  4.28it/s]"
     ]
    },
    {
     "name": "stdout",
     "output_type": "stream",
     "text": [
      "                   all         87       1138      0.773      0.842      0.862      0.543\n"
     ]
    },
    {
     "name": "stderr",
     "output_type": "stream",
     "text": [
      "\n"
     ]
    },
    {
     "name": "stdout",
     "output_type": "stream",
     "text": [
      "\n",
      "      Epoch    GPU_mem   box_loss   cls_loss   dfl_loss  Instances       Size\n"
     ]
    },
    {
     "name": "stderr",
     "output_type": "stream",
     "text": [
      "     58/100      5.88G      2.719      1.912      2.521        325        640: 100%|██████████| 13/13 [00:03<00:00,  3.64it/s]\n",
      "                 Class     Images  Instances      Box(P          R      mAP50  mAP50-95): 100%|██████████| 3/3 [00:00<00:00,  4.16it/s]"
     ]
    },
    {
     "name": "stdout",
     "output_type": "stream",
     "text": [
      "                   all         87       1138      0.831      0.768      0.845      0.537\n"
     ]
    },
    {
     "name": "stderr",
     "output_type": "stream",
     "text": [
      "\n"
     ]
    },
    {
     "name": "stdout",
     "output_type": "stream",
     "text": [
      "\n",
      "      Epoch    GPU_mem   box_loss   cls_loss   dfl_loss  Instances       Size\n"
     ]
    },
    {
     "name": "stderr",
     "output_type": "stream",
     "text": [
      "     59/100      5.88G       2.63        1.8      2.477        420        640: 100%|██████████| 13/13 [00:03<00:00,  3.61it/s]\n",
      "                 Class     Images  Instances      Box(P          R      mAP50  mAP50-95): 100%|██████████| 3/3 [00:00<00:00,  4.33it/s]"
     ]
    },
    {
     "name": "stdout",
     "output_type": "stream",
     "text": [
      "                   all         87       1138      0.809      0.826      0.879      0.543\n"
     ]
    },
    {
     "name": "stderr",
     "output_type": "stream",
     "text": [
      "\n"
     ]
    },
    {
     "name": "stdout",
     "output_type": "stream",
     "text": [
      "\n",
      "      Epoch    GPU_mem   box_loss   cls_loss   dfl_loss  Instances       Size\n"
     ]
    },
    {
     "name": "stderr",
     "output_type": "stream",
     "text": [
      "     60/100      5.88G      2.648      1.795      2.492        357        640: 100%|██████████| 13/13 [00:03<00:00,  3.56it/s]\n",
      "                 Class     Images  Instances      Box(P          R      mAP50  mAP50-95): 100%|██████████| 3/3 [00:00<00:00,  4.44it/s]"
     ]
    },
    {
     "name": "stdout",
     "output_type": "stream",
     "text": [
      "                   all         87       1138      0.771      0.807      0.835       0.52\n"
     ]
    },
    {
     "name": "stderr",
     "output_type": "stream",
     "text": [
      "\n"
     ]
    },
    {
     "name": "stdout",
     "output_type": "stream",
     "text": [
      "\n",
      "      Epoch    GPU_mem   box_loss   cls_loss   dfl_loss  Instances       Size\n"
     ]
    },
    {
     "name": "stderr",
     "output_type": "stream",
     "text": [
      "     61/100      5.88G      2.659      1.787      2.471        322        640: 100%|██████████| 13/13 [00:03<00:00,  3.66it/s]\n",
      "                 Class     Images  Instances      Box(P          R      mAP50  mAP50-95): 100%|██████████| 3/3 [00:00<00:00,  4.33it/s]\n"
     ]
    },
    {
     "name": "stdout",
     "output_type": "stream",
     "text": [
      "                   all         87       1138      0.764      0.816      0.848      0.515\n",
      "\n",
      "      Epoch    GPU_mem   box_loss   cls_loss   dfl_loss  Instances       Size\n"
     ]
    },
    {
     "name": "stderr",
     "output_type": "stream",
     "text": [
      "     62/100      5.88G      2.769      1.817       2.51        471        640: 100%|██████████| 13/13 [00:03<00:00,  3.65it/s]\n",
      "                 Class     Images  Instances      Box(P          R      mAP50  mAP50-95): 100%|██████████| 3/3 [00:00<00:00,  4.33it/s]"
     ]
    },
    {
     "name": "stdout",
     "output_type": "stream",
     "text": [
      "                   all         87       1138      0.741      0.866      0.851      0.546\n"
     ]
    },
    {
     "name": "stderr",
     "output_type": "stream",
     "text": [
      "\n"
     ]
    },
    {
     "name": "stdout",
     "output_type": "stream",
     "text": [
      "\n",
      "      Epoch    GPU_mem   box_loss   cls_loss   dfl_loss  Instances       Size\n"
     ]
    },
    {
     "name": "stderr",
     "output_type": "stream",
     "text": [
      "     63/100      5.88G       2.71       1.87      2.514        505        640: 100%|██████████| 13/13 [00:03<00:00,  3.61it/s]\n",
      "                 Class     Images  Instances      Box(P          R      mAP50  mAP50-95): 100%|██████████| 3/3 [00:00<00:00,  4.32it/s]"
     ]
    },
    {
     "name": "stdout",
     "output_type": "stream",
     "text": [
      "                   all         87       1138      0.764      0.829      0.824      0.517\n"
     ]
    },
    {
     "name": "stderr",
     "output_type": "stream",
     "text": [
      "\n"
     ]
    },
    {
     "name": "stdout",
     "output_type": "stream",
     "text": [
      "\n",
      "      Epoch    GPU_mem   box_loss   cls_loss   dfl_loss  Instances       Size\n"
     ]
    },
    {
     "name": "stderr",
     "output_type": "stream",
     "text": [
      "     64/100      5.88G      2.747        1.9      2.526        314        640: 100%|██████████| 13/13 [00:03<00:00,  3.54it/s]\n",
      "                 Class     Images  Instances      Box(P          R      mAP50  mAP50-95): 100%|██████████| 3/3 [00:00<00:00,  4.27it/s]"
     ]
    },
    {
     "name": "stdout",
     "output_type": "stream",
     "text": [
      "                   all         87       1138      0.774      0.808      0.827      0.523\n"
     ]
    },
    {
     "name": "stderr",
     "output_type": "stream",
     "text": [
      "\n"
     ]
    },
    {
     "name": "stdout",
     "output_type": "stream",
     "text": [
      "\n",
      "      Epoch    GPU_mem   box_loss   cls_loss   dfl_loss  Instances       Size\n"
     ]
    },
    {
     "name": "stderr",
     "output_type": "stream",
     "text": [
      "     65/100      5.88G      2.655      1.812      2.461        321        640: 100%|██████████| 13/13 [00:03<00:00,  3.56it/s]\n",
      "                 Class     Images  Instances      Box(P          R      mAP50  mAP50-95): 100%|██████████| 3/3 [00:00<00:00,  4.22it/s]"
     ]
    },
    {
     "name": "stdout",
     "output_type": "stream",
     "text": [
      "                   all         87       1138      0.768       0.87      0.859      0.549\n"
     ]
    },
    {
     "name": "stderr",
     "output_type": "stream",
     "text": [
      "\n"
     ]
    },
    {
     "name": "stdout",
     "output_type": "stream",
     "text": [
      "\n",
      "      Epoch    GPU_mem   box_loss   cls_loss   dfl_loss  Instances       Size\n"
     ]
    },
    {
     "name": "stderr",
     "output_type": "stream",
     "text": [
      "     66/100      5.88G      2.635      1.783      2.467        306        640: 100%|██████████| 13/13 [00:03<00:00,  3.62it/s]\n",
      "                 Class     Images  Instances      Box(P          R      mAP50  mAP50-95): 100%|██████████| 3/3 [00:00<00:00,  4.22it/s]"
     ]
    },
    {
     "name": "stdout",
     "output_type": "stream",
     "text": [
      "                   all         87       1138      0.801      0.812      0.856      0.522\n"
     ]
    },
    {
     "name": "stderr",
     "output_type": "stream",
     "text": [
      "\n"
     ]
    },
    {
     "name": "stdout",
     "output_type": "stream",
     "text": [
      "\n",
      "      Epoch    GPU_mem   box_loss   cls_loss   dfl_loss  Instances       Size\n"
     ]
    },
    {
     "name": "stderr",
     "output_type": "stream",
     "text": [
      "     67/100      5.88G      2.564      1.757      2.421        335        640: 100%|██████████| 13/13 [00:03<00:00,  3.44it/s]\n",
      "                 Class     Images  Instances      Box(P          R      mAP50  mAP50-95): 100%|██████████| 3/3 [00:00<00:00,  3.77it/s]"
     ]
    },
    {
     "name": "stdout",
     "output_type": "stream",
     "text": [
      "                   all         87       1138      0.798      0.814       0.86      0.559\n"
     ]
    },
    {
     "name": "stderr",
     "output_type": "stream",
     "text": [
      "\n"
     ]
    },
    {
     "name": "stdout",
     "output_type": "stream",
     "text": [
      "\n",
      "      Epoch    GPU_mem   box_loss   cls_loss   dfl_loss  Instances       Size\n"
     ]
    },
    {
     "name": "stderr",
     "output_type": "stream",
     "text": [
      "     68/100      5.88G      2.585      1.673      2.396        410        640: 100%|██████████| 13/13 [00:03<00:00,  3.30it/s]\n",
      "                 Class     Images  Instances      Box(P          R      mAP50  mAP50-95): 100%|██████████| 3/3 [00:00<00:00,  3.98it/s]"
     ]
    },
    {
     "name": "stdout",
     "output_type": "stream",
     "text": [
      "                   all         87       1138      0.812       0.81      0.866       0.56\n"
     ]
    },
    {
     "name": "stderr",
     "output_type": "stream",
     "text": [
      "\n"
     ]
    },
    {
     "name": "stdout",
     "output_type": "stream",
     "text": [
      "\n",
      "      Epoch    GPU_mem   box_loss   cls_loss   dfl_loss  Instances       Size\n"
     ]
    },
    {
     "name": "stderr",
     "output_type": "stream",
     "text": [
      "     69/100      5.88G      2.578      1.689      2.409        332        640: 100%|██████████| 13/13 [00:03<00:00,  3.47it/s]\n",
      "                 Class     Images  Instances      Box(P          R      mAP50  mAP50-95): 100%|██████████| 3/3 [00:00<00:00,  3.89it/s]"
     ]
    },
    {
     "name": "stdout",
     "output_type": "stream",
     "text": [
      "                   all         87       1138      0.831      0.791      0.852      0.517\n"
     ]
    },
    {
     "name": "stderr",
     "output_type": "stream",
     "text": [
      "\n"
     ]
    },
    {
     "name": "stdout",
     "output_type": "stream",
     "text": [
      "\n",
      "      Epoch    GPU_mem   box_loss   cls_loss   dfl_loss  Instances       Size\n"
     ]
    },
    {
     "name": "stderr",
     "output_type": "stream",
     "text": [
      "     70/100      5.88G      2.599      1.686      2.426        328        640: 100%|██████████| 13/13 [00:03<00:00,  3.47it/s]\n",
      "                 Class     Images  Instances      Box(P          R      mAP50  mAP50-95): 100%|██████████| 3/3 [00:00<00:00,  4.08it/s]"
     ]
    },
    {
     "name": "stdout",
     "output_type": "stream",
     "text": [
      "                   all         87       1138      0.774      0.837      0.845      0.553\n"
     ]
    },
    {
     "name": "stderr",
     "output_type": "stream",
     "text": [
      "\n"
     ]
    },
    {
     "name": "stdout",
     "output_type": "stream",
     "text": [
      "\n",
      "      Epoch    GPU_mem   box_loss   cls_loss   dfl_loss  Instances       Size\n"
     ]
    },
    {
     "name": "stderr",
     "output_type": "stream",
     "text": [
      "     71/100      5.88G      2.612      1.718      2.448        245        640: 100%|██████████| 13/13 [00:03<00:00,  3.52it/s]\n",
      "                 Class     Images  Instances      Box(P          R      mAP50  mAP50-95): 100%|██████████| 3/3 [00:00<00:00,  4.07it/s]"
     ]
    },
    {
     "name": "stdout",
     "output_type": "stream",
     "text": [
      "                   all         87       1138      0.771      0.836      0.821       0.53\n"
     ]
    },
    {
     "name": "stderr",
     "output_type": "stream",
     "text": [
      "\n"
     ]
    },
    {
     "name": "stdout",
     "output_type": "stream",
     "text": [
      "\n",
      "      Epoch    GPU_mem   box_loss   cls_loss   dfl_loss  Instances       Size\n"
     ]
    },
    {
     "name": "stderr",
     "output_type": "stream",
     "text": [
      "     72/100      5.88G      2.497      1.619      2.384        325        640: 100%|██████████| 13/13 [00:03<00:00,  3.32it/s]\n",
      "                 Class     Images  Instances      Box(P          R      mAP50  mAP50-95): 100%|██████████| 3/3 [00:00<00:00,  3.99it/s]"
     ]
    },
    {
     "name": "stdout",
     "output_type": "stream",
     "text": [
      "                   all         87       1138        0.8      0.827      0.864      0.567\n"
     ]
    },
    {
     "name": "stderr",
     "output_type": "stream",
     "text": [
      "\n"
     ]
    },
    {
     "name": "stdout",
     "output_type": "stream",
     "text": [
      "\n",
      "      Epoch    GPU_mem   box_loss   cls_loss   dfl_loss  Instances       Size\n"
     ]
    },
    {
     "name": "stderr",
     "output_type": "stream",
     "text": [
      "     73/100      5.88G      2.493      1.679      2.418        358        640: 100%|██████████| 13/13 [00:03<00:00,  3.59it/s]\n",
      "                 Class     Images  Instances      Box(P          R      mAP50  mAP50-95): 100%|██████████| 3/3 [00:00<00:00,  4.28it/s]\n"
     ]
    },
    {
     "name": "stdout",
     "output_type": "stream",
     "text": [
      "                   all         87       1138       0.79      0.843      0.864       0.55\n",
      "\n",
      "      Epoch    GPU_mem   box_loss   cls_loss   dfl_loss  Instances       Size\n"
     ]
    },
    {
     "name": "stderr",
     "output_type": "stream",
     "text": [
      "     74/100      5.88G      2.545      1.665      2.411        408        640: 100%|██████████| 13/13 [00:03<00:00,  3.65it/s]\n",
      "                 Class     Images  Instances      Box(P          R      mAP50  mAP50-95): 100%|██████████| 3/3 [00:00<00:00,  4.40it/s]\n"
     ]
    },
    {
     "name": "stdout",
     "output_type": "stream",
     "text": [
      "                   all         87       1138      0.801      0.813      0.855      0.532\n",
      "\n",
      "      Epoch    GPU_mem   box_loss   cls_loss   dfl_loss  Instances       Size\n"
     ]
    },
    {
     "name": "stderr",
     "output_type": "stream",
     "text": [
      "     75/100      5.88G      2.593       1.73      2.405        362        640: 100%|██████████| 13/13 [00:03<00:00,  3.69it/s]\n",
      "                 Class     Images  Instances      Box(P          R      mAP50  mAP50-95): 100%|██████████| 3/3 [00:00<00:00,  4.18it/s]"
     ]
    },
    {
     "name": "stdout",
     "output_type": "stream",
     "text": [
      "                   all         87       1138      0.786      0.829      0.861      0.559\n"
     ]
    },
    {
     "name": "stderr",
     "output_type": "stream",
     "text": [
      "\n"
     ]
    },
    {
     "name": "stdout",
     "output_type": "stream",
     "text": [
      "\n",
      "      Epoch    GPU_mem   box_loss   cls_loss   dfl_loss  Instances       Size\n"
     ]
    },
    {
     "name": "stderr",
     "output_type": "stream",
     "text": [
      "     76/100      5.88G      2.629      1.766      2.451        334        640: 100%|██████████| 13/13 [00:03<00:00,  3.65it/s]\n",
      "                 Class     Images  Instances      Box(P          R      mAP50  mAP50-95): 100%|██████████| 3/3 [00:00<00:00,  4.25it/s]"
     ]
    },
    {
     "name": "stdout",
     "output_type": "stream",
     "text": [
      "                   all         87       1138      0.788       0.84      0.862      0.554\n"
     ]
    },
    {
     "name": "stderr",
     "output_type": "stream",
     "text": [
      "\n"
     ]
    },
    {
     "name": "stdout",
     "output_type": "stream",
     "text": [
      "\n",
      "      Epoch    GPU_mem   box_loss   cls_loss   dfl_loss  Instances       Size\n"
     ]
    },
    {
     "name": "stderr",
     "output_type": "stream",
     "text": [
      "     77/100      5.88G      2.535      1.695      2.406        283        640: 100%|██████████| 13/13 [00:03<00:00,  3.49it/s]\n",
      "                 Class     Images  Instances      Box(P          R      mAP50  mAP50-95): 100%|██████████| 3/3 [00:00<00:00,  4.29it/s]"
     ]
    },
    {
     "name": "stdout",
     "output_type": "stream",
     "text": [
      "                   all         87       1138      0.805      0.797      0.835       0.49\n"
     ]
    },
    {
     "name": "stderr",
     "output_type": "stream",
     "text": [
      "\n"
     ]
    },
    {
     "name": "stdout",
     "output_type": "stream",
     "text": [
      "\n",
      "      Epoch    GPU_mem   box_loss   cls_loss   dfl_loss  Instances       Size\n"
     ]
    },
    {
     "name": "stderr",
     "output_type": "stream",
     "text": [
      "     78/100      5.88G      2.574      1.781      2.461        337        640: 100%|██████████| 13/13 [00:03<00:00,  3.61it/s]\n",
      "                 Class     Images  Instances      Box(P          R      mAP50  mAP50-95): 100%|██████████| 3/3 [00:00<00:00,  4.17it/s]"
     ]
    },
    {
     "name": "stdout",
     "output_type": "stream",
     "text": [
      "                   all         87       1138        0.8      0.816      0.865      0.567\n"
     ]
    },
    {
     "name": "stderr",
     "output_type": "stream",
     "text": [
      "\n"
     ]
    },
    {
     "name": "stdout",
     "output_type": "stream",
     "text": [
      "\n",
      "      Epoch    GPU_mem   box_loss   cls_loss   dfl_loss  Instances       Size\n"
     ]
    },
    {
     "name": "stderr",
     "output_type": "stream",
     "text": [
      "     79/100      5.88G      2.499      1.662        2.4        308        640: 100%|██████████| 13/13 [00:03<00:00,  3.63it/s]\n",
      "                 Class     Images  Instances      Box(P          R      mAP50  mAP50-95): 100%|██████████| 3/3 [00:00<00:00,  4.33it/s]"
     ]
    },
    {
     "name": "stdout",
     "output_type": "stream",
     "text": [
      "                   all         87       1138      0.774      0.807      0.844      0.554\n"
     ]
    },
    {
     "name": "stderr",
     "output_type": "stream",
     "text": [
      "\n"
     ]
    },
    {
     "name": "stdout",
     "output_type": "stream",
     "text": [
      "\n",
      "      Epoch    GPU_mem   box_loss   cls_loss   dfl_loss  Instances       Size\n"
     ]
    },
    {
     "name": "stderr",
     "output_type": "stream",
     "text": [
      "     80/100      5.88G      2.469      1.625      2.387        268        640: 100%|██████████| 13/13 [00:03<00:00,  3.56it/s]\n",
      "                 Class     Images  Instances      Box(P          R      mAP50  mAP50-95): 100%|██████████| 3/3 [00:00<00:00,  4.05it/s]"
     ]
    },
    {
     "name": "stdout",
     "output_type": "stream",
     "text": [
      "                   all         87       1138      0.801      0.838      0.863      0.555\n"
     ]
    },
    {
     "name": "stderr",
     "output_type": "stream",
     "text": [
      "\n"
     ]
    },
    {
     "name": "stdout",
     "output_type": "stream",
     "text": [
      "\n",
      "      Epoch    GPU_mem   box_loss   cls_loss   dfl_loss  Instances       Size\n"
     ]
    },
    {
     "name": "stderr",
     "output_type": "stream",
     "text": [
      "     81/100      5.88G      2.519      1.654      2.392        334        640: 100%|██████████| 13/13 [00:03<00:00,  3.54it/s]\n",
      "                 Class     Images  Instances      Box(P          R      mAP50  mAP50-95): 100%|██████████| 3/3 [00:00<00:00,  3.85it/s]"
     ]
    },
    {
     "name": "stdout",
     "output_type": "stream",
     "text": [
      "                   all         87       1138      0.795      0.831      0.865      0.554\n"
     ]
    },
    {
     "name": "stderr",
     "output_type": "stream",
     "text": [
      "\n"
     ]
    },
    {
     "name": "stdout",
     "output_type": "stream",
     "text": [
      "\n",
      "      Epoch    GPU_mem   box_loss   cls_loss   dfl_loss  Instances       Size\n"
     ]
    },
    {
     "name": "stderr",
     "output_type": "stream",
     "text": [
      "     82/100      5.88G      2.468      1.666      2.383        352        640: 100%|██████████| 13/13 [00:03<00:00,  3.42it/s]\n",
      "                 Class     Images  Instances      Box(P          R      mAP50  mAP50-95): 100%|██████████| 3/3 [00:00<00:00,  4.05it/s]"
     ]
    },
    {
     "name": "stdout",
     "output_type": "stream",
     "text": [
      "                   all         87       1138       0.81      0.831      0.849      0.541\n"
     ]
    },
    {
     "name": "stderr",
     "output_type": "stream",
     "text": [
      "\n"
     ]
    },
    {
     "name": "stdout",
     "output_type": "stream",
     "text": [
      "\n",
      "      Epoch    GPU_mem   box_loss   cls_loss   dfl_loss  Instances       Size\n"
     ]
    },
    {
     "name": "stderr",
     "output_type": "stream",
     "text": [
      "     83/100      5.88G      2.457       1.63      2.383        421        640: 100%|██████████| 13/13 [00:03<00:00,  3.57it/s]\n",
      "                 Class     Images  Instances      Box(P          R      mAP50  mAP50-95): 100%|██████████| 3/3 [00:00<00:00,  4.28it/s]"
     ]
    },
    {
     "name": "stdout",
     "output_type": "stream",
     "text": [
      "                   all         87       1138      0.789        0.8      0.855      0.568\n"
     ]
    },
    {
     "name": "stderr",
     "output_type": "stream",
     "text": [
      "\n"
     ]
    },
    {
     "name": "stdout",
     "output_type": "stream",
     "text": [
      "\n",
      "      Epoch    GPU_mem   box_loss   cls_loss   dfl_loss  Instances       Size\n"
     ]
    },
    {
     "name": "stderr",
     "output_type": "stream",
     "text": [
      "     84/100      5.88G       2.42      1.571      2.352        322        640: 100%|██████████| 13/13 [00:03<00:00,  3.52it/s]\n",
      "                 Class     Images  Instances      Box(P          R      mAP50  mAP50-95): 100%|██████████| 3/3 [00:00<00:00,  4.16it/s]"
     ]
    },
    {
     "name": "stdout",
     "output_type": "stream",
     "text": [
      "                   all         87       1138      0.798      0.842       0.86      0.549\n"
     ]
    },
    {
     "name": "stderr",
     "output_type": "stream",
     "text": [
      "\n"
     ]
    },
    {
     "name": "stdout",
     "output_type": "stream",
     "text": [
      "\n",
      "      Epoch    GPU_mem   box_loss   cls_loss   dfl_loss  Instances       Size\n"
     ]
    },
    {
     "name": "stderr",
     "output_type": "stream",
     "text": [
      "     85/100      5.88G      2.485      1.658      2.395        234        640: 100%|██████████| 13/13 [00:03<00:00,  3.67it/s]\n",
      "                 Class     Images  Instances      Box(P          R      mAP50  mAP50-95): 100%|██████████| 3/3 [00:00<00:00,  4.26it/s]"
     ]
    },
    {
     "name": "stdout",
     "output_type": "stream",
     "text": [
      "                   all         87       1138      0.822      0.851       0.87      0.544\n"
     ]
    },
    {
     "name": "stderr",
     "output_type": "stream",
     "text": [
      "\n"
     ]
    },
    {
     "name": "stdout",
     "output_type": "stream",
     "text": [
      "\n",
      "      Epoch    GPU_mem   box_loss   cls_loss   dfl_loss  Instances       Size\n"
     ]
    },
    {
     "name": "stderr",
     "output_type": "stream",
     "text": [
      "     86/100      5.88G      2.383      1.535      2.339        266        640: 100%|██████████| 13/13 [00:03<00:00,  3.58it/s]\n",
      "                 Class     Images  Instances      Box(P          R      mAP50  mAP50-95): 100%|██████████| 3/3 [00:00<00:00,  4.23it/s]"
     ]
    },
    {
     "name": "stdout",
     "output_type": "stream",
     "text": [
      "                   all         87       1138      0.818       0.83      0.878      0.569\n"
     ]
    },
    {
     "name": "stderr",
     "output_type": "stream",
     "text": [
      "\n"
     ]
    },
    {
     "name": "stdout",
     "output_type": "stream",
     "text": [
      "\n",
      "      Epoch    GPU_mem   box_loss   cls_loss   dfl_loss  Instances       Size\n"
     ]
    },
    {
     "name": "stderr",
     "output_type": "stream",
     "text": [
      "     87/100      5.88G      2.465      1.634      2.382        356        640: 100%|██████████| 13/13 [00:03<00:00,  3.63it/s]\n",
      "                 Class     Images  Instances      Box(P          R      mAP50  mAP50-95): 100%|██████████| 3/3 [00:00<00:00,  4.30it/s]"
     ]
    },
    {
     "name": "stdout",
     "output_type": "stream",
     "text": [
      "                   all         87       1138      0.849      0.818      0.879      0.573\n"
     ]
    },
    {
     "name": "stderr",
     "output_type": "stream",
     "text": [
      "\n"
     ]
    },
    {
     "name": "stdout",
     "output_type": "stream",
     "text": [
      "\n",
      "      Epoch    GPU_mem   box_loss   cls_loss   dfl_loss  Instances       Size\n"
     ]
    },
    {
     "name": "stderr",
     "output_type": "stream",
     "text": [
      "     88/100      5.88G       2.39      1.516      2.342        341        640: 100%|██████████| 13/13 [00:03<00:00,  3.43it/s]\n",
      "                 Class     Images  Instances      Box(P          R      mAP50  mAP50-95): 100%|██████████| 3/3 [00:00<00:00,  3.80it/s]"
     ]
    },
    {
     "name": "stdout",
     "output_type": "stream",
     "text": [
      "                   all         87       1138      0.798      0.833      0.869      0.574\n"
     ]
    },
    {
     "name": "stderr",
     "output_type": "stream",
     "text": [
      "\n"
     ]
    },
    {
     "name": "stdout",
     "output_type": "stream",
     "text": [
      "\n",
      "      Epoch    GPU_mem   box_loss   cls_loss   dfl_loss  Instances       Size\n"
     ]
    },
    {
     "name": "stderr",
     "output_type": "stream",
     "text": [
      "     89/100      5.88G      2.415      1.617      2.327        331        640: 100%|██████████| 13/13 [00:03<00:00,  3.42it/s]\n",
      "                 Class     Images  Instances      Box(P          R      mAP50  mAP50-95): 100%|██████████| 3/3 [00:00<00:00,  4.05it/s]"
     ]
    },
    {
     "name": "stdout",
     "output_type": "stream",
     "text": [
      "                   all         87       1138       0.85      0.823      0.883      0.566\n"
     ]
    },
    {
     "name": "stderr",
     "output_type": "stream",
     "text": [
      "\n"
     ]
    },
    {
     "name": "stdout",
     "output_type": "stream",
     "text": [
      "\n",
      "      Epoch    GPU_mem   box_loss   cls_loss   dfl_loss  Instances       Size\n"
     ]
    },
    {
     "name": "stderr",
     "output_type": "stream",
     "text": [
      "     90/100      5.88G      2.431      1.609       2.37        222        640: 100%|██████████| 13/13 [00:03<00:00,  3.56it/s]\n",
      "                 Class     Images  Instances      Box(P          R      mAP50  mAP50-95): 100%|██████████| 3/3 [00:00<00:00,  4.13it/s]"
     ]
    },
    {
     "name": "stdout",
     "output_type": "stream",
     "text": [
      "                   all         87       1138      0.853      0.778      0.878      0.564\n"
     ]
    },
    {
     "name": "stderr",
     "output_type": "stream",
     "text": [
      "\n"
     ]
    },
    {
     "name": "stdout",
     "output_type": "stream",
     "text": [
      "Closing dataloader mosaic\n",
      "\n",
      "      Epoch    GPU_mem   box_loss   cls_loss   dfl_loss  Instances       Size\n"
     ]
    },
    {
     "name": "stderr",
     "output_type": "stream",
     "text": [
      "     91/100      5.88G      2.192      1.387      2.292        167        640: 100%|██████████| 13/13 [00:03<00:00,  3.38it/s]\n",
      "                 Class     Images  Instances      Box(P          R      mAP50  mAP50-95): 100%|██████████| 3/3 [00:00<00:00,  4.27it/s]"
     ]
    },
    {
     "name": "stdout",
     "output_type": "stream",
     "text": [
      "                   all         87       1138      0.777      0.866       0.88      0.562\n"
     ]
    },
    {
     "name": "stderr",
     "output_type": "stream",
     "text": [
      "\n"
     ]
    },
    {
     "name": "stdout",
     "output_type": "stream",
     "text": [
      "\n",
      "      Epoch    GPU_mem   box_loss   cls_loss   dfl_loss  Instances       Size\n"
     ]
    },
    {
     "name": "stderr",
     "output_type": "stream",
     "text": [
      "     92/100      5.88G      2.131      1.236      2.203        163        640: 100%|██████████| 13/13 [00:03<00:00,  3.75it/s]\n",
      "                 Class     Images  Instances      Box(P          R      mAP50  mAP50-95): 100%|██████████| 3/3 [00:00<00:00,  4.45it/s]"
     ]
    },
    {
     "name": "stdout",
     "output_type": "stream",
     "text": [
      "                   all         87       1138      0.805      0.835      0.861      0.559\n"
     ]
    },
    {
     "name": "stderr",
     "output_type": "stream",
     "text": [
      "\n"
     ]
    },
    {
     "name": "stdout",
     "output_type": "stream",
     "text": [
      "\n",
      "      Epoch    GPU_mem   box_loss   cls_loss   dfl_loss  Instances       Size\n"
     ]
    },
    {
     "name": "stderr",
     "output_type": "stream",
     "text": [
      "     93/100      5.88G      2.069      1.195      2.217        149        640: 100%|██████████| 13/13 [00:03<00:00,  3.85it/s]\n",
      "                 Class     Images  Instances      Box(P          R      mAP50  mAP50-95): 100%|██████████| 3/3 [00:00<00:00,  4.47it/s]"
     ]
    },
    {
     "name": "stdout",
     "output_type": "stream",
     "text": [
      "                   all         87       1138      0.827      0.821      0.863      0.562\n"
     ]
    },
    {
     "name": "stderr",
     "output_type": "stream",
     "text": [
      "\n"
     ]
    },
    {
     "name": "stdout",
     "output_type": "stream",
     "text": [
      "\n",
      "      Epoch    GPU_mem   box_loss   cls_loss   dfl_loss  Instances       Size\n"
     ]
    },
    {
     "name": "stderr",
     "output_type": "stream",
     "text": [
      "     94/100      5.88G      2.031      1.125      2.181        172        640: 100%|██████████| 13/13 [00:03<00:00,  3.84it/s]\n",
      "                 Class     Images  Instances      Box(P          R      mAP50  mAP50-95): 100%|██████████| 3/3 [00:00<00:00,  4.29it/s]"
     ]
    },
    {
     "name": "stdout",
     "output_type": "stream",
     "text": [
      "                   all         87       1138      0.823      0.814       0.87      0.567\n"
     ]
    },
    {
     "name": "stderr",
     "output_type": "stream",
     "text": [
      "\n"
     ]
    },
    {
     "name": "stdout",
     "output_type": "stream",
     "text": [
      "\n",
      "      Epoch    GPU_mem   box_loss   cls_loss   dfl_loss  Instances       Size\n"
     ]
    },
    {
     "name": "stderr",
     "output_type": "stream",
     "text": [
      "     95/100      5.88G      2.027      1.141      2.218        174        640: 100%|██████████| 13/13 [00:03<00:00,  3.88it/s]\n",
      "                 Class     Images  Instances      Box(P          R      mAP50  mAP50-95): 100%|██████████| 3/3 [00:00<00:00,  4.09it/s]"
     ]
    },
    {
     "name": "stdout",
     "output_type": "stream",
     "text": [
      "                   all         87       1138      0.831      0.821      0.867       0.57\n"
     ]
    },
    {
     "name": "stderr",
     "output_type": "stream",
     "text": [
      "\n"
     ]
    },
    {
     "name": "stdout",
     "output_type": "stream",
     "text": [
      "\n",
      "      Epoch    GPU_mem   box_loss   cls_loss   dfl_loss  Instances       Size\n"
     ]
    },
    {
     "name": "stderr",
     "output_type": "stream",
     "text": [
      "     96/100      5.88G      2.037      1.125      2.189        188        640: 100%|██████████| 13/13 [00:03<00:00,  3.69it/s]\n",
      "                 Class     Images  Instances      Box(P          R      mAP50  mAP50-95): 100%|██████████| 3/3 [00:00<00:00,  4.26it/s]"
     ]
    },
    {
     "name": "stdout",
     "output_type": "stream",
     "text": [
      "                   all         87       1138        0.8      0.831      0.866       0.57\n"
     ]
    },
    {
     "name": "stderr",
     "output_type": "stream",
     "text": [
      "\n"
     ]
    },
    {
     "name": "stdout",
     "output_type": "stream",
     "text": [
      "\n",
      "      Epoch    GPU_mem   box_loss   cls_loss   dfl_loss  Instances       Size\n"
     ]
    },
    {
     "name": "stderr",
     "output_type": "stream",
     "text": [
      "     97/100      5.88G      1.968       1.07      2.161        180        640: 100%|██████████| 13/13 [00:03<00:00,  3.71it/s]\n",
      "                 Class     Images  Instances      Box(P          R      mAP50  mAP50-95): 100%|██████████| 3/3 [00:00<00:00,  4.36it/s]"
     ]
    },
    {
     "name": "stdout",
     "output_type": "stream",
     "text": [
      "                   all         87       1138      0.811      0.822      0.869      0.573\n"
     ]
    },
    {
     "name": "stderr",
     "output_type": "stream",
     "text": [
      "\n"
     ]
    },
    {
     "name": "stdout",
     "output_type": "stream",
     "text": [
      "\n",
      "      Epoch    GPU_mem   box_loss   cls_loss   dfl_loss  Instances       Size\n"
     ]
    },
    {
     "name": "stderr",
     "output_type": "stream",
     "text": [
      "     98/100      5.88G          2      1.078      2.159        171        640: 100%|██████████| 13/13 [00:03<00:00,  3.77it/s]\n",
      "                 Class     Images  Instances      Box(P          R      mAP50  mAP50-95): 100%|██████████| 3/3 [00:00<00:00,  4.02it/s]"
     ]
    },
    {
     "name": "stdout",
     "output_type": "stream",
     "text": [
      "                   all         87       1138      0.846      0.791      0.871      0.571\n"
     ]
    },
    {
     "name": "stderr",
     "output_type": "stream",
     "text": [
      "\n"
     ]
    },
    {
     "name": "stdout",
     "output_type": "stream",
     "text": [
      "\n",
      "      Epoch    GPU_mem   box_loss   cls_loss   dfl_loss  Instances       Size\n"
     ]
    },
    {
     "name": "stderr",
     "output_type": "stream",
     "text": [
      "     99/100      5.88G       1.93      1.068      2.138        184        640: 100%|██████████| 13/13 [00:03<00:00,  3.77it/s]\n",
      "                 Class     Images  Instances      Box(P          R      mAP50  mAP50-95): 100%|██████████| 3/3 [00:00<00:00,  4.21it/s]"
     ]
    },
    {
     "name": "stdout",
     "output_type": "stream",
     "text": [
      "                   all         87       1138      0.789      0.846      0.872      0.568\n"
     ]
    },
    {
     "name": "stderr",
     "output_type": "stream",
     "text": [
      "\n"
     ]
    },
    {
     "name": "stdout",
     "output_type": "stream",
     "text": [
      "\n",
      "      Epoch    GPU_mem   box_loss   cls_loss   dfl_loss  Instances       Size\n"
     ]
    },
    {
     "name": "stderr",
     "output_type": "stream",
     "text": [
      "    100/100      5.88G      1.967      1.066      2.172        186        640: 100%|██████████| 13/13 [00:03<00:00,  3.74it/s]\n",
      "                 Class     Images  Instances      Box(P          R      mAP50  mAP50-95): 100%|██████████| 3/3 [00:00<00:00,  4.29it/s]"
     ]
    },
    {
     "name": "stdout",
     "output_type": "stream",
     "text": [
      "                   all         87       1138      0.837      0.811       0.87      0.569\n"
     ]
    },
    {
     "name": "stderr",
     "output_type": "stream",
     "text": [
      "\n"
     ]
    },
    {
     "name": "stdout",
     "output_type": "stream",
     "text": [
      "\n",
      "100 epochs completed in 0.164 hours.\n",
      "Optimizer stripped from runs\\detect\\train\\weights\\last.pt, 16.5MB\n",
      "Optimizer stripped from runs\\detect\\train\\weights\\best.pt, 16.5MB\n",
      "\n",
      "Validating runs\\detect\\train\\weights\\best.pt...\n",
      "Ultralytics 8.3.92  Python-3.12.2 torch-2.5.1+cu124 CUDA:0 (NVIDIA GeForce RTX 3080 Laptop GPU, 16384MiB)\n",
      "YOLOv10s summary (fused): 129 layers, 8,037,282 parameters, 0 gradients, 24.5 GFLOPs\n"
     ]
    },
    {
     "name": "stderr",
     "output_type": "stream",
     "text": [
      "                 Class     Images  Instances      Box(P          R      mAP50  mAP50-95): 100%|██████████| 3/3 [00:01<00:00,  1.95it/s]\n"
     ]
    },
    {
     "name": "stdout",
     "output_type": "stream",
     "text": [
      "                   all         87       1138      0.852      0.819      0.879      0.574\n",
      "                   WBC         86         87      0.963      0.966      0.991      0.791\n",
      "                   RBC         83        968      0.811      0.768      0.866      0.589\n",
      "             Platelets         45         83      0.782      0.723      0.779      0.341\n",
      "Speed: 0.4ms preprocess, 3.0ms inference, 0.0ms loss, 0.2ms postprocess per image\n",
      "Results saved to \u001b[1mruns\\detect\\train\u001b[0m\n"
     ]
    },
    {
     "data": {
      "text/plain": [
       "ultralytics.utils.metrics.DetMetrics object with attributes:\n",
       "\n",
       "ap_class_index: array([0, 1, 2])\n",
       "box: ultralytics.utils.metrics.Metric object\n",
       "confusion_matrix: <ultralytics.utils.metrics.ConfusionMatrix object at 0x00000258A37A8080>\n",
       "curves: ['Precision-Recall(B)', 'F1-Confidence(B)', 'Precision-Confidence(B)', 'Recall-Confidence(B)']\n",
       "curves_results: [[array([          0,    0.001001,    0.002002,    0.003003,    0.004004,    0.005005,    0.006006,    0.007007,    0.008008,    0.009009,     0.01001,    0.011011,    0.012012,    0.013013,    0.014014,    0.015015,    0.016016,    0.017017,    0.018018,    0.019019,     0.02002,    0.021021,    0.022022,    0.023023,\n",
       "          0.024024,    0.025025,    0.026026,    0.027027,    0.028028,    0.029029,     0.03003,    0.031031,    0.032032,    0.033033,    0.034034,    0.035035,    0.036036,    0.037037,    0.038038,    0.039039,     0.04004,    0.041041,    0.042042,    0.043043,    0.044044,    0.045045,    0.046046,    0.047047,\n",
       "          0.048048,    0.049049,     0.05005,    0.051051,    0.052052,    0.053053,    0.054054,    0.055055,    0.056056,    0.057057,    0.058058,    0.059059,     0.06006,    0.061061,    0.062062,    0.063063,    0.064064,    0.065065,    0.066066,    0.067067,    0.068068,    0.069069,     0.07007,    0.071071,\n",
       "          0.072072,    0.073073,    0.074074,    0.075075,    0.076076,    0.077077,    0.078078,    0.079079,     0.08008,    0.081081,    0.082082,    0.083083,    0.084084,    0.085085,    0.086086,    0.087087,    0.088088,    0.089089,     0.09009,    0.091091,    0.092092,    0.093093,    0.094094,    0.095095,\n",
       "          0.096096,    0.097097,    0.098098,    0.099099,      0.1001,      0.1011,      0.1021,      0.1031,      0.1041,     0.10511,     0.10611,     0.10711,     0.10811,     0.10911,     0.11011,     0.11111,     0.11211,     0.11311,     0.11411,     0.11512,     0.11612,     0.11712,     0.11812,     0.11912,\n",
       "           0.12012,     0.12112,     0.12212,     0.12312,     0.12412,     0.12513,     0.12613,     0.12713,     0.12813,     0.12913,     0.13013,     0.13113,     0.13213,     0.13313,     0.13413,     0.13514,     0.13614,     0.13714,     0.13814,     0.13914,     0.14014,     0.14114,     0.14214,     0.14314,\n",
       "           0.14414,     0.14515,     0.14615,     0.14715,     0.14815,     0.14915,     0.15015,     0.15115,     0.15215,     0.15315,     0.15415,     0.15516,     0.15616,     0.15716,     0.15816,     0.15916,     0.16016,     0.16116,     0.16216,     0.16316,     0.16416,     0.16517,     0.16617,     0.16717,\n",
       "           0.16817,     0.16917,     0.17017,     0.17117,     0.17217,     0.17317,     0.17417,     0.17518,     0.17618,     0.17718,     0.17818,     0.17918,     0.18018,     0.18118,     0.18218,     0.18318,     0.18418,     0.18519,     0.18619,     0.18719,     0.18819,     0.18919,     0.19019,     0.19119,\n",
       "           0.19219,     0.19319,     0.19419,      0.1952,      0.1962,      0.1972,      0.1982,      0.1992,      0.2002,      0.2012,      0.2022,      0.2032,      0.2042,     0.20521,     0.20621,     0.20721,     0.20821,     0.20921,     0.21021,     0.21121,     0.21221,     0.21321,     0.21421,     0.21522,\n",
       "           0.21622,     0.21722,     0.21822,     0.21922,     0.22022,     0.22122,     0.22222,     0.22322,     0.22422,     0.22523,     0.22623,     0.22723,     0.22823,     0.22923,     0.23023,     0.23123,     0.23223,     0.23323,     0.23423,     0.23524,     0.23624,     0.23724,     0.23824,     0.23924,\n",
       "           0.24024,     0.24124,     0.24224,     0.24324,     0.24424,     0.24525,     0.24625,     0.24725,     0.24825,     0.24925,     0.25025,     0.25125,     0.25225,     0.25325,     0.25425,     0.25526,     0.25626,     0.25726,     0.25826,     0.25926,     0.26026,     0.26126,     0.26226,     0.26326,\n",
       "           0.26426,     0.26527,     0.26627,     0.26727,     0.26827,     0.26927,     0.27027,     0.27127,     0.27227,     0.27327,     0.27427,     0.27528,     0.27628,     0.27728,     0.27828,     0.27928,     0.28028,     0.28128,     0.28228,     0.28328,     0.28428,     0.28529,     0.28629,     0.28729,\n",
       "           0.28829,     0.28929,     0.29029,     0.29129,     0.29229,     0.29329,     0.29429,      0.2953,      0.2963,      0.2973,      0.2983,      0.2993,      0.3003,      0.3013,      0.3023,      0.3033,      0.3043,     0.30531,     0.30631,     0.30731,     0.30831,     0.30931,     0.31031,     0.31131,\n",
       "           0.31231,     0.31331,     0.31431,     0.31532,     0.31632,     0.31732,     0.31832,     0.31932,     0.32032,     0.32132,     0.32232,     0.32332,     0.32432,     0.32533,     0.32633,     0.32733,     0.32833,     0.32933,     0.33033,     0.33133,     0.33233,     0.33333,     0.33433,     0.33534,\n",
       "           0.33634,     0.33734,     0.33834,     0.33934,     0.34034,     0.34134,     0.34234,     0.34334,     0.34434,     0.34535,     0.34635,     0.34735,     0.34835,     0.34935,     0.35035,     0.35135,     0.35235,     0.35335,     0.35435,     0.35536,     0.35636,     0.35736,     0.35836,     0.35936,\n",
       "           0.36036,     0.36136,     0.36236,     0.36336,     0.36436,     0.36537,     0.36637,     0.36737,     0.36837,     0.36937,     0.37037,     0.37137,     0.37237,     0.37337,     0.37437,     0.37538,     0.37638,     0.37738,     0.37838,     0.37938,     0.38038,     0.38138,     0.38238,     0.38338,\n",
       "           0.38438,     0.38539,     0.38639,     0.38739,     0.38839,     0.38939,     0.39039,     0.39139,     0.39239,     0.39339,     0.39439,      0.3954,      0.3964,      0.3974,      0.3984,      0.3994,      0.4004,      0.4014,      0.4024,      0.4034,      0.4044,     0.40541,     0.40641,     0.40741,\n",
       "           0.40841,     0.40941,     0.41041,     0.41141,     0.41241,     0.41341,     0.41441,     0.41542,     0.41642,     0.41742,     0.41842,     0.41942,     0.42042,     0.42142,     0.42242,     0.42342,     0.42442,     0.42543,     0.42643,     0.42743,     0.42843,     0.42943,     0.43043,     0.43143,\n",
       "           0.43243,     0.43343,     0.43443,     0.43544,     0.43644,     0.43744,     0.43844,     0.43944,     0.44044,     0.44144,     0.44244,     0.44344,     0.44444,     0.44545,     0.44645,     0.44745,     0.44845,     0.44945,     0.45045,     0.45145,     0.45245,     0.45345,     0.45445,     0.45546,\n",
       "           0.45646,     0.45746,     0.45846,     0.45946,     0.46046,     0.46146,     0.46246,     0.46346,     0.46446,     0.46547,     0.46647,     0.46747,     0.46847,     0.46947,     0.47047,     0.47147,     0.47247,     0.47347,     0.47447,     0.47548,     0.47648,     0.47748,     0.47848,     0.47948,\n",
       "           0.48048,     0.48148,     0.48248,     0.48348,     0.48448,     0.48549,     0.48649,     0.48749,     0.48849,     0.48949,     0.49049,     0.49149,     0.49249,     0.49349,     0.49449,      0.4955,      0.4965,      0.4975,      0.4985,      0.4995,      0.5005,      0.5015,      0.5025,      0.5035,\n",
       "            0.5045,     0.50551,     0.50651,     0.50751,     0.50851,     0.50951,     0.51051,     0.51151,     0.51251,     0.51351,     0.51451,     0.51552,     0.51652,     0.51752,     0.51852,     0.51952,     0.52052,     0.52152,     0.52252,     0.52352,     0.52452,     0.52553,     0.52653,     0.52753,\n",
       "           0.52853,     0.52953,     0.53053,     0.53153,     0.53253,     0.53353,     0.53453,     0.53554,     0.53654,     0.53754,     0.53854,     0.53954,     0.54054,     0.54154,     0.54254,     0.54354,     0.54454,     0.54555,     0.54655,     0.54755,     0.54855,     0.54955,     0.55055,     0.55155,\n",
       "           0.55255,     0.55355,     0.55455,     0.55556,     0.55656,     0.55756,     0.55856,     0.55956,     0.56056,     0.56156,     0.56256,     0.56356,     0.56456,     0.56557,     0.56657,     0.56757,     0.56857,     0.56957,     0.57057,     0.57157,     0.57257,     0.57357,     0.57457,     0.57558,\n",
       "           0.57658,     0.57758,     0.57858,     0.57958,     0.58058,     0.58158,     0.58258,     0.58358,     0.58458,     0.58559,     0.58659,     0.58759,     0.58859,     0.58959,     0.59059,     0.59159,     0.59259,     0.59359,     0.59459,      0.5956,      0.5966,      0.5976,      0.5986,      0.5996,\n",
       "            0.6006,      0.6016,      0.6026,      0.6036,      0.6046,     0.60561,     0.60661,     0.60761,     0.60861,     0.60961,     0.61061,     0.61161,     0.61261,     0.61361,     0.61461,     0.61562,     0.61662,     0.61762,     0.61862,     0.61962,     0.62062,     0.62162,     0.62262,     0.62362,\n",
       "           0.62462,     0.62563,     0.62663,     0.62763,     0.62863,     0.62963,     0.63063,     0.63163,     0.63263,     0.63363,     0.63463,     0.63564,     0.63664,     0.63764,     0.63864,     0.63964,     0.64064,     0.64164,     0.64264,     0.64364,     0.64464,     0.64565,     0.64665,     0.64765,\n",
       "           0.64865,     0.64965,     0.65065,     0.65165,     0.65265,     0.65365,     0.65465,     0.65566,     0.65666,     0.65766,     0.65866,     0.65966,     0.66066,     0.66166,     0.66266,     0.66366,     0.66466,     0.66567,     0.66667,     0.66767,     0.66867,     0.66967,     0.67067,     0.67167,\n",
       "           0.67267,     0.67367,     0.67467,     0.67568,     0.67668,     0.67768,     0.67868,     0.67968,     0.68068,     0.68168,     0.68268,     0.68368,     0.68468,     0.68569,     0.68669,     0.68769,     0.68869,     0.68969,     0.69069,     0.69169,     0.69269,     0.69369,     0.69469,      0.6957,\n",
       "            0.6967,      0.6977,      0.6987,      0.6997,      0.7007,      0.7017,      0.7027,      0.7037,      0.7047,     0.70571,     0.70671,     0.70771,     0.70871,     0.70971,     0.71071,     0.71171,     0.71271,     0.71371,     0.71471,     0.71572,     0.71672,     0.71772,     0.71872,     0.71972,\n",
       "           0.72072,     0.72172,     0.72272,     0.72372,     0.72472,     0.72573,     0.72673,     0.72773,     0.72873,     0.72973,     0.73073,     0.73173,     0.73273,     0.73373,     0.73473,     0.73574,     0.73674,     0.73774,     0.73874,     0.73974,     0.74074,     0.74174,     0.74274,     0.74374,\n",
       "           0.74474,     0.74575,     0.74675,     0.74775,     0.74875,     0.74975,     0.75075,     0.75175,     0.75275,     0.75375,     0.75475,     0.75576,     0.75676,     0.75776,     0.75876,     0.75976,     0.76076,     0.76176,     0.76276,     0.76376,     0.76476,     0.76577,     0.76677,     0.76777,\n",
       "           0.76877,     0.76977,     0.77077,     0.77177,     0.77277,     0.77377,     0.77477,     0.77578,     0.77678,     0.77778,     0.77878,     0.77978,     0.78078,     0.78178,     0.78278,     0.78378,     0.78478,     0.78579,     0.78679,     0.78779,     0.78879,     0.78979,     0.79079,     0.79179,\n",
       "           0.79279,     0.79379,     0.79479,      0.7958,      0.7968,      0.7978,      0.7988,      0.7998,      0.8008,      0.8018,      0.8028,      0.8038,      0.8048,     0.80581,     0.80681,     0.80781,     0.80881,     0.80981,     0.81081,     0.81181,     0.81281,     0.81381,     0.81481,     0.81582,\n",
       "           0.81682,     0.81782,     0.81882,     0.81982,     0.82082,     0.82182,     0.82282,     0.82382,     0.82482,     0.82583,     0.82683,     0.82783,     0.82883,     0.82983,     0.83083,     0.83183,     0.83283,     0.83383,     0.83483,     0.83584,     0.83684,     0.83784,     0.83884,     0.83984,\n",
       "           0.84084,     0.84184,     0.84284,     0.84384,     0.84484,     0.84585,     0.84685,     0.84785,     0.84885,     0.84985,     0.85085,     0.85185,     0.85285,     0.85385,     0.85485,     0.85586,     0.85686,     0.85786,     0.85886,     0.85986,     0.86086,     0.86186,     0.86286,     0.86386,\n",
       "           0.86486,     0.86587,     0.86687,     0.86787,     0.86887,     0.86987,     0.87087,     0.87187,     0.87287,     0.87387,     0.87487,     0.87588,     0.87688,     0.87788,     0.87888,     0.87988,     0.88088,     0.88188,     0.88288,     0.88388,     0.88488,     0.88589,     0.88689,     0.88789,\n",
       "           0.88889,     0.88989,     0.89089,     0.89189,     0.89289,     0.89389,     0.89489,      0.8959,      0.8969,      0.8979,      0.8989,      0.8999,      0.9009,      0.9019,      0.9029,      0.9039,      0.9049,     0.90591,     0.90691,     0.90791,     0.90891,     0.90991,     0.91091,     0.91191,\n",
       "           0.91291,     0.91391,     0.91491,     0.91592,     0.91692,     0.91792,     0.91892,     0.91992,     0.92092,     0.92192,     0.92292,     0.92392,     0.92492,     0.92593,     0.92693,     0.92793,     0.92893,     0.92993,     0.93093,     0.93193,     0.93293,     0.93393,     0.93493,     0.93594,\n",
       "           0.93694,     0.93794,     0.93894,     0.93994,     0.94094,     0.94194,     0.94294,     0.94394,     0.94494,     0.94595,     0.94695,     0.94795,     0.94895,     0.94995,     0.95095,     0.95195,     0.95295,     0.95395,     0.95495,     0.95596,     0.95696,     0.95796,     0.95896,     0.95996,\n",
       "           0.96096,     0.96196,     0.96296,     0.96396,     0.96496,     0.96597,     0.96697,     0.96797,     0.96897,     0.96997,     0.97097,     0.97197,     0.97297,     0.97397,     0.97497,     0.97598,     0.97698,     0.97798,     0.97898,     0.97998,     0.98098,     0.98198,     0.98298,     0.98398,\n",
       "           0.98498,     0.98599,     0.98699,     0.98799,     0.98899,     0.98999,     0.99099,     0.99199,     0.99299,     0.99399,     0.99499,       0.996,       0.997,       0.998,       0.999,           1]), array([[          1,           1,           1, ...,     0.91579,     0.91579,           0],\n",
       "       [          1,           1,           1, ...,    0.042876,    0.021438,           0],\n",
       "       [          1,           1,           1, ...,    0.015974,   0.0079869,           0]]), 'Recall', 'Precision'], [array([          0,    0.001001,    0.002002,    0.003003,    0.004004,    0.005005,    0.006006,    0.007007,    0.008008,    0.009009,     0.01001,    0.011011,    0.012012,    0.013013,    0.014014,    0.015015,    0.016016,    0.017017,    0.018018,    0.019019,     0.02002,    0.021021,    0.022022,    0.023023,\n",
       "          0.024024,    0.025025,    0.026026,    0.027027,    0.028028,    0.029029,     0.03003,    0.031031,    0.032032,    0.033033,    0.034034,    0.035035,    0.036036,    0.037037,    0.038038,    0.039039,     0.04004,    0.041041,    0.042042,    0.043043,    0.044044,    0.045045,    0.046046,    0.047047,\n",
       "          0.048048,    0.049049,     0.05005,    0.051051,    0.052052,    0.053053,    0.054054,    0.055055,    0.056056,    0.057057,    0.058058,    0.059059,     0.06006,    0.061061,    0.062062,    0.063063,    0.064064,    0.065065,    0.066066,    0.067067,    0.068068,    0.069069,     0.07007,    0.071071,\n",
       "          0.072072,    0.073073,    0.074074,    0.075075,    0.076076,    0.077077,    0.078078,    0.079079,     0.08008,    0.081081,    0.082082,    0.083083,    0.084084,    0.085085,    0.086086,    0.087087,    0.088088,    0.089089,     0.09009,    0.091091,    0.092092,    0.093093,    0.094094,    0.095095,\n",
       "          0.096096,    0.097097,    0.098098,    0.099099,      0.1001,      0.1011,      0.1021,      0.1031,      0.1041,     0.10511,     0.10611,     0.10711,     0.10811,     0.10911,     0.11011,     0.11111,     0.11211,     0.11311,     0.11411,     0.11512,     0.11612,     0.11712,     0.11812,     0.11912,\n",
       "           0.12012,     0.12112,     0.12212,     0.12312,     0.12412,     0.12513,     0.12613,     0.12713,     0.12813,     0.12913,     0.13013,     0.13113,     0.13213,     0.13313,     0.13413,     0.13514,     0.13614,     0.13714,     0.13814,     0.13914,     0.14014,     0.14114,     0.14214,     0.14314,\n",
       "           0.14414,     0.14515,     0.14615,     0.14715,     0.14815,     0.14915,     0.15015,     0.15115,     0.15215,     0.15315,     0.15415,     0.15516,     0.15616,     0.15716,     0.15816,     0.15916,     0.16016,     0.16116,     0.16216,     0.16316,     0.16416,     0.16517,     0.16617,     0.16717,\n",
       "           0.16817,     0.16917,     0.17017,     0.17117,     0.17217,     0.17317,     0.17417,     0.17518,     0.17618,     0.17718,     0.17818,     0.17918,     0.18018,     0.18118,     0.18218,     0.18318,     0.18418,     0.18519,     0.18619,     0.18719,     0.18819,     0.18919,     0.19019,     0.19119,\n",
       "           0.19219,     0.19319,     0.19419,      0.1952,      0.1962,      0.1972,      0.1982,      0.1992,      0.2002,      0.2012,      0.2022,      0.2032,      0.2042,     0.20521,     0.20621,     0.20721,     0.20821,     0.20921,     0.21021,     0.21121,     0.21221,     0.21321,     0.21421,     0.21522,\n",
       "           0.21622,     0.21722,     0.21822,     0.21922,     0.22022,     0.22122,     0.22222,     0.22322,     0.22422,     0.22523,     0.22623,     0.22723,     0.22823,     0.22923,     0.23023,     0.23123,     0.23223,     0.23323,     0.23423,     0.23524,     0.23624,     0.23724,     0.23824,     0.23924,\n",
       "           0.24024,     0.24124,     0.24224,     0.24324,     0.24424,     0.24525,     0.24625,     0.24725,     0.24825,     0.24925,     0.25025,     0.25125,     0.25225,     0.25325,     0.25425,     0.25526,     0.25626,     0.25726,     0.25826,     0.25926,     0.26026,     0.26126,     0.26226,     0.26326,\n",
       "           0.26426,     0.26527,     0.26627,     0.26727,     0.26827,     0.26927,     0.27027,     0.27127,     0.27227,     0.27327,     0.27427,     0.27528,     0.27628,     0.27728,     0.27828,     0.27928,     0.28028,     0.28128,     0.28228,     0.28328,     0.28428,     0.28529,     0.28629,     0.28729,\n",
       "           0.28829,     0.28929,     0.29029,     0.29129,     0.29229,     0.29329,     0.29429,      0.2953,      0.2963,      0.2973,      0.2983,      0.2993,      0.3003,      0.3013,      0.3023,      0.3033,      0.3043,     0.30531,     0.30631,     0.30731,     0.30831,     0.30931,     0.31031,     0.31131,\n",
       "           0.31231,     0.31331,     0.31431,     0.31532,     0.31632,     0.31732,     0.31832,     0.31932,     0.32032,     0.32132,     0.32232,     0.32332,     0.32432,     0.32533,     0.32633,     0.32733,     0.32833,     0.32933,     0.33033,     0.33133,     0.33233,     0.33333,     0.33433,     0.33534,\n",
       "           0.33634,     0.33734,     0.33834,     0.33934,     0.34034,     0.34134,     0.34234,     0.34334,     0.34434,     0.34535,     0.34635,     0.34735,     0.34835,     0.34935,     0.35035,     0.35135,     0.35235,     0.35335,     0.35435,     0.35536,     0.35636,     0.35736,     0.35836,     0.35936,\n",
       "           0.36036,     0.36136,     0.36236,     0.36336,     0.36436,     0.36537,     0.36637,     0.36737,     0.36837,     0.36937,     0.37037,     0.37137,     0.37237,     0.37337,     0.37437,     0.37538,     0.37638,     0.37738,     0.37838,     0.37938,     0.38038,     0.38138,     0.38238,     0.38338,\n",
       "           0.38438,     0.38539,     0.38639,     0.38739,     0.38839,     0.38939,     0.39039,     0.39139,     0.39239,     0.39339,     0.39439,      0.3954,      0.3964,      0.3974,      0.3984,      0.3994,      0.4004,      0.4014,      0.4024,      0.4034,      0.4044,     0.40541,     0.40641,     0.40741,\n",
       "           0.40841,     0.40941,     0.41041,     0.41141,     0.41241,     0.41341,     0.41441,     0.41542,     0.41642,     0.41742,     0.41842,     0.41942,     0.42042,     0.42142,     0.42242,     0.42342,     0.42442,     0.42543,     0.42643,     0.42743,     0.42843,     0.42943,     0.43043,     0.43143,\n",
       "           0.43243,     0.43343,     0.43443,     0.43544,     0.43644,     0.43744,     0.43844,     0.43944,     0.44044,     0.44144,     0.44244,     0.44344,     0.44444,     0.44545,     0.44645,     0.44745,     0.44845,     0.44945,     0.45045,     0.45145,     0.45245,     0.45345,     0.45445,     0.45546,\n",
       "           0.45646,     0.45746,     0.45846,     0.45946,     0.46046,     0.46146,     0.46246,     0.46346,     0.46446,     0.46547,     0.46647,     0.46747,     0.46847,     0.46947,     0.47047,     0.47147,     0.47247,     0.47347,     0.47447,     0.47548,     0.47648,     0.47748,     0.47848,     0.47948,\n",
       "           0.48048,     0.48148,     0.48248,     0.48348,     0.48448,     0.48549,     0.48649,     0.48749,     0.48849,     0.48949,     0.49049,     0.49149,     0.49249,     0.49349,     0.49449,      0.4955,      0.4965,      0.4975,      0.4985,      0.4995,      0.5005,      0.5015,      0.5025,      0.5035,\n",
       "            0.5045,     0.50551,     0.50651,     0.50751,     0.50851,     0.50951,     0.51051,     0.51151,     0.51251,     0.51351,     0.51451,     0.51552,     0.51652,     0.51752,     0.51852,     0.51952,     0.52052,     0.52152,     0.52252,     0.52352,     0.52452,     0.52553,     0.52653,     0.52753,\n",
       "           0.52853,     0.52953,     0.53053,     0.53153,     0.53253,     0.53353,     0.53453,     0.53554,     0.53654,     0.53754,     0.53854,     0.53954,     0.54054,     0.54154,     0.54254,     0.54354,     0.54454,     0.54555,     0.54655,     0.54755,     0.54855,     0.54955,     0.55055,     0.55155,\n",
       "           0.55255,     0.55355,     0.55455,     0.55556,     0.55656,     0.55756,     0.55856,     0.55956,     0.56056,     0.56156,     0.56256,     0.56356,     0.56456,     0.56557,     0.56657,     0.56757,     0.56857,     0.56957,     0.57057,     0.57157,     0.57257,     0.57357,     0.57457,     0.57558,\n",
       "           0.57658,     0.57758,     0.57858,     0.57958,     0.58058,     0.58158,     0.58258,     0.58358,     0.58458,     0.58559,     0.58659,     0.58759,     0.58859,     0.58959,     0.59059,     0.59159,     0.59259,     0.59359,     0.59459,      0.5956,      0.5966,      0.5976,      0.5986,      0.5996,\n",
       "            0.6006,      0.6016,      0.6026,      0.6036,      0.6046,     0.60561,     0.60661,     0.60761,     0.60861,     0.60961,     0.61061,     0.61161,     0.61261,     0.61361,     0.61461,     0.61562,     0.61662,     0.61762,     0.61862,     0.61962,     0.62062,     0.62162,     0.62262,     0.62362,\n",
       "           0.62462,     0.62563,     0.62663,     0.62763,     0.62863,     0.62963,     0.63063,     0.63163,     0.63263,     0.63363,     0.63463,     0.63564,     0.63664,     0.63764,     0.63864,     0.63964,     0.64064,     0.64164,     0.64264,     0.64364,     0.64464,     0.64565,     0.64665,     0.64765,\n",
       "           0.64865,     0.64965,     0.65065,     0.65165,     0.65265,     0.65365,     0.65465,     0.65566,     0.65666,     0.65766,     0.65866,     0.65966,     0.66066,     0.66166,     0.66266,     0.66366,     0.66466,     0.66567,     0.66667,     0.66767,     0.66867,     0.66967,     0.67067,     0.67167,\n",
       "           0.67267,     0.67367,     0.67467,     0.67568,     0.67668,     0.67768,     0.67868,     0.67968,     0.68068,     0.68168,     0.68268,     0.68368,     0.68468,     0.68569,     0.68669,     0.68769,     0.68869,     0.68969,     0.69069,     0.69169,     0.69269,     0.69369,     0.69469,      0.6957,\n",
       "            0.6967,      0.6977,      0.6987,      0.6997,      0.7007,      0.7017,      0.7027,      0.7037,      0.7047,     0.70571,     0.70671,     0.70771,     0.70871,     0.70971,     0.71071,     0.71171,     0.71271,     0.71371,     0.71471,     0.71572,     0.71672,     0.71772,     0.71872,     0.71972,\n",
       "           0.72072,     0.72172,     0.72272,     0.72372,     0.72472,     0.72573,     0.72673,     0.72773,     0.72873,     0.72973,     0.73073,     0.73173,     0.73273,     0.73373,     0.73473,     0.73574,     0.73674,     0.73774,     0.73874,     0.73974,     0.74074,     0.74174,     0.74274,     0.74374,\n",
       "           0.74474,     0.74575,     0.74675,     0.74775,     0.74875,     0.74975,     0.75075,     0.75175,     0.75275,     0.75375,     0.75475,     0.75576,     0.75676,     0.75776,     0.75876,     0.75976,     0.76076,     0.76176,     0.76276,     0.76376,     0.76476,     0.76577,     0.76677,     0.76777,\n",
       "           0.76877,     0.76977,     0.77077,     0.77177,     0.77277,     0.77377,     0.77477,     0.77578,     0.77678,     0.77778,     0.77878,     0.77978,     0.78078,     0.78178,     0.78278,     0.78378,     0.78478,     0.78579,     0.78679,     0.78779,     0.78879,     0.78979,     0.79079,     0.79179,\n",
       "           0.79279,     0.79379,     0.79479,      0.7958,      0.7968,      0.7978,      0.7988,      0.7998,      0.8008,      0.8018,      0.8028,      0.8038,      0.8048,     0.80581,     0.80681,     0.80781,     0.80881,     0.80981,     0.81081,     0.81181,     0.81281,     0.81381,     0.81481,     0.81582,\n",
       "           0.81682,     0.81782,     0.81882,     0.81982,     0.82082,     0.82182,     0.82282,     0.82382,     0.82482,     0.82583,     0.82683,     0.82783,     0.82883,     0.82983,     0.83083,     0.83183,     0.83283,     0.83383,     0.83483,     0.83584,     0.83684,     0.83784,     0.83884,     0.83984,\n",
       "           0.84084,     0.84184,     0.84284,     0.84384,     0.84484,     0.84585,     0.84685,     0.84785,     0.84885,     0.84985,     0.85085,     0.85185,     0.85285,     0.85385,     0.85485,     0.85586,     0.85686,     0.85786,     0.85886,     0.85986,     0.86086,     0.86186,     0.86286,     0.86386,\n",
       "           0.86486,     0.86587,     0.86687,     0.86787,     0.86887,     0.86987,     0.87087,     0.87187,     0.87287,     0.87387,     0.87487,     0.87588,     0.87688,     0.87788,     0.87888,     0.87988,     0.88088,     0.88188,     0.88288,     0.88388,     0.88488,     0.88589,     0.88689,     0.88789,\n",
       "           0.88889,     0.88989,     0.89089,     0.89189,     0.89289,     0.89389,     0.89489,      0.8959,      0.8969,      0.8979,      0.8989,      0.8999,      0.9009,      0.9019,      0.9029,      0.9039,      0.9049,     0.90591,     0.90691,     0.90791,     0.90891,     0.90991,     0.91091,     0.91191,\n",
       "           0.91291,     0.91391,     0.91491,     0.91592,     0.91692,     0.91792,     0.91892,     0.91992,     0.92092,     0.92192,     0.92292,     0.92392,     0.92492,     0.92593,     0.92693,     0.92793,     0.92893,     0.92993,     0.93093,     0.93193,     0.93293,     0.93393,     0.93493,     0.93594,\n",
       "           0.93694,     0.93794,     0.93894,     0.93994,     0.94094,     0.94194,     0.94294,     0.94394,     0.94494,     0.94595,     0.94695,     0.94795,     0.94895,     0.94995,     0.95095,     0.95195,     0.95295,     0.95395,     0.95495,     0.95596,     0.95696,     0.95796,     0.95896,     0.95996,\n",
       "           0.96096,     0.96196,     0.96296,     0.96396,     0.96496,     0.96597,     0.96697,     0.96797,     0.96897,     0.96997,     0.97097,     0.97197,     0.97297,     0.97397,     0.97497,     0.97598,     0.97698,     0.97798,     0.97898,     0.97998,     0.98098,     0.98198,     0.98298,     0.98398,\n",
       "           0.98498,     0.98599,     0.98699,     0.98799,     0.98899,     0.98999,     0.99099,     0.99199,     0.99299,     0.99399,     0.99499,       0.996,       0.997,       0.998,       0.999,           1]), array([[        0.6,         0.6,     0.75981, ...,           0,           0,           0],\n",
       "       [    0.47134,     0.47148,     0.54114, ...,           0,           0,           0],\n",
       "       [    0.17521,     0.17521,     0.21837, ...,           0,           0,           0]]), 'Confidence', 'F1'], [array([          0,    0.001001,    0.002002,    0.003003,    0.004004,    0.005005,    0.006006,    0.007007,    0.008008,    0.009009,     0.01001,    0.011011,    0.012012,    0.013013,    0.014014,    0.015015,    0.016016,    0.017017,    0.018018,    0.019019,     0.02002,    0.021021,    0.022022,    0.023023,\n",
       "          0.024024,    0.025025,    0.026026,    0.027027,    0.028028,    0.029029,     0.03003,    0.031031,    0.032032,    0.033033,    0.034034,    0.035035,    0.036036,    0.037037,    0.038038,    0.039039,     0.04004,    0.041041,    0.042042,    0.043043,    0.044044,    0.045045,    0.046046,    0.047047,\n",
       "          0.048048,    0.049049,     0.05005,    0.051051,    0.052052,    0.053053,    0.054054,    0.055055,    0.056056,    0.057057,    0.058058,    0.059059,     0.06006,    0.061061,    0.062062,    0.063063,    0.064064,    0.065065,    0.066066,    0.067067,    0.068068,    0.069069,     0.07007,    0.071071,\n",
       "          0.072072,    0.073073,    0.074074,    0.075075,    0.076076,    0.077077,    0.078078,    0.079079,     0.08008,    0.081081,    0.082082,    0.083083,    0.084084,    0.085085,    0.086086,    0.087087,    0.088088,    0.089089,     0.09009,    0.091091,    0.092092,    0.093093,    0.094094,    0.095095,\n",
       "          0.096096,    0.097097,    0.098098,    0.099099,      0.1001,      0.1011,      0.1021,      0.1031,      0.1041,     0.10511,     0.10611,     0.10711,     0.10811,     0.10911,     0.11011,     0.11111,     0.11211,     0.11311,     0.11411,     0.11512,     0.11612,     0.11712,     0.11812,     0.11912,\n",
       "           0.12012,     0.12112,     0.12212,     0.12312,     0.12412,     0.12513,     0.12613,     0.12713,     0.12813,     0.12913,     0.13013,     0.13113,     0.13213,     0.13313,     0.13413,     0.13514,     0.13614,     0.13714,     0.13814,     0.13914,     0.14014,     0.14114,     0.14214,     0.14314,\n",
       "           0.14414,     0.14515,     0.14615,     0.14715,     0.14815,     0.14915,     0.15015,     0.15115,     0.15215,     0.15315,     0.15415,     0.15516,     0.15616,     0.15716,     0.15816,     0.15916,     0.16016,     0.16116,     0.16216,     0.16316,     0.16416,     0.16517,     0.16617,     0.16717,\n",
       "           0.16817,     0.16917,     0.17017,     0.17117,     0.17217,     0.17317,     0.17417,     0.17518,     0.17618,     0.17718,     0.17818,     0.17918,     0.18018,     0.18118,     0.18218,     0.18318,     0.18418,     0.18519,     0.18619,     0.18719,     0.18819,     0.18919,     0.19019,     0.19119,\n",
       "           0.19219,     0.19319,     0.19419,      0.1952,      0.1962,      0.1972,      0.1982,      0.1992,      0.2002,      0.2012,      0.2022,      0.2032,      0.2042,     0.20521,     0.20621,     0.20721,     0.20821,     0.20921,     0.21021,     0.21121,     0.21221,     0.21321,     0.21421,     0.21522,\n",
       "           0.21622,     0.21722,     0.21822,     0.21922,     0.22022,     0.22122,     0.22222,     0.22322,     0.22422,     0.22523,     0.22623,     0.22723,     0.22823,     0.22923,     0.23023,     0.23123,     0.23223,     0.23323,     0.23423,     0.23524,     0.23624,     0.23724,     0.23824,     0.23924,\n",
       "           0.24024,     0.24124,     0.24224,     0.24324,     0.24424,     0.24525,     0.24625,     0.24725,     0.24825,     0.24925,     0.25025,     0.25125,     0.25225,     0.25325,     0.25425,     0.25526,     0.25626,     0.25726,     0.25826,     0.25926,     0.26026,     0.26126,     0.26226,     0.26326,\n",
       "           0.26426,     0.26527,     0.26627,     0.26727,     0.26827,     0.26927,     0.27027,     0.27127,     0.27227,     0.27327,     0.27427,     0.27528,     0.27628,     0.27728,     0.27828,     0.27928,     0.28028,     0.28128,     0.28228,     0.28328,     0.28428,     0.28529,     0.28629,     0.28729,\n",
       "           0.28829,     0.28929,     0.29029,     0.29129,     0.29229,     0.29329,     0.29429,      0.2953,      0.2963,      0.2973,      0.2983,      0.2993,      0.3003,      0.3013,      0.3023,      0.3033,      0.3043,     0.30531,     0.30631,     0.30731,     0.30831,     0.30931,     0.31031,     0.31131,\n",
       "           0.31231,     0.31331,     0.31431,     0.31532,     0.31632,     0.31732,     0.31832,     0.31932,     0.32032,     0.32132,     0.32232,     0.32332,     0.32432,     0.32533,     0.32633,     0.32733,     0.32833,     0.32933,     0.33033,     0.33133,     0.33233,     0.33333,     0.33433,     0.33534,\n",
       "           0.33634,     0.33734,     0.33834,     0.33934,     0.34034,     0.34134,     0.34234,     0.34334,     0.34434,     0.34535,     0.34635,     0.34735,     0.34835,     0.34935,     0.35035,     0.35135,     0.35235,     0.35335,     0.35435,     0.35536,     0.35636,     0.35736,     0.35836,     0.35936,\n",
       "           0.36036,     0.36136,     0.36236,     0.36336,     0.36436,     0.36537,     0.36637,     0.36737,     0.36837,     0.36937,     0.37037,     0.37137,     0.37237,     0.37337,     0.37437,     0.37538,     0.37638,     0.37738,     0.37838,     0.37938,     0.38038,     0.38138,     0.38238,     0.38338,\n",
       "           0.38438,     0.38539,     0.38639,     0.38739,     0.38839,     0.38939,     0.39039,     0.39139,     0.39239,     0.39339,     0.39439,      0.3954,      0.3964,      0.3974,      0.3984,      0.3994,      0.4004,      0.4014,      0.4024,      0.4034,      0.4044,     0.40541,     0.40641,     0.40741,\n",
       "           0.40841,     0.40941,     0.41041,     0.41141,     0.41241,     0.41341,     0.41441,     0.41542,     0.41642,     0.41742,     0.41842,     0.41942,     0.42042,     0.42142,     0.42242,     0.42342,     0.42442,     0.42543,     0.42643,     0.42743,     0.42843,     0.42943,     0.43043,     0.43143,\n",
       "           0.43243,     0.43343,     0.43443,     0.43544,     0.43644,     0.43744,     0.43844,     0.43944,     0.44044,     0.44144,     0.44244,     0.44344,     0.44444,     0.44545,     0.44645,     0.44745,     0.44845,     0.44945,     0.45045,     0.45145,     0.45245,     0.45345,     0.45445,     0.45546,\n",
       "           0.45646,     0.45746,     0.45846,     0.45946,     0.46046,     0.46146,     0.46246,     0.46346,     0.46446,     0.46547,     0.46647,     0.46747,     0.46847,     0.46947,     0.47047,     0.47147,     0.47247,     0.47347,     0.47447,     0.47548,     0.47648,     0.47748,     0.47848,     0.47948,\n",
       "           0.48048,     0.48148,     0.48248,     0.48348,     0.48448,     0.48549,     0.48649,     0.48749,     0.48849,     0.48949,     0.49049,     0.49149,     0.49249,     0.49349,     0.49449,      0.4955,      0.4965,      0.4975,      0.4985,      0.4995,      0.5005,      0.5015,      0.5025,      0.5035,\n",
       "            0.5045,     0.50551,     0.50651,     0.50751,     0.50851,     0.50951,     0.51051,     0.51151,     0.51251,     0.51351,     0.51451,     0.51552,     0.51652,     0.51752,     0.51852,     0.51952,     0.52052,     0.52152,     0.52252,     0.52352,     0.52452,     0.52553,     0.52653,     0.52753,\n",
       "           0.52853,     0.52953,     0.53053,     0.53153,     0.53253,     0.53353,     0.53453,     0.53554,     0.53654,     0.53754,     0.53854,     0.53954,     0.54054,     0.54154,     0.54254,     0.54354,     0.54454,     0.54555,     0.54655,     0.54755,     0.54855,     0.54955,     0.55055,     0.55155,\n",
       "           0.55255,     0.55355,     0.55455,     0.55556,     0.55656,     0.55756,     0.55856,     0.55956,     0.56056,     0.56156,     0.56256,     0.56356,     0.56456,     0.56557,     0.56657,     0.56757,     0.56857,     0.56957,     0.57057,     0.57157,     0.57257,     0.57357,     0.57457,     0.57558,\n",
       "           0.57658,     0.57758,     0.57858,     0.57958,     0.58058,     0.58158,     0.58258,     0.58358,     0.58458,     0.58559,     0.58659,     0.58759,     0.58859,     0.58959,     0.59059,     0.59159,     0.59259,     0.59359,     0.59459,      0.5956,      0.5966,      0.5976,      0.5986,      0.5996,\n",
       "            0.6006,      0.6016,      0.6026,      0.6036,      0.6046,     0.60561,     0.60661,     0.60761,     0.60861,     0.60961,     0.61061,     0.61161,     0.61261,     0.61361,     0.61461,     0.61562,     0.61662,     0.61762,     0.61862,     0.61962,     0.62062,     0.62162,     0.62262,     0.62362,\n",
       "           0.62462,     0.62563,     0.62663,     0.62763,     0.62863,     0.62963,     0.63063,     0.63163,     0.63263,     0.63363,     0.63463,     0.63564,     0.63664,     0.63764,     0.63864,     0.63964,     0.64064,     0.64164,     0.64264,     0.64364,     0.64464,     0.64565,     0.64665,     0.64765,\n",
       "           0.64865,     0.64965,     0.65065,     0.65165,     0.65265,     0.65365,     0.65465,     0.65566,     0.65666,     0.65766,     0.65866,     0.65966,     0.66066,     0.66166,     0.66266,     0.66366,     0.66466,     0.66567,     0.66667,     0.66767,     0.66867,     0.66967,     0.67067,     0.67167,\n",
       "           0.67267,     0.67367,     0.67467,     0.67568,     0.67668,     0.67768,     0.67868,     0.67968,     0.68068,     0.68168,     0.68268,     0.68368,     0.68468,     0.68569,     0.68669,     0.68769,     0.68869,     0.68969,     0.69069,     0.69169,     0.69269,     0.69369,     0.69469,      0.6957,\n",
       "            0.6967,      0.6977,      0.6987,      0.6997,      0.7007,      0.7017,      0.7027,      0.7037,      0.7047,     0.70571,     0.70671,     0.70771,     0.70871,     0.70971,     0.71071,     0.71171,     0.71271,     0.71371,     0.71471,     0.71572,     0.71672,     0.71772,     0.71872,     0.71972,\n",
       "           0.72072,     0.72172,     0.72272,     0.72372,     0.72472,     0.72573,     0.72673,     0.72773,     0.72873,     0.72973,     0.73073,     0.73173,     0.73273,     0.73373,     0.73473,     0.73574,     0.73674,     0.73774,     0.73874,     0.73974,     0.74074,     0.74174,     0.74274,     0.74374,\n",
       "           0.74474,     0.74575,     0.74675,     0.74775,     0.74875,     0.74975,     0.75075,     0.75175,     0.75275,     0.75375,     0.75475,     0.75576,     0.75676,     0.75776,     0.75876,     0.75976,     0.76076,     0.76176,     0.76276,     0.76376,     0.76476,     0.76577,     0.76677,     0.76777,\n",
       "           0.76877,     0.76977,     0.77077,     0.77177,     0.77277,     0.77377,     0.77477,     0.77578,     0.77678,     0.77778,     0.77878,     0.77978,     0.78078,     0.78178,     0.78278,     0.78378,     0.78478,     0.78579,     0.78679,     0.78779,     0.78879,     0.78979,     0.79079,     0.79179,\n",
       "           0.79279,     0.79379,     0.79479,      0.7958,      0.7968,      0.7978,      0.7988,      0.7998,      0.8008,      0.8018,      0.8028,      0.8038,      0.8048,     0.80581,     0.80681,     0.80781,     0.80881,     0.80981,     0.81081,     0.81181,     0.81281,     0.81381,     0.81481,     0.81582,\n",
       "           0.81682,     0.81782,     0.81882,     0.81982,     0.82082,     0.82182,     0.82282,     0.82382,     0.82482,     0.82583,     0.82683,     0.82783,     0.82883,     0.82983,     0.83083,     0.83183,     0.83283,     0.83383,     0.83483,     0.83584,     0.83684,     0.83784,     0.83884,     0.83984,\n",
       "           0.84084,     0.84184,     0.84284,     0.84384,     0.84484,     0.84585,     0.84685,     0.84785,     0.84885,     0.84985,     0.85085,     0.85185,     0.85285,     0.85385,     0.85485,     0.85586,     0.85686,     0.85786,     0.85886,     0.85986,     0.86086,     0.86186,     0.86286,     0.86386,\n",
       "           0.86486,     0.86587,     0.86687,     0.86787,     0.86887,     0.86987,     0.87087,     0.87187,     0.87287,     0.87387,     0.87487,     0.87588,     0.87688,     0.87788,     0.87888,     0.87988,     0.88088,     0.88188,     0.88288,     0.88388,     0.88488,     0.88589,     0.88689,     0.88789,\n",
       "           0.88889,     0.88989,     0.89089,     0.89189,     0.89289,     0.89389,     0.89489,      0.8959,      0.8969,      0.8979,      0.8989,      0.8999,      0.9009,      0.9019,      0.9029,      0.9039,      0.9049,     0.90591,     0.90691,     0.90791,     0.90891,     0.90991,     0.91091,     0.91191,\n",
       "           0.91291,     0.91391,     0.91491,     0.91592,     0.91692,     0.91792,     0.91892,     0.91992,     0.92092,     0.92192,     0.92292,     0.92392,     0.92492,     0.92593,     0.92693,     0.92793,     0.92893,     0.92993,     0.93093,     0.93193,     0.93293,     0.93393,     0.93493,     0.93594,\n",
       "           0.93694,     0.93794,     0.93894,     0.93994,     0.94094,     0.94194,     0.94294,     0.94394,     0.94494,     0.94595,     0.94695,     0.94795,     0.94895,     0.94995,     0.95095,     0.95195,     0.95295,     0.95395,     0.95495,     0.95596,     0.95696,     0.95796,     0.95896,     0.95996,\n",
       "           0.96096,     0.96196,     0.96296,     0.96396,     0.96496,     0.96597,     0.96697,     0.96797,     0.96897,     0.96997,     0.97097,     0.97197,     0.97297,     0.97397,     0.97497,     0.97598,     0.97698,     0.97798,     0.97898,     0.97998,     0.98098,     0.98198,     0.98298,     0.98398,\n",
       "           0.98498,     0.98599,     0.98699,     0.98799,     0.98899,     0.98999,     0.99099,     0.99199,     0.99299,     0.99399,     0.99499,       0.996,       0.997,       0.998,       0.999,           1]), array([[    0.42857,     0.42857,     0.61266, ...,           1,           1,           1],\n",
       "       [    0.30974,     0.30986,     0.37356, ...,           1,           1,           1],\n",
       "       [   0.096131,    0.096131,     0.12275, ...,           1,           1,           1]]), 'Confidence', 'Precision'], [array([          0,    0.001001,    0.002002,    0.003003,    0.004004,    0.005005,    0.006006,    0.007007,    0.008008,    0.009009,     0.01001,    0.011011,    0.012012,    0.013013,    0.014014,    0.015015,    0.016016,    0.017017,    0.018018,    0.019019,     0.02002,    0.021021,    0.022022,    0.023023,\n",
       "          0.024024,    0.025025,    0.026026,    0.027027,    0.028028,    0.029029,     0.03003,    0.031031,    0.032032,    0.033033,    0.034034,    0.035035,    0.036036,    0.037037,    0.038038,    0.039039,     0.04004,    0.041041,    0.042042,    0.043043,    0.044044,    0.045045,    0.046046,    0.047047,\n",
       "          0.048048,    0.049049,     0.05005,    0.051051,    0.052052,    0.053053,    0.054054,    0.055055,    0.056056,    0.057057,    0.058058,    0.059059,     0.06006,    0.061061,    0.062062,    0.063063,    0.064064,    0.065065,    0.066066,    0.067067,    0.068068,    0.069069,     0.07007,    0.071071,\n",
       "          0.072072,    0.073073,    0.074074,    0.075075,    0.076076,    0.077077,    0.078078,    0.079079,     0.08008,    0.081081,    0.082082,    0.083083,    0.084084,    0.085085,    0.086086,    0.087087,    0.088088,    0.089089,     0.09009,    0.091091,    0.092092,    0.093093,    0.094094,    0.095095,\n",
       "          0.096096,    0.097097,    0.098098,    0.099099,      0.1001,      0.1011,      0.1021,      0.1031,      0.1041,     0.10511,     0.10611,     0.10711,     0.10811,     0.10911,     0.11011,     0.11111,     0.11211,     0.11311,     0.11411,     0.11512,     0.11612,     0.11712,     0.11812,     0.11912,\n",
       "           0.12012,     0.12112,     0.12212,     0.12312,     0.12412,     0.12513,     0.12613,     0.12713,     0.12813,     0.12913,     0.13013,     0.13113,     0.13213,     0.13313,     0.13413,     0.13514,     0.13614,     0.13714,     0.13814,     0.13914,     0.14014,     0.14114,     0.14214,     0.14314,\n",
       "           0.14414,     0.14515,     0.14615,     0.14715,     0.14815,     0.14915,     0.15015,     0.15115,     0.15215,     0.15315,     0.15415,     0.15516,     0.15616,     0.15716,     0.15816,     0.15916,     0.16016,     0.16116,     0.16216,     0.16316,     0.16416,     0.16517,     0.16617,     0.16717,\n",
       "           0.16817,     0.16917,     0.17017,     0.17117,     0.17217,     0.17317,     0.17417,     0.17518,     0.17618,     0.17718,     0.17818,     0.17918,     0.18018,     0.18118,     0.18218,     0.18318,     0.18418,     0.18519,     0.18619,     0.18719,     0.18819,     0.18919,     0.19019,     0.19119,\n",
       "           0.19219,     0.19319,     0.19419,      0.1952,      0.1962,      0.1972,      0.1982,      0.1992,      0.2002,      0.2012,      0.2022,      0.2032,      0.2042,     0.20521,     0.20621,     0.20721,     0.20821,     0.20921,     0.21021,     0.21121,     0.21221,     0.21321,     0.21421,     0.21522,\n",
       "           0.21622,     0.21722,     0.21822,     0.21922,     0.22022,     0.22122,     0.22222,     0.22322,     0.22422,     0.22523,     0.22623,     0.22723,     0.22823,     0.22923,     0.23023,     0.23123,     0.23223,     0.23323,     0.23423,     0.23524,     0.23624,     0.23724,     0.23824,     0.23924,\n",
       "           0.24024,     0.24124,     0.24224,     0.24324,     0.24424,     0.24525,     0.24625,     0.24725,     0.24825,     0.24925,     0.25025,     0.25125,     0.25225,     0.25325,     0.25425,     0.25526,     0.25626,     0.25726,     0.25826,     0.25926,     0.26026,     0.26126,     0.26226,     0.26326,\n",
       "           0.26426,     0.26527,     0.26627,     0.26727,     0.26827,     0.26927,     0.27027,     0.27127,     0.27227,     0.27327,     0.27427,     0.27528,     0.27628,     0.27728,     0.27828,     0.27928,     0.28028,     0.28128,     0.28228,     0.28328,     0.28428,     0.28529,     0.28629,     0.28729,\n",
       "           0.28829,     0.28929,     0.29029,     0.29129,     0.29229,     0.29329,     0.29429,      0.2953,      0.2963,      0.2973,      0.2983,      0.2993,      0.3003,      0.3013,      0.3023,      0.3033,      0.3043,     0.30531,     0.30631,     0.30731,     0.30831,     0.30931,     0.31031,     0.31131,\n",
       "           0.31231,     0.31331,     0.31431,     0.31532,     0.31632,     0.31732,     0.31832,     0.31932,     0.32032,     0.32132,     0.32232,     0.32332,     0.32432,     0.32533,     0.32633,     0.32733,     0.32833,     0.32933,     0.33033,     0.33133,     0.33233,     0.33333,     0.33433,     0.33534,\n",
       "           0.33634,     0.33734,     0.33834,     0.33934,     0.34034,     0.34134,     0.34234,     0.34334,     0.34434,     0.34535,     0.34635,     0.34735,     0.34835,     0.34935,     0.35035,     0.35135,     0.35235,     0.35335,     0.35435,     0.35536,     0.35636,     0.35736,     0.35836,     0.35936,\n",
       "           0.36036,     0.36136,     0.36236,     0.36336,     0.36436,     0.36537,     0.36637,     0.36737,     0.36837,     0.36937,     0.37037,     0.37137,     0.37237,     0.37337,     0.37437,     0.37538,     0.37638,     0.37738,     0.37838,     0.37938,     0.38038,     0.38138,     0.38238,     0.38338,\n",
       "           0.38438,     0.38539,     0.38639,     0.38739,     0.38839,     0.38939,     0.39039,     0.39139,     0.39239,     0.39339,     0.39439,      0.3954,      0.3964,      0.3974,      0.3984,      0.3994,      0.4004,      0.4014,      0.4024,      0.4034,      0.4044,     0.40541,     0.40641,     0.40741,\n",
       "           0.40841,     0.40941,     0.41041,     0.41141,     0.41241,     0.41341,     0.41441,     0.41542,     0.41642,     0.41742,     0.41842,     0.41942,     0.42042,     0.42142,     0.42242,     0.42342,     0.42442,     0.42543,     0.42643,     0.42743,     0.42843,     0.42943,     0.43043,     0.43143,\n",
       "           0.43243,     0.43343,     0.43443,     0.43544,     0.43644,     0.43744,     0.43844,     0.43944,     0.44044,     0.44144,     0.44244,     0.44344,     0.44444,     0.44545,     0.44645,     0.44745,     0.44845,     0.44945,     0.45045,     0.45145,     0.45245,     0.45345,     0.45445,     0.45546,\n",
       "           0.45646,     0.45746,     0.45846,     0.45946,     0.46046,     0.46146,     0.46246,     0.46346,     0.46446,     0.46547,     0.46647,     0.46747,     0.46847,     0.46947,     0.47047,     0.47147,     0.47247,     0.47347,     0.47447,     0.47548,     0.47648,     0.47748,     0.47848,     0.47948,\n",
       "           0.48048,     0.48148,     0.48248,     0.48348,     0.48448,     0.48549,     0.48649,     0.48749,     0.48849,     0.48949,     0.49049,     0.49149,     0.49249,     0.49349,     0.49449,      0.4955,      0.4965,      0.4975,      0.4985,      0.4995,      0.5005,      0.5015,      0.5025,      0.5035,\n",
       "            0.5045,     0.50551,     0.50651,     0.50751,     0.50851,     0.50951,     0.51051,     0.51151,     0.51251,     0.51351,     0.51451,     0.51552,     0.51652,     0.51752,     0.51852,     0.51952,     0.52052,     0.52152,     0.52252,     0.52352,     0.52452,     0.52553,     0.52653,     0.52753,\n",
       "           0.52853,     0.52953,     0.53053,     0.53153,     0.53253,     0.53353,     0.53453,     0.53554,     0.53654,     0.53754,     0.53854,     0.53954,     0.54054,     0.54154,     0.54254,     0.54354,     0.54454,     0.54555,     0.54655,     0.54755,     0.54855,     0.54955,     0.55055,     0.55155,\n",
       "           0.55255,     0.55355,     0.55455,     0.55556,     0.55656,     0.55756,     0.55856,     0.55956,     0.56056,     0.56156,     0.56256,     0.56356,     0.56456,     0.56557,     0.56657,     0.56757,     0.56857,     0.56957,     0.57057,     0.57157,     0.57257,     0.57357,     0.57457,     0.57558,\n",
       "           0.57658,     0.57758,     0.57858,     0.57958,     0.58058,     0.58158,     0.58258,     0.58358,     0.58458,     0.58559,     0.58659,     0.58759,     0.58859,     0.58959,     0.59059,     0.59159,     0.59259,     0.59359,     0.59459,      0.5956,      0.5966,      0.5976,      0.5986,      0.5996,\n",
       "            0.6006,      0.6016,      0.6026,      0.6036,      0.6046,     0.60561,     0.60661,     0.60761,     0.60861,     0.60961,     0.61061,     0.61161,     0.61261,     0.61361,     0.61461,     0.61562,     0.61662,     0.61762,     0.61862,     0.61962,     0.62062,     0.62162,     0.62262,     0.62362,\n",
       "           0.62462,     0.62563,     0.62663,     0.62763,     0.62863,     0.62963,     0.63063,     0.63163,     0.63263,     0.63363,     0.63463,     0.63564,     0.63664,     0.63764,     0.63864,     0.63964,     0.64064,     0.64164,     0.64264,     0.64364,     0.64464,     0.64565,     0.64665,     0.64765,\n",
       "           0.64865,     0.64965,     0.65065,     0.65165,     0.65265,     0.65365,     0.65465,     0.65566,     0.65666,     0.65766,     0.65866,     0.65966,     0.66066,     0.66166,     0.66266,     0.66366,     0.66466,     0.66567,     0.66667,     0.66767,     0.66867,     0.66967,     0.67067,     0.67167,\n",
       "           0.67267,     0.67367,     0.67467,     0.67568,     0.67668,     0.67768,     0.67868,     0.67968,     0.68068,     0.68168,     0.68268,     0.68368,     0.68468,     0.68569,     0.68669,     0.68769,     0.68869,     0.68969,     0.69069,     0.69169,     0.69269,     0.69369,     0.69469,      0.6957,\n",
       "            0.6967,      0.6977,      0.6987,      0.6997,      0.7007,      0.7017,      0.7027,      0.7037,      0.7047,     0.70571,     0.70671,     0.70771,     0.70871,     0.70971,     0.71071,     0.71171,     0.71271,     0.71371,     0.71471,     0.71572,     0.71672,     0.71772,     0.71872,     0.71972,\n",
       "           0.72072,     0.72172,     0.72272,     0.72372,     0.72472,     0.72573,     0.72673,     0.72773,     0.72873,     0.72973,     0.73073,     0.73173,     0.73273,     0.73373,     0.73473,     0.73574,     0.73674,     0.73774,     0.73874,     0.73974,     0.74074,     0.74174,     0.74274,     0.74374,\n",
       "           0.74474,     0.74575,     0.74675,     0.74775,     0.74875,     0.74975,     0.75075,     0.75175,     0.75275,     0.75375,     0.75475,     0.75576,     0.75676,     0.75776,     0.75876,     0.75976,     0.76076,     0.76176,     0.76276,     0.76376,     0.76476,     0.76577,     0.76677,     0.76777,\n",
       "           0.76877,     0.76977,     0.77077,     0.77177,     0.77277,     0.77377,     0.77477,     0.77578,     0.77678,     0.77778,     0.77878,     0.77978,     0.78078,     0.78178,     0.78278,     0.78378,     0.78478,     0.78579,     0.78679,     0.78779,     0.78879,     0.78979,     0.79079,     0.79179,\n",
       "           0.79279,     0.79379,     0.79479,      0.7958,      0.7968,      0.7978,      0.7988,      0.7998,      0.8008,      0.8018,      0.8028,      0.8038,      0.8048,     0.80581,     0.80681,     0.80781,     0.80881,     0.80981,     0.81081,     0.81181,     0.81281,     0.81381,     0.81481,     0.81582,\n",
       "           0.81682,     0.81782,     0.81882,     0.81982,     0.82082,     0.82182,     0.82282,     0.82382,     0.82482,     0.82583,     0.82683,     0.82783,     0.82883,     0.82983,     0.83083,     0.83183,     0.83283,     0.83383,     0.83483,     0.83584,     0.83684,     0.83784,     0.83884,     0.83984,\n",
       "           0.84084,     0.84184,     0.84284,     0.84384,     0.84484,     0.84585,     0.84685,     0.84785,     0.84885,     0.84985,     0.85085,     0.85185,     0.85285,     0.85385,     0.85485,     0.85586,     0.85686,     0.85786,     0.85886,     0.85986,     0.86086,     0.86186,     0.86286,     0.86386,\n",
       "           0.86486,     0.86587,     0.86687,     0.86787,     0.86887,     0.86987,     0.87087,     0.87187,     0.87287,     0.87387,     0.87487,     0.87588,     0.87688,     0.87788,     0.87888,     0.87988,     0.88088,     0.88188,     0.88288,     0.88388,     0.88488,     0.88589,     0.88689,     0.88789,\n",
       "           0.88889,     0.88989,     0.89089,     0.89189,     0.89289,     0.89389,     0.89489,      0.8959,      0.8969,      0.8979,      0.8989,      0.8999,      0.9009,      0.9019,      0.9029,      0.9039,      0.9049,     0.90591,     0.90691,     0.90791,     0.90891,     0.90991,     0.91091,     0.91191,\n",
       "           0.91291,     0.91391,     0.91491,     0.91592,     0.91692,     0.91792,     0.91892,     0.91992,     0.92092,     0.92192,     0.92292,     0.92392,     0.92492,     0.92593,     0.92693,     0.92793,     0.92893,     0.92993,     0.93093,     0.93193,     0.93293,     0.93393,     0.93493,     0.93594,\n",
       "           0.93694,     0.93794,     0.93894,     0.93994,     0.94094,     0.94194,     0.94294,     0.94394,     0.94494,     0.94595,     0.94695,     0.94795,     0.94895,     0.94995,     0.95095,     0.95195,     0.95295,     0.95395,     0.95495,     0.95596,     0.95696,     0.95796,     0.95896,     0.95996,\n",
       "           0.96096,     0.96196,     0.96296,     0.96396,     0.96496,     0.96597,     0.96697,     0.96797,     0.96897,     0.96997,     0.97097,     0.97197,     0.97297,     0.97397,     0.97497,     0.97598,     0.97698,     0.97798,     0.97898,     0.97998,     0.98098,     0.98198,     0.98298,     0.98398,\n",
       "           0.98498,     0.98599,     0.98699,     0.98799,     0.98899,     0.98999,     0.99099,     0.99199,     0.99299,     0.99399,     0.99499,       0.996,       0.997,       0.998,       0.999,           1]), array([[          1,           1,           1, ...,           0,           0,           0],\n",
       "       [    0.98554,     0.98554,      0.9814, ...,           0,           0,           0],\n",
       "       [    0.98795,     0.98795,     0.98795, ...,           0,           0,           0]]), 'Confidence', 'Recall']]\n",
       "fitness: 0.6041623460451349\n",
       "keys: ['metrics/precision(B)', 'metrics/recall(B)', 'metrics/mAP50(B)', 'metrics/mAP50-95(B)']\n",
       "maps: array([    0.79092,     0.58938,     0.34068])\n",
       "names: {0: 'WBC', 1: 'RBC', 2: 'Platelets'}\n",
       "plot: True\n",
       "results_dict: {'metrics/precision(B)': 0.8521522665413851, 'metrics/recall(B)': 0.8187497166216261, 'metrics/mAP50(B)': 0.8786639093088141, 'metrics/mAP50-95(B)': 0.5736621723491704, 'fitness': 0.6041623460451349}\n",
       "save_dir: WindowsPath('runs/detect/train')\n",
       "speed: {'preprocess': 0.39523103456387576, 'inference': 3.031809196068809, 'loss': 0.0002620682848253469, 'postprocess': 0.23972643632977003}\n",
       "task: 'detect'"
      ]
     },
     "execution_count": 3,
     "metadata": {},
     "output_type": "execute_result"
    }
   ],
   "source": [
    "from ultralytics import YOLO\n",
    "import torch\n",
    "import os\n",
    "dataset_yaml = str(os.getcwd())+\"/dataset/dataset.yaml\"\n",
    "model_path = \"yolov10s.pt\"  # You can use yolov10n.pt, yolov10m.pt, etc.\n",
    "model = YOLO(model_path)\n",
    "model.train(\n",
    "    data=dataset_yaml, \n",
    "    epochs=100, \n",
    "    imgsz=640, \n",
    "    batch=16, \n",
    "    device=0, \n",
    "    lr0=0.001,  # Learning rate\n",
    "    hsv_h=0.02,  # Hue augmentation\n",
    "    hsv_s=0.7,   # Saturation augmentation\n",
    "    hsv_v=0.4,   # Brightness augmentation\n",
    "    flipud=0.1,  # Vertical flip\n",
    "    fliplr=0.5,  # Horizontal flip\n",
    "    scale=0.5,   # Scaling (zoom in/out)\n",
    "    perspective=0.0005,  # Perspective transformation\n",
    "    shear=0.1,   # Shear transformation\n",
    "    mosaic=1.0,  # Mosaic augmentation (blends 4 images)\n",
    "    mixup=0.1    # Mixup augmentation\n",
    ")"
   ]
  },
  {
   "cell_type": "code",
   "execution_count": 6,
   "metadata": {},
   "outputs": [
    {
     "name": "stdout",
     "output_type": "stream",
     "text": [
      "Ultralytics 8.3.92  Python-3.12.2 torch-2.5.1+cu124 CUDA:0 (NVIDIA GeForce RTX 3080 Laptop GPU, 16384MiB)\n",
      "YOLOv10s summary (fused): 129 layers, 8,037,282 parameters, 0 gradients, 24.5 GFLOPs\n"
     ]
    },
    {
     "name": "stderr",
     "output_type": "stream",
     "text": [
      "\u001b[34m\u001b[1mval: \u001b[0mScanning C:\\Users\\Shamim\\Downloads\\ObjectDetection\\ObjectDetection\\dataset\\labels\\test... 72 images, 0 backgrounds, 0 corrupt: 100%|██████████| 72/72 [00:00<00:00, 1007.19it/s]"
     ]
    },
    {
     "name": "stdout",
     "output_type": "stream",
     "text": [
      "\u001b[34m\u001b[1mval: \u001b[0mNew cache created: C:\\Users\\Shamim\\Downloads\\ObjectDetection\\ObjectDetection\\dataset\\labels\\test.cache\n"
     ]
    },
    {
     "name": "stderr",
     "output_type": "stream",
     "text": [
      "\n",
      "                 Class     Images  Instances      Box(P          R      mAP50  mAP50-95): 100%|██████████| 5/5 [00:06<00:00,  1.38s/it]\n"
     ]
    },
    {
     "name": "stdout",
     "output_type": "stream",
     "text": [
      "                   all         72        945      0.802      0.798      0.854      0.568\n",
      "                   WBC         68         71      0.884      0.986       0.95      0.744\n",
      "                   RBC         69        805      0.796       0.77       0.86      0.586\n",
      "             Platelets         39         69      0.726      0.638      0.752      0.374\n",
      "Speed: 1.6ms preprocess, 8.7ms inference, 0.0ms loss, 2.0ms postprocess per image\n",
      "Results saved to \u001b[1mruns\\detect\\val2\u001b[0m\n"
     ]
    }
   ],
   "source": [
    "best_model_path = \"runs/detect/train/weights/best.pt\"\n",
    "model = YOLO(best_model_path)\n",
    "metrics = model.val(data=dataset_yaml)"
   ]
  },
  {
   "cell_type": "code",
   "execution_count": 2,
   "metadata": {},
   "outputs": [
    {
     "name": "stdout",
     "output_type": "stream",
     "text": [
      "Collecting ultralytics\n",
      "  Downloading ultralytics-8.3.92-py3-none-any.whl.metadata (35 kB)\n",
      "Requirement already satisfied: numpy<=2.1.1,>=1.23.0 in c:\\users\\shamim\\appdata\\local\\programs\\python\\python312\\lib\\site-packages (from ultralytics) (1.26.4)\n",
      "Requirement already satisfied: matplotlib>=3.3.0 in c:\\users\\shamim\\appdata\\local\\programs\\python\\python312\\lib\\site-packages (from ultralytics) (3.8.3)\n",
      "Collecting opencv-python>=4.6.0 (from ultralytics)\n",
      "  Downloading opencv_python-4.11.0.86-cp37-abi3-win_amd64.whl.metadata (20 kB)\n",
      "Requirement already satisfied: pillow>=7.1.2 in c:\\users\\shamim\\appdata\\local\\programs\\python\\python312\\lib\\site-packages (from ultralytics) (10.2.0)\n",
      "Collecting pyyaml>=5.3.1 (from ultralytics)\n",
      "  Downloading PyYAML-6.0.2-cp312-cp312-win_amd64.whl.metadata (2.1 kB)\n",
      "Requirement already satisfied: requests>=2.23.0 in c:\\users\\shamim\\appdata\\local\\programs\\python\\python312\\lib\\site-packages (from ultralytics) (2.32.3)\n",
      "Requirement already satisfied: scipy>=1.4.1 in c:\\users\\shamim\\appdata\\local\\programs\\python\\python312\\lib\\site-packages (from ultralytics) (1.12.0)\n",
      "Requirement already satisfied: torch>=1.8.0 in c:\\users\\shamim\\appdata\\local\\programs\\python\\python312\\lib\\site-packages (from ultralytics) (2.5.1+cu124)\n",
      "Requirement already satisfied: torchvision>=0.9.0 in c:\\users\\shamim\\appdata\\local\\programs\\python\\python312\\lib\\site-packages (from ultralytics) (0.20.1+cu124)\n",
      "Requirement already satisfied: tqdm>=4.64.0 in c:\\users\\shamim\\appdata\\local\\programs\\python\\python312\\lib\\site-packages (from ultralytics) (4.66.4)\n",
      "Requirement already satisfied: psutil in c:\\users\\shamim\\appdata\\roaming\\python\\python312\\site-packages (from ultralytics) (5.9.8)\n",
      "Collecting py-cpuinfo (from ultralytics)\n",
      "  Downloading py_cpuinfo-9.0.0-py3-none-any.whl.metadata (794 bytes)\n",
      "Requirement already satisfied: pandas>=1.1.4 in c:\\users\\shamim\\appdata\\local\\programs\\python\\python312\\lib\\site-packages (from ultralytics) (2.2.1)\n",
      "Requirement already satisfied: seaborn>=0.11.0 in c:\\users\\shamim\\appdata\\local\\programs\\python\\python312\\lib\\site-packages (from ultralytics) (0.13.2)\n",
      "Collecting ultralytics-thop>=2.0.0 (from ultralytics)\n",
      "  Downloading ultralytics_thop-2.0.14-py3-none-any.whl.metadata (9.4 kB)\n",
      "Requirement already satisfied: contourpy>=1.0.1 in c:\\users\\shamim\\appdata\\local\\programs\\python\\python312\\lib\\site-packages (from matplotlib>=3.3.0->ultralytics) (1.2.0)\n",
      "Requirement already satisfied: cycler>=0.10 in c:\\users\\shamim\\appdata\\local\\programs\\python\\python312\\lib\\site-packages (from matplotlib>=3.3.0->ultralytics) (0.12.1)\n",
      "Requirement already satisfied: fonttools>=4.22.0 in c:\\users\\shamim\\appdata\\local\\programs\\python\\python312\\lib\\site-packages (from matplotlib>=3.3.0->ultralytics) (4.50.0)\n",
      "Requirement already satisfied: kiwisolver>=1.3.1 in c:\\users\\shamim\\appdata\\local\\programs\\python\\python312\\lib\\site-packages (from matplotlib>=3.3.0->ultralytics) (1.4.5)\n",
      "Requirement already satisfied: packaging>=20.0 in c:\\users\\shamim\\appdata\\roaming\\python\\python312\\site-packages (from matplotlib>=3.3.0->ultralytics) (24.0)\n",
      "Requirement already satisfied: pyparsing>=2.3.1 in c:\\users\\shamim\\appdata\\local\\programs\\python\\python312\\lib\\site-packages (from matplotlib>=3.3.0->ultralytics) (3.1.2)\n",
      "Requirement already satisfied: python-dateutil>=2.7 in c:\\users\\shamim\\appdata\\roaming\\python\\python312\\site-packages (from matplotlib>=3.3.0->ultralytics) (2.9.0.post0)\n",
      "Requirement already satisfied: pytz>=2020.1 in c:\\users\\shamim\\appdata\\local\\programs\\python\\python312\\lib\\site-packages (from pandas>=1.1.4->ultralytics) (2024.1)\n",
      "Requirement already satisfied: tzdata>=2022.7 in c:\\users\\shamim\\appdata\\local\\programs\\python\\python312\\lib\\site-packages (from pandas>=1.1.4->ultralytics) (2024.1)\n",
      "Requirement already satisfied: charset-normalizer<4,>=2 in c:\\users\\shamim\\appdata\\local\\programs\\python\\python312\\lib\\site-packages (from requests>=2.23.0->ultralytics) (3.3.2)\n",
      "Requirement already satisfied: idna<4,>=2.5 in c:\\users\\shamim\\appdata\\local\\programs\\python\\python312\\lib\\site-packages (from requests>=2.23.0->ultralytics) (3.7)\n",
      "Requirement already satisfied: urllib3<3,>=1.21.1 in c:\\users\\shamim\\appdata\\local\\programs\\python\\python312\\lib\\site-packages (from requests>=2.23.0->ultralytics) (2.2.1)\n",
      "Requirement already satisfied: certifi>=2017.4.17 in c:\\users\\shamim\\appdata\\local\\programs\\python\\python312\\lib\\site-packages (from requests>=2.23.0->ultralytics) (2024.6.2)\n",
      "Requirement already satisfied: filelock in c:\\users\\shamim\\appdata\\local\\programs\\python\\python312\\lib\\site-packages (from torch>=1.8.0->ultralytics) (3.13.1)\n",
      "Requirement already satisfied: typing-extensions>=4.8.0 in c:\\users\\shamim\\appdata\\local\\programs\\python\\python312\\lib\\site-packages (from torch>=1.8.0->ultralytics) (4.12.2)\n",
      "Requirement already satisfied: networkx in c:\\users\\shamim\\appdata\\local\\programs\\python\\python312\\lib\\site-packages (from torch>=1.8.0->ultralytics) (3.2.1)\n",
      "Requirement already satisfied: jinja2 in c:\\users\\shamim\\appdata\\local\\programs\\python\\python312\\lib\\site-packages (from torch>=1.8.0->ultralytics) (3.1.4)\n",
      "Requirement already satisfied: fsspec in c:\\users\\shamim\\appdata\\local\\programs\\python\\python312\\lib\\site-packages (from torch>=1.8.0->ultralytics) (2024.3.1)\n",
      "Requirement already satisfied: setuptools in c:\\users\\shamim\\appdata\\local\\programs\\python\\python312\\lib\\site-packages (from torch>=1.8.0->ultralytics) (70.0.0)\n",
      "Requirement already satisfied: sympy==1.13.1 in c:\\users\\shamim\\appdata\\local\\programs\\python\\python312\\lib\\site-packages (from torch>=1.8.0->ultralytics) (1.13.1)\n",
      "Requirement already satisfied: mpmath<1.4,>=1.1.0 in c:\\users\\shamim\\appdata\\local\\programs\\python\\python312\\lib\\site-packages (from sympy==1.13.1->torch>=1.8.0->ultralytics) (1.3.0)\n",
      "Requirement already satisfied: colorama in c:\\users\\shamim\\appdata\\roaming\\python\\python312\\site-packages (from tqdm>=4.64.0->ultralytics) (0.4.6)\n",
      "Requirement already satisfied: six>=1.5 in c:\\users\\shamim\\appdata\\roaming\\python\\python312\\site-packages (from python-dateutil>=2.7->matplotlib>=3.3.0->ultralytics) (1.16.0)\n",
      "Requirement already satisfied: MarkupSafe>=2.0 in c:\\users\\shamim\\appdata\\local\\programs\\python\\python312\\lib\\site-packages (from jinja2->torch>=1.8.0->ultralytics) (2.1.5)\n",
      "Downloading ultralytics-8.3.92-py3-none-any.whl (949 kB)\n",
      "   ---------------------------------------- 0.0/949.3 kB ? eta -:--:--\n",
      "   ----------------- --------------------- 419.8/949.3 kB 13.2 MB/s eta 0:00:01\n",
      "   -------------------- ------------------- 481.3/949.3 kB 6.0 MB/s eta 0:00:01\n",
      "   ----------------------- ---------------- 553.0/949.3 kB 4.3 MB/s eta 0:00:01\n",
      "   ----------------------- ---------------- 553.0/949.3 kB 4.3 MB/s eta 0:00:01\n",
      "   ---------------------------- ----------- 686.1/949.3 kB 3.1 MB/s eta 0:00:01\n",
      "   ------------------------------- -------- 747.5/949.3 kB 2.8 MB/s eta 0:00:01\n",
      "   ---------------------------------- ----- 829.4/949.3 kB 2.6 MB/s eta 0:00:01\n",
      "   ------------------------------------- -- 890.9/949.3 kB 2.5 MB/s eta 0:00:01\n",
      "   ---------------------------------------  942.1/949.3 kB 2.4 MB/s eta 0:00:01\n",
      "   ---------------------------------------- 949.3/949.3 kB 2.2 MB/s eta 0:00:00\n",
      "Downloading opencv_python-4.11.0.86-cp37-abi3-win_amd64.whl (39.5 MB)\n",
      "   ---------------------------------------- 0.0/39.5 MB ? eta -:--:--\n",
      "   ---------------------------------------- 0.1/39.5 MB 3.3 MB/s eta 0:00:12\n",
      "   ---------------------------------------- 0.2/39.5 MB 2.4 MB/s eta 0:00:17\n",
      "   ---------------------------------------- 0.3/39.5 MB 2.0 MB/s eta 0:00:20\n",
      "   ---------------------------------------- 0.3/39.5 MB 1.8 MB/s eta 0:00:22\n",
      "   ---------------------------------------- 0.4/39.5 MB 1.8 MB/s eta 0:00:22\n",
      "   ---------------------------------------- 0.5/39.5 MB 1.7 MB/s eta 0:00:24\n",
      "   ---------------------------------------- 0.5/39.5 MB 1.7 MB/s eta 0:00:24\n",
      "    --------------------------------------- 0.6/39.5 MB 1.7 MB/s eta 0:00:24\n",
      "    --------------------------------------- 0.6/39.5 MB 1.6 MB/s eta 0:00:25\n",
      "    --------------------------------------- 0.7/39.5 MB 1.7 MB/s eta 0:00:24\n",
      "    --------------------------------------- 0.8/39.5 MB 1.6 MB/s eta 0:00:25\n",
      "    --------------------------------------- 0.9/39.5 MB 1.6 MB/s eta 0:00:25\n",
      "    --------------------------------------- 0.9/39.5 MB 1.6 MB/s eta 0:00:25\n",
      "   - -------------------------------------- 1.0/39.5 MB 1.6 MB/s eta 0:00:25\n",
      "   - -------------------------------------- 1.1/39.5 MB 1.6 MB/s eta 0:00:25\n",
      "   - -------------------------------------- 1.1/39.5 MB 1.5 MB/s eta 0:00:26\n",
      "   - -------------------------------------- 1.2/39.5 MB 1.5 MB/s eta 0:00:26\n",
      "   - -------------------------------------- 1.2/39.5 MB 1.5 MB/s eta 0:00:26\n",
      "   - -------------------------------------- 1.3/39.5 MB 1.5 MB/s eta 0:00:26\n",
      "   - -------------------------------------- 1.4/39.5 MB 1.5 MB/s eta 0:00:26\n",
      "   - -------------------------------------- 1.4/39.5 MB 1.5 MB/s eta 0:00:25\n",
      "   - -------------------------------------- 1.5/39.5 MB 1.5 MB/s eta 0:00:25\n",
      "   - -------------------------------------- 1.6/39.5 MB 1.5 MB/s eta 0:00:26\n",
      "   - -------------------------------------- 1.6/39.5 MB 1.5 MB/s eta 0:00:26\n",
      "   - -------------------------------------- 1.7/39.5 MB 1.5 MB/s eta 0:00:26\n",
      "   - -------------------------------------- 1.7/39.5 MB 1.5 MB/s eta 0:00:26\n",
      "   - -------------------------------------- 1.8/39.5 MB 1.5 MB/s eta 0:00:26\n",
      "   - -------------------------------------- 1.9/39.5 MB 1.5 MB/s eta 0:00:26\n",
      "   - -------------------------------------- 2.0/39.5 MB 1.5 MB/s eta 0:00:26\n",
      "   -- ------------------------------------- 2.0/39.5 MB 1.5 MB/s eta 0:00:26\n",
      "   -- ------------------------------------- 2.1/39.5 MB 1.5 MB/s eta 0:00:26\n",
      "   -- ------------------------------------- 2.1/39.5 MB 1.5 MB/s eta 0:00:26\n",
      "   -- ------------------------------------- 2.2/39.5 MB 1.5 MB/s eta 0:00:26\n",
      "   -- ------------------------------------- 2.3/39.5 MB 1.5 MB/s eta 0:00:26\n",
      "   -- ------------------------------------- 2.3/39.5 MB 1.5 MB/s eta 0:00:26\n",
      "   -- ------------------------------------- 2.4/39.5 MB 1.5 MB/s eta 0:00:26\n",
      "   -- ------------------------------------- 2.5/39.5 MB 1.5 MB/s eta 0:00:26\n",
      "   -- ------------------------------------- 2.5/39.5 MB 1.5 MB/s eta 0:00:26\n",
      "   -- ------------------------------------- 2.6/39.5 MB 1.5 MB/s eta 0:00:26\n",
      "   -- ------------------------------------- 2.6/39.5 MB 1.4 MB/s eta 0:00:26\n",
      "   -- ------------------------------------- 2.7/39.5 MB 1.4 MB/s eta 0:00:26\n",
      "   -- ------------------------------------- 2.8/39.5 MB 1.4 MB/s eta 0:00:26\n",
      "   -- ------------------------------------- 2.8/39.5 MB 1.4 MB/s eta 0:00:26\n",
      "   -- ------------------------------------- 2.9/39.5 MB 1.4 MB/s eta 0:00:26\n",
      "   --- ------------------------------------ 3.0/39.5 MB 1.5 MB/s eta 0:00:25\n",
      "   --- ------------------------------------ 3.1/39.5 MB 1.5 MB/s eta 0:00:25\n",
      "   --- ------------------------------------ 3.1/39.5 MB 1.5 MB/s eta 0:00:25\n",
      "   --- ------------------------------------ 3.2/39.5 MB 1.5 MB/s eta 0:00:26\n",
      "   --- ------------------------------------ 3.2/39.5 MB 1.4 MB/s eta 0:00:26\n",
      "   --- ------------------------------------ 3.3/39.5 MB 1.4 MB/s eta 0:00:26\n",
      "   --- ------------------------------------ 3.3/39.5 MB 1.4 MB/s eta 0:00:26\n",
      "   --- ------------------------------------ 3.4/39.5 MB 1.4 MB/s eta 0:00:26\n",
      "   --- ------------------------------------ 3.5/39.5 MB 1.4 MB/s eta 0:00:25\n",
      "   --- ------------------------------------ 3.6/39.5 MB 1.5 MB/s eta 0:00:25\n",
      "   --- ------------------------------------ 3.7/39.5 MB 1.4 MB/s eta 0:00:25\n",
      "   --- ------------------------------------ 3.7/39.5 MB 1.4 MB/s eta 0:00:25\n",
      "   --- ------------------------------------ 3.7/39.5 MB 1.4 MB/s eta 0:00:25\n",
      "   --- ------------------------------------ 3.8/39.5 MB 1.4 MB/s eta 0:00:25\n",
      "   --- ------------------------------------ 3.9/39.5 MB 1.4 MB/s eta 0:00:26\n",
      "   --- ------------------------------------ 3.9/39.5 MB 1.4 MB/s eta 0:00:25\n",
      "   ---- ----------------------------------- 4.0/39.5 MB 1.4 MB/s eta 0:00:25\n",
      "   ---- ----------------------------------- 4.1/39.5 MB 1.4 MB/s eta 0:00:25\n",
      "   ---- ----------------------------------- 4.2/39.5 MB 1.4 MB/s eta 0:00:25\n",
      "   ---- ----------------------------------- 4.2/39.5 MB 1.4 MB/s eta 0:00:25\n",
      "   ---- ----------------------------------- 4.3/39.5 MB 1.4 MB/s eta 0:00:25\n",
      "   ---- ----------------------------------- 4.4/39.5 MB 1.4 MB/s eta 0:00:25\n",
      "   ---- ----------------------------------- 4.4/39.5 MB 1.4 MB/s eta 0:00:25\n",
      "   ---- ----------------------------------- 4.5/39.5 MB 1.4 MB/s eta 0:00:25\n",
      "   ---- ----------------------------------- 4.5/39.5 MB 1.4 MB/s eta 0:00:25\n",
      "   ---- ----------------------------------- 4.6/39.5 MB 1.4 MB/s eta 0:00:25\n",
      "   ---- ----------------------------------- 4.7/39.5 MB 1.4 MB/s eta 0:00:25\n",
      "   ---- ----------------------------------- 4.8/39.5 MB 1.4 MB/s eta 0:00:25\n",
      "   ---- ----------------------------------- 4.8/39.5 MB 1.4 MB/s eta 0:00:25\n",
      "   ---- ----------------------------------- 4.9/39.5 MB 1.4 MB/s eta 0:00:25\n",
      "   ---- ----------------------------------- 4.9/39.5 MB 1.4 MB/s eta 0:00:25\n",
      "   ----- ---------------------------------- 5.0/39.5 MB 1.4 MB/s eta 0:00:25\n",
      "   ----- ---------------------------------- 5.0/39.5 MB 1.4 MB/s eta 0:00:25\n",
      "   ----- ---------------------------------- 5.1/39.5 MB 1.4 MB/s eta 0:00:25\n",
      "   ----- ---------------------------------- 5.2/39.5 MB 1.4 MB/s eta 0:00:24\n",
      "   ----- ---------------------------------- 5.3/39.5 MB 1.4 MB/s eta 0:00:24\n",
      "   ----- ---------------------------------- 5.3/39.5 MB 1.4 MB/s eta 0:00:24\n",
      "   ----- ---------------------------------- 5.4/39.5 MB 1.4 MB/s eta 0:00:24\n",
      "   ----- ---------------------------------- 5.5/39.5 MB 1.4 MB/s eta 0:00:24\n",
      "   ----- ---------------------------------- 5.5/39.5 MB 1.4 MB/s eta 0:00:24\n",
      "   ----- ---------------------------------- 5.6/39.5 MB 1.4 MB/s eta 0:00:24\n",
      "   ----- ---------------------------------- 5.6/39.5 MB 1.4 MB/s eta 0:00:24\n",
      "   ----- ---------------------------------- 5.7/39.5 MB 1.4 MB/s eta 0:00:24\n",
      "   ----- ---------------------------------- 5.8/39.5 MB 1.4 MB/s eta 0:00:24\n",
      "   ----- ---------------------------------- 5.8/39.5 MB 1.4 MB/s eta 0:00:24\n",
      "   ----- ---------------------------------- 5.9/39.5 MB 1.4 MB/s eta 0:00:24\n",
      "   ------ --------------------------------- 6.0/39.5 MB 1.4 MB/s eta 0:00:24\n",
      "   ------ --------------------------------- 6.0/39.5 MB 1.4 MB/s eta 0:00:24\n",
      "   ------ --------------------------------- 6.1/39.5 MB 1.4 MB/s eta 0:00:24\n",
      "   ------ --------------------------------- 6.1/39.5 MB 1.4 MB/s eta 0:00:24\n",
      "   ------ --------------------------------- 6.2/39.5 MB 1.4 MB/s eta 0:00:24\n",
      "   ------ --------------------------------- 6.3/39.5 MB 1.4 MB/s eta 0:00:24\n",
      "   ------ --------------------------------- 6.3/39.5 MB 1.4 MB/s eta 0:00:24\n",
      "   ------ --------------------------------- 6.4/39.5 MB 1.4 MB/s eta 0:00:24\n",
      "   ------ --------------------------------- 6.5/39.5 MB 1.4 MB/s eta 0:00:24\n",
      "   ------ --------------------------------- 6.5/39.5 MB 1.4 MB/s eta 0:00:24\n",
      "   ------ --------------------------------- 6.6/39.5 MB 1.4 MB/s eta 0:00:24\n",
      "   ------ --------------------------------- 6.6/39.5 MB 1.4 MB/s eta 0:00:24\n",
      "   ------ --------------------------------- 6.7/39.5 MB 1.4 MB/s eta 0:00:24\n",
      "   ------ --------------------------------- 6.8/39.5 MB 1.4 MB/s eta 0:00:24\n",
      "   ------ --------------------------------- 6.9/39.5 MB 1.4 MB/s eta 0:00:23\n",
      "   ------ --------------------------------- 6.9/39.5 MB 1.4 MB/s eta 0:00:23\n",
      "   ------- -------------------------------- 7.0/39.5 MB 1.4 MB/s eta 0:00:23\n",
      "   ------- -------------------------------- 7.0/39.5 MB 1.4 MB/s eta 0:00:23\n",
      "   ------- -------------------------------- 7.1/39.5 MB 1.4 MB/s eta 0:00:23\n",
      "   ------- -------------------------------- 7.1/39.5 MB 1.4 MB/s eta 0:00:23\n",
      "   ------- -------------------------------- 7.2/39.5 MB 1.4 MB/s eta 0:00:23\n",
      "   ------- -------------------------------- 7.3/39.5 MB 1.4 MB/s eta 0:00:23\n",
      "   ------- -------------------------------- 7.3/39.5 MB 1.4 MB/s eta 0:00:23\n",
      "   ------- -------------------------------- 7.4/39.5 MB 1.4 MB/s eta 0:00:23\n",
      "   ------- -------------------------------- 7.5/39.5 MB 1.4 MB/s eta 0:00:23\n",
      "   ------- -------------------------------- 7.5/39.5 MB 1.4 MB/s eta 0:00:23\n",
      "   ------- -------------------------------- 7.6/39.5 MB 1.4 MB/s eta 0:00:23\n",
      "   ------- -------------------------------- 7.6/39.5 MB 1.4 MB/s eta 0:00:23\n",
      "   ------- -------------------------------- 7.7/39.5 MB 1.4 MB/s eta 0:00:23\n",
      "   ------- -------------------------------- 7.8/39.5 MB 1.4 MB/s eta 0:00:23\n",
      "   ------- -------------------------------- 7.8/39.5 MB 1.4 MB/s eta 0:00:23\n",
      "   -------- ------------------------------- 7.9/39.5 MB 1.4 MB/s eta 0:00:23\n",
      "   -------- ------------------------------- 8.0/39.5 MB 1.4 MB/s eta 0:00:23\n",
      "   -------- ------------------------------- 8.1/39.5 MB 1.4 MB/s eta 0:00:23\n",
      "   -------- ------------------------------- 8.2/39.5 MB 1.4 MB/s eta 0:00:23\n",
      "   -------- ------------------------------- 8.2/39.5 MB 1.4 MB/s eta 0:00:23\n",
      "   -------- ------------------------------- 8.3/39.5 MB 1.4 MB/s eta 0:00:23\n",
      "   -------- ------------------------------- 8.3/39.5 MB 1.4 MB/s eta 0:00:23\n",
      "   -------- ------------------------------- 8.4/39.5 MB 1.4 MB/s eta 0:00:23\n",
      "   -------- ------------------------------- 8.4/39.5 MB 1.4 MB/s eta 0:00:22\n",
      "   -------- ------------------------------- 8.5/39.5 MB 1.4 MB/s eta 0:00:22\n",
      "   -------- ------------------------------- 8.5/39.5 MB 1.4 MB/s eta 0:00:22\n",
      "   -------- ------------------------------- 8.6/39.5 MB 1.4 MB/s eta 0:00:23\n",
      "   -------- ------------------------------- 8.6/39.5 MB 1.4 MB/s eta 0:00:23\n",
      "   -------- ------------------------------- 8.6/39.5 MB 1.4 MB/s eta 0:00:23\n",
      "   -------- ------------------------------- 8.6/39.5 MB 1.4 MB/s eta 0:00:23\n",
      "   -------- ------------------------------- 8.7/39.5 MB 1.4 MB/s eta 0:00:23\n",
      "   -------- ------------------------------- 8.7/39.5 MB 1.4 MB/s eta 0:00:23\n",
      "   -------- ------------------------------- 8.8/39.5 MB 1.4 MB/s eta 0:00:23\n",
      "   -------- ------------------------------- 8.8/39.5 MB 1.4 MB/s eta 0:00:23\n",
      "   --------- ------------------------------ 8.9/39.5 MB 1.4 MB/s eta 0:00:23\n",
      "   --------- ------------------------------ 9.0/39.5 MB 1.4 MB/s eta 0:00:23\n",
      "   --------- ------------------------------ 9.1/39.5 MB 1.4 MB/s eta 0:00:23\n",
      "   --------- ------------------------------ 9.1/39.5 MB 1.4 MB/s eta 0:00:22\n",
      "   --------- ------------------------------ 9.2/39.5 MB 1.4 MB/s eta 0:00:22\n",
      "   --------- ------------------------------ 9.3/39.5 MB 1.4 MB/s eta 0:00:22\n",
      "   --------- ------------------------------ 9.4/39.5 MB 1.4 MB/s eta 0:00:22\n",
      "   --------- ------------------------------ 9.5/39.5 MB 1.4 MB/s eta 0:00:22\n",
      "   --------- ------------------------------ 9.5/39.5 MB 1.4 MB/s eta 0:00:22\n",
      "   --------- ------------------------------ 9.6/39.5 MB 1.4 MB/s eta 0:00:22\n",
      "   --------- ------------------------------ 9.6/39.5 MB 1.4 MB/s eta 0:00:22\n",
      "   --------- ------------------------------ 9.7/39.5 MB 1.4 MB/s eta 0:00:22\n",
      "   --------- ------------------------------ 9.8/39.5 MB 1.4 MB/s eta 0:00:22\n",
      "   --------- ------------------------------ 9.9/39.5 MB 1.4 MB/s eta 0:00:22\n",
      "   ---------- ----------------------------- 9.9/39.5 MB 1.4 MB/s eta 0:00:22\n",
      "   ---------- ----------------------------- 10.0/39.5 MB 1.4 MB/s eta 0:00:22\n",
      "   ---------- ----------------------------- 10.1/39.5 MB 1.4 MB/s eta 0:00:22\n",
      "   ---------- ----------------------------- 10.1/39.5 MB 1.4 MB/s eta 0:00:22\n",
      "   ---------- ----------------------------- 10.2/39.5 MB 1.4 MB/s eta 0:00:22\n",
      "   ---------- ----------------------------- 10.3/39.5 MB 1.4 MB/s eta 0:00:22\n",
      "   ---------- ----------------------------- 10.3/39.5 MB 1.4 MB/s eta 0:00:22\n",
      "   ---------- ----------------------------- 10.4/39.5 MB 1.4 MB/s eta 0:00:21\n",
      "   ---------- ----------------------------- 10.4/39.5 MB 1.4 MB/s eta 0:00:22\n",
      "   ---------- ----------------------------- 10.5/39.5 MB 1.4 MB/s eta 0:00:22\n",
      "   ---------- ----------------------------- 10.5/39.5 MB 1.4 MB/s eta 0:00:21\n",
      "   ---------- ----------------------------- 10.6/39.5 MB 1.4 MB/s eta 0:00:21\n",
      "   ---------- ----------------------------- 10.7/39.5 MB 1.4 MB/s eta 0:00:21\n",
      "   ---------- ----------------------------- 10.8/39.5 MB 1.4 MB/s eta 0:00:21\n",
      "   ---------- ----------------------------- 10.8/39.5 MB 1.4 MB/s eta 0:00:21\n",
      "   ---------- ----------------------------- 10.8/39.5 MB 1.4 MB/s eta 0:00:21\n",
      "   ----------- ---------------------------- 10.9/39.5 MB 1.4 MB/s eta 0:00:21\n",
      "   ----------- ---------------------------- 10.9/39.5 MB 1.4 MB/s eta 0:00:21\n",
      "   ----------- ---------------------------- 11.0/39.5 MB 1.4 MB/s eta 0:00:21\n",
      "   ----------- ---------------------------- 11.1/39.5 MB 1.4 MB/s eta 0:00:21\n",
      "   ----------- ---------------------------- 11.2/39.5 MB 1.4 MB/s eta 0:00:21\n",
      "   ----------- ---------------------------- 11.2/39.5 MB 1.4 MB/s eta 0:00:21\n",
      "   ----------- ---------------------------- 11.3/39.5 MB 1.4 MB/s eta 0:00:21\n",
      "   ----------- ---------------------------- 11.4/39.5 MB 1.4 MB/s eta 0:00:21\n",
      "   ----------- ---------------------------- 11.4/39.5 MB 1.4 MB/s eta 0:00:21\n",
      "   ----------- ---------------------------- 11.5/39.5 MB 1.4 MB/s eta 0:00:21\n",
      "   ----------- ---------------------------- 11.5/39.5 MB 1.4 MB/s eta 0:00:21\n",
      "   ----------- ---------------------------- 11.6/39.5 MB 1.4 MB/s eta 0:00:21\n",
      "   ----------- ---------------------------- 11.7/39.5 MB 1.4 MB/s eta 0:00:21\n",
      "   ----------- ---------------------------- 11.7/39.5 MB 1.4 MB/s eta 0:00:21\n",
      "   ----------- ---------------------------- 11.8/39.5 MB 1.4 MB/s eta 0:00:21\n",
      "   ------------ --------------------------- 11.9/39.5 MB 1.4 MB/s eta 0:00:21\n",
      "   ------------ --------------------------- 11.9/39.5 MB 1.4 MB/s eta 0:00:21\n",
      "   ------------ --------------------------- 12.0/39.5 MB 1.4 MB/s eta 0:00:21\n",
      "   ------------ --------------------------- 12.0/39.5 MB 1.4 MB/s eta 0:00:21\n",
      "   ------------ --------------------------- 12.1/39.5 MB 1.4 MB/s eta 0:00:21\n",
      "   ------------ --------------------------- 12.2/39.5 MB 1.4 MB/s eta 0:00:20\n",
      "   ------------ --------------------------- 12.2/39.5 MB 1.4 MB/s eta 0:00:20\n",
      "   ------------ --------------------------- 12.3/39.5 MB 1.4 MB/s eta 0:00:20\n",
      "   ------------ --------------------------- 12.4/39.5 MB 1.4 MB/s eta 0:00:20\n",
      "   ------------ --------------------------- 12.4/39.5 MB 1.4 MB/s eta 0:00:20\n",
      "   ------------ --------------------------- 12.5/39.5 MB 1.4 MB/s eta 0:00:20\n",
      "   ------------ --------------------------- 12.5/39.5 MB 1.4 MB/s eta 0:00:20\n",
      "   ------------ --------------------------- 12.6/39.5 MB 1.4 MB/s eta 0:00:20\n",
      "   ------------ --------------------------- 12.7/39.5 MB 1.4 MB/s eta 0:00:20\n",
      "   ------------ --------------------------- 12.8/39.5 MB 1.4 MB/s eta 0:00:20\n",
      "   ------------ --------------------------- 12.8/39.5 MB 1.4 MB/s eta 0:00:20\n",
      "   ------------- -------------------------- 12.9/39.5 MB 1.4 MB/s eta 0:00:20\n",
      "   ------------- -------------------------- 13.0/39.5 MB 1.4 MB/s eta 0:00:20\n",
      "   ------------- -------------------------- 13.0/39.5 MB 1.4 MB/s eta 0:00:20\n",
      "   ------------- -------------------------- 13.1/39.5 MB 1.4 MB/s eta 0:00:20\n",
      "   ------------- -------------------------- 13.1/39.5 MB 1.4 MB/s eta 0:00:20\n",
      "   ------------- -------------------------- 13.2/39.5 MB 1.4 MB/s eta 0:00:20\n",
      "   ------------- -------------------------- 13.3/39.5 MB 1.4 MB/s eta 0:00:20\n",
      "   ------------- -------------------------- 13.3/39.5 MB 1.4 MB/s eta 0:00:20\n",
      "   ------------- -------------------------- 13.4/39.5 MB 1.4 MB/s eta 0:00:20\n",
      "   ------------- -------------------------- 13.5/39.5 MB 1.4 MB/s eta 0:00:19\n",
      "   ------------- -------------------------- 13.5/39.5 MB 1.4 MB/s eta 0:00:19\n",
      "   ------------- -------------------------- 13.6/39.5 MB 1.4 MB/s eta 0:00:19\n",
      "   ------------- -------------------------- 13.6/39.5 MB 1.4 MB/s eta 0:00:19\n",
      "   ------------- -------------------------- 13.7/39.5 MB 1.4 MB/s eta 0:00:19\n",
      "   ------------- -------------------------- 13.8/39.5 MB 1.4 MB/s eta 0:00:19\n",
      "   -------------- ------------------------- 13.8/39.5 MB 1.4 MB/s eta 0:00:19\n",
      "   -------------- ------------------------- 13.9/39.5 MB 1.4 MB/s eta 0:00:19\n",
      "   -------------- ------------------------- 14.0/39.5 MB 1.4 MB/s eta 0:00:19\n",
      "   -------------- ------------------------- 14.0/39.5 MB 1.4 MB/s eta 0:00:19\n",
      "   -------------- ------------------------- 14.1/39.5 MB 1.4 MB/s eta 0:00:19\n",
      "   -------------- ------------------------- 14.2/39.5 MB 1.4 MB/s eta 0:00:19\n",
      "   -------------- ------------------------- 14.2/39.5 MB 1.4 MB/s eta 0:00:19\n",
      "   -------------- ------------------------- 14.3/39.5 MB 1.4 MB/s eta 0:00:19\n",
      "   -------------- ------------------------- 14.3/39.5 MB 1.4 MB/s eta 0:00:19\n",
      "   -------------- ------------------------- 14.4/39.5 MB 1.4 MB/s eta 0:00:19\n",
      "   -------------- ------------------------- 14.5/39.5 MB 1.4 MB/s eta 0:00:19\n",
      "   -------------- ------------------------- 14.6/39.5 MB 1.4 MB/s eta 0:00:19\n",
      "   -------------- ------------------------- 14.7/39.5 MB 1.4 MB/s eta 0:00:19\n",
      "   -------------- ------------------------- 14.7/39.5 MB 1.4 MB/s eta 0:00:19\n",
      "   -------------- ------------------------- 14.8/39.5 MB 1.4 MB/s eta 0:00:19\n",
      "   -------------- ------------------------- 14.8/39.5 MB 1.4 MB/s eta 0:00:19\n",
      "   --------------- ------------------------ 14.9/39.5 MB 1.4 MB/s eta 0:00:19\n",
      "   --------------- ------------------------ 14.9/39.5 MB 1.4 MB/s eta 0:00:18\n",
      "   --------------- ------------------------ 15.0/39.5 MB 1.4 MB/s eta 0:00:18\n",
      "   --------------- ------------------------ 15.1/39.5 MB 1.4 MB/s eta 0:00:18\n",
      "   --------------- ------------------------ 15.2/39.5 MB 1.4 MB/s eta 0:00:18\n",
      "   --------------- ------------------------ 15.2/39.5 MB 1.4 MB/s eta 0:00:18\n",
      "   --------------- ------------------------ 15.3/39.5 MB 1.4 MB/s eta 0:00:18\n",
      "   --------------- ------------------------ 15.4/39.5 MB 1.4 MB/s eta 0:00:18\n",
      "   --------------- ------------------------ 15.4/39.5 MB 1.4 MB/s eta 0:00:18\n",
      "   --------------- ------------------------ 15.5/39.5 MB 1.4 MB/s eta 0:00:18\n",
      "   --------------- ------------------------ 15.6/39.5 MB 1.4 MB/s eta 0:00:18\n",
      "   --------------- ------------------------ 15.6/39.5 MB 1.4 MB/s eta 0:00:18\n",
      "   --------------- ------------------------ 15.6/39.5 MB 1.4 MB/s eta 0:00:18\n",
      "   --------------- ------------------------ 15.7/39.5 MB 1.4 MB/s eta 0:00:18\n",
      "   --------------- ------------------------ 15.7/39.5 MB 1.4 MB/s eta 0:00:18\n",
      "   --------------- ------------------------ 15.7/39.5 MB 1.4 MB/s eta 0:00:18\n",
      "   ---------------- ----------------------- 15.8/39.5 MB 1.4 MB/s eta 0:00:18\n",
      "   ---------------- ----------------------- 15.9/39.5 MB 1.4 MB/s eta 0:00:18\n",
      "   ---------------- ----------------------- 15.9/39.5 MB 1.4 MB/s eta 0:00:18\n",
      "   ---------------- ----------------------- 16.0/39.5 MB 1.4 MB/s eta 0:00:18\n",
      "   ---------------- ----------------------- 16.1/39.5 MB 1.4 MB/s eta 0:00:18\n",
      "   ---------------- ----------------------- 16.2/39.5 MB 1.4 MB/s eta 0:00:18\n",
      "   ---------------- ----------------------- 16.3/39.5 MB 1.4 MB/s eta 0:00:17\n",
      "   ---------------- ----------------------- 16.4/39.5 MB 1.4 MB/s eta 0:00:17\n",
      "   ---------------- ----------------------- 16.5/39.5 MB 1.4 MB/s eta 0:00:17\n",
      "   ---------------- ----------------------- 16.5/39.5 MB 1.4 MB/s eta 0:00:17\n",
      "   ---------------- ----------------------- 16.6/39.5 MB 1.4 MB/s eta 0:00:17\n",
      "   ---------------- ----------------------- 16.6/39.5 MB 1.4 MB/s eta 0:00:17\n",
      "   ---------------- ----------------------- 16.7/39.5 MB 1.4 MB/s eta 0:00:17\n",
      "   ---------------- ----------------------- 16.8/39.5 MB 1.4 MB/s eta 0:00:17\n",
      "   ----------------- ---------------------- 16.8/39.5 MB 1.4 MB/s eta 0:00:17\n",
      "   ----------------- ---------------------- 16.9/39.5 MB 1.4 MB/s eta 0:00:17\n",
      "   ----------------- ---------------------- 17.0/39.5 MB 1.4 MB/s eta 0:00:17\n",
      "   ----------------- ---------------------- 17.1/39.5 MB 1.4 MB/s eta 0:00:17\n",
      "   ----------------- ---------------------- 17.1/39.5 MB 1.4 MB/s eta 0:00:17\n",
      "   ----------------- ---------------------- 17.2/39.5 MB 1.4 MB/s eta 0:00:17\n",
      "   ----------------- ---------------------- 17.2/39.5 MB 1.4 MB/s eta 0:00:17\n",
      "   ----------------- ---------------------- 17.3/39.5 MB 1.4 MB/s eta 0:00:17\n",
      "   ----------------- ---------------------- 17.3/39.5 MB 1.4 MB/s eta 0:00:17\n",
      "   ----------------- ---------------------- 17.4/39.5 MB 1.4 MB/s eta 0:00:17\n",
      "   ----------------- ---------------------- 17.5/39.5 MB 1.4 MB/s eta 0:00:16\n",
      "   ----------------- ---------------------- 17.6/39.5 MB 1.4 MB/s eta 0:00:16\n",
      "   ----------------- ---------------------- 17.6/39.5 MB 1.4 MB/s eta 0:00:16\n",
      "   ----------------- ---------------------- 17.7/39.5 MB 1.4 MB/s eta 0:00:16\n",
      "   ----------------- ---------------------- 17.7/39.5 MB 1.4 MB/s eta 0:00:16\n",
      "   ------------------ --------------------- 17.8/39.5 MB 1.4 MB/s eta 0:00:16\n",
      "   ------------------ --------------------- 17.8/39.5 MB 1.4 MB/s eta 0:00:16\n",
      "   ------------------ --------------------- 17.9/39.5 MB 1.4 MB/s eta 0:00:16\n",
      "   ------------------ --------------------- 18.0/39.5 MB 1.4 MB/s eta 0:00:16\n",
      "   ------------------ --------------------- 18.1/39.5 MB 1.4 MB/s eta 0:00:16\n",
      "   ------------------ --------------------- 18.2/39.5 MB 1.4 MB/s eta 0:00:16\n",
      "   ------------------ --------------------- 18.2/39.5 MB 1.4 MB/s eta 0:00:16\n",
      "   ------------------ --------------------- 18.3/39.5 MB 1.4 MB/s eta 0:00:16\n",
      "   ------------------ --------------------- 18.3/39.5 MB 1.4 MB/s eta 0:00:16\n",
      "   ------------------ --------------------- 18.4/39.5 MB 1.4 MB/s eta 0:00:16\n",
      "   ------------------ --------------------- 18.4/39.5 MB 1.4 MB/s eta 0:00:16\n",
      "   ------------------ --------------------- 18.5/39.5 MB 1.4 MB/s eta 0:00:16\n",
      "   ------------------ --------------------- 18.6/39.5 MB 1.4 MB/s eta 0:00:16\n",
      "   ------------------ --------------------- 18.6/39.5 MB 1.4 MB/s eta 0:00:16\n",
      "   ------------------ --------------------- 18.7/39.5 MB 1.4 MB/s eta 0:00:16\n",
      "   ------------------- -------------------- 18.8/39.5 MB 1.4 MB/s eta 0:00:15\n",
      "   ------------------- -------------------- 18.9/39.5 MB 1.4 MB/s eta 0:00:15\n",
      "   ------------------- -------------------- 18.9/39.5 MB 1.4 MB/s eta 0:00:15\n",
      "   ------------------- -------------------- 19.0/39.5 MB 1.4 MB/s eta 0:00:15\n",
      "   ------------------- -------------------- 19.0/39.5 MB 1.4 MB/s eta 0:00:15\n",
      "   ------------------- -------------------- 19.1/39.5 MB 1.4 MB/s eta 0:00:15\n",
      "   ------------------- -------------------- 19.2/39.5 MB 1.4 MB/s eta 0:00:15\n",
      "   ------------------- -------------------- 19.2/39.5 MB 1.4 MB/s eta 0:00:15\n",
      "   ------------------- -------------------- 19.3/39.5 MB 1.4 MB/s eta 0:00:15\n",
      "   ------------------- -------------------- 19.4/39.5 MB 1.4 MB/s eta 0:00:15\n",
      "   ------------------- -------------------- 19.4/39.5 MB 1.4 MB/s eta 0:00:15\n",
      "   ------------------- -------------------- 19.5/39.5 MB 1.4 MB/s eta 0:00:15\n",
      "   ------------------- -------------------- 19.5/39.5 MB 1.4 MB/s eta 0:00:15\n",
      "   ------------------- -------------------- 19.6/39.5 MB 1.4 MB/s eta 0:00:15\n",
      "   ------------------- -------------------- 19.7/39.5 MB 1.4 MB/s eta 0:00:15\n",
      "   ------------------- -------------------- 19.7/39.5 MB 1.4 MB/s eta 0:00:15\n",
      "   -------------------- ------------------- 19.8/39.5 MB 1.4 MB/s eta 0:00:15\n",
      "   -------------------- ------------------- 19.8/39.5 MB 1.4 MB/s eta 0:00:15\n",
      "   -------------------- ------------------- 19.9/39.5 MB 1.4 MB/s eta 0:00:15\n",
      "   -------------------- ------------------- 20.0/39.5 MB 1.4 MB/s eta 0:00:15\n",
      "   -------------------- ------------------- 20.0/39.5 MB 1.4 MB/s eta 0:00:15\n",
      "   -------------------- ------------------- 20.1/39.5 MB 1.4 MB/s eta 0:00:14\n",
      "   -------------------- ------------------- 20.2/39.5 MB 1.4 MB/s eta 0:00:14\n",
      "   -------------------- ------------------- 20.3/39.5 MB 1.4 MB/s eta 0:00:14\n",
      "   -------------------- ------------------- 20.3/39.5 MB 1.4 MB/s eta 0:00:14\n",
      "   -------------------- ------------------- 20.4/39.5 MB 1.4 MB/s eta 0:00:14\n",
      "   -------------------- ------------------- 20.5/39.5 MB 1.4 MB/s eta 0:00:14\n",
      "   -------------------- ------------------- 20.5/39.5 MB 1.4 MB/s eta 0:00:14\n",
      "   -------------------- ------------------- 20.6/39.5 MB 1.4 MB/s eta 0:00:14\n",
      "   -------------------- ------------------- 20.7/39.5 MB 1.4 MB/s eta 0:00:14\n",
      "   -------------------- ------------------- 20.7/39.5 MB 1.4 MB/s eta 0:00:14\n",
      "   --------------------- ------------------ 20.8/39.5 MB 1.4 MB/s eta 0:00:14\n",
      "   --------------------- ------------------ 20.9/39.5 MB 1.4 MB/s eta 0:00:14\n",
      "   --------------------- ------------------ 20.9/39.5 MB 1.4 MB/s eta 0:00:14\n",
      "   --------------------- ------------------ 21.0/39.5 MB 1.4 MB/s eta 0:00:14\n",
      "   --------------------- ------------------ 21.1/39.5 MB 1.4 MB/s eta 0:00:14\n",
      "   --------------------- ------------------ 21.1/39.5 MB 1.4 MB/s eta 0:00:14\n",
      "   --------------------- ------------------ 21.2/39.5 MB 1.4 MB/s eta 0:00:13\n",
      "   --------------------- ------------------ 21.2/39.5 MB 1.4 MB/s eta 0:00:13\n",
      "   --------------------- ------------------ 21.3/39.5 MB 1.4 MB/s eta 0:00:13\n",
      "   --------------------- ------------------ 21.4/39.5 MB 1.4 MB/s eta 0:00:13\n",
      "   --------------------- ------------------ 21.5/39.5 MB 1.4 MB/s eta 0:00:13\n",
      "   --------------------- ------------------ 21.5/39.5 MB 1.4 MB/s eta 0:00:13\n",
      "   --------------------- ------------------ 21.6/39.5 MB 1.4 MB/s eta 0:00:13\n",
      "   --------------------- ------------------ 21.6/39.5 MB 1.4 MB/s eta 0:00:13\n",
      "   --------------------- ------------------ 21.7/39.5 MB 1.4 MB/s eta 0:00:13\n",
      "   ---------------------- ----------------- 21.8/39.5 MB 1.4 MB/s eta 0:00:13\n",
      "   ---------------------- ----------------- 21.8/39.5 MB 1.4 MB/s eta 0:00:13\n",
      "   ---------------------- ----------------- 21.9/39.5 MB 1.4 MB/s eta 0:00:13\n",
      "   ---------------------- ----------------- 22.0/39.5 MB 1.4 MB/s eta 0:00:13\n",
      "   ---------------------- ----------------- 22.1/39.5 MB 1.4 MB/s eta 0:00:13\n",
      "   ---------------------- ----------------- 22.1/39.5 MB 1.4 MB/s eta 0:00:13\n",
      "   ---------------------- ----------------- 22.1/39.5 MB 1.4 MB/s eta 0:00:13\n",
      "   ---------------------- ----------------- 22.2/39.5 MB 1.4 MB/s eta 0:00:13\n",
      "   ---------------------- ----------------- 22.3/39.5 MB 1.4 MB/s eta 0:00:13\n",
      "   ---------------------- ----------------- 22.4/39.5 MB 1.4 MB/s eta 0:00:13\n",
      "   ---------------------- ----------------- 22.4/39.5 MB 1.4 MB/s eta 0:00:13\n",
      "   ---------------------- ----------------- 22.5/39.5 MB 1.4 MB/s eta 0:00:13\n",
      "   ---------------------- ----------------- 22.6/39.5 MB 1.4 MB/s eta 0:00:12\n",
      "   ---------------------- ----------------- 22.6/39.5 MB 1.4 MB/s eta 0:00:12\n",
      "   ---------------------- ----------------- 22.7/39.5 MB 1.4 MB/s eta 0:00:12\n",
      "   ----------------------- ---------------- 22.7/39.5 MB 1.4 MB/s eta 0:00:12\n",
      "   ----------------------- ---------------- 22.8/39.5 MB 1.4 MB/s eta 0:00:12\n",
      "   ----------------------- ---------------- 22.9/39.5 MB 1.4 MB/s eta 0:00:12\n",
      "   ----------------------- ---------------- 22.9/39.5 MB 1.4 MB/s eta 0:00:12\n",
      "   ----------------------- ---------------- 23.0/39.5 MB 1.4 MB/s eta 0:00:12\n",
      "   ----------------------- ---------------- 23.1/39.5 MB 1.4 MB/s eta 0:00:12\n",
      "   ----------------------- ---------------- 23.2/39.5 MB 1.4 MB/s eta 0:00:12\n",
      "   ----------------------- ---------------- 23.2/39.5 MB 1.4 MB/s eta 0:00:12\n",
      "   ----------------------- ---------------- 23.3/39.5 MB 1.4 MB/s eta 0:00:12\n",
      "   ----------------------- ---------------- 23.3/39.5 MB 1.4 MB/s eta 0:00:12\n",
      "   ----------------------- ---------------- 23.4/39.5 MB 1.4 MB/s eta 0:00:12\n",
      "   ----------------------- ---------------- 23.4/39.5 MB 1.4 MB/s eta 0:00:12\n",
      "   ----------------------- ---------------- 23.5/39.5 MB 1.4 MB/s eta 0:00:12\n",
      "   ----------------------- ---------------- 23.6/39.5 MB 1.4 MB/s eta 0:00:12\n",
      "   ----------------------- ---------------- 23.7/39.5 MB 1.4 MB/s eta 0:00:12\n",
      "   ------------------------ --------------- 23.7/39.5 MB 1.4 MB/s eta 0:00:12\n",
      "   ------------------------ --------------- 23.8/39.5 MB 1.4 MB/s eta 0:00:12\n",
      "   ------------------------ --------------- 23.9/39.5 MB 1.4 MB/s eta 0:00:11\n",
      "   ------------------------ --------------- 24.0/39.5 MB 1.4 MB/s eta 0:00:11\n",
      "   ------------------------ --------------- 24.0/39.5 MB 1.4 MB/s eta 0:00:11\n",
      "   ------------------------ --------------- 24.1/39.5 MB 1.4 MB/s eta 0:00:11\n",
      "   ------------------------ --------------- 24.1/39.5 MB 1.4 MB/s eta 0:00:11\n",
      "   ------------------------ --------------- 24.2/39.5 MB 1.4 MB/s eta 0:00:11\n",
      "   ------------------------ --------------- 24.3/39.5 MB 1.4 MB/s eta 0:00:11\n",
      "   ------------------------ --------------- 24.4/39.5 MB 1.4 MB/s eta 0:00:11\n",
      "   ------------------------ --------------- 24.4/39.5 MB 1.4 MB/s eta 0:00:11\n",
      "   ------------------------ --------------- 24.5/39.5 MB 1.4 MB/s eta 0:00:11\n",
      "   ------------------------ --------------- 24.5/39.5 MB 1.4 MB/s eta 0:00:11\n",
      "   ------------------------ --------------- 24.6/39.5 MB 1.4 MB/s eta 0:00:11\n",
      "   ------------------------ --------------- 24.6/39.5 MB 1.4 MB/s eta 0:00:11\n",
      "   ------------------------- -------------- 24.7/39.5 MB 1.4 MB/s eta 0:00:11\n",
      "   ------------------------- -------------- 24.8/39.5 MB 1.4 MB/s eta 0:00:11\n",
      "   ------------------------- -------------- 24.9/39.5 MB 1.4 MB/s eta 0:00:11\n",
      "   ------------------------- -------------- 25.0/39.5 MB 1.4 MB/s eta 0:00:11\n",
      "   ------------------------- -------------- 25.0/39.5 MB 1.4 MB/s eta 0:00:11\n",
      "   ------------------------- -------------- 25.1/39.5 MB 1.4 MB/s eta 0:00:11\n",
      "   ------------------------- -------------- 25.1/39.5 MB 1.4 MB/s eta 0:00:11\n",
      "   ------------------------- -------------- 25.2/39.5 MB 1.4 MB/s eta 0:00:11\n",
      "   ------------------------- -------------- 25.3/39.5 MB 1.4 MB/s eta 0:00:11\n",
      "   ------------------------- -------------- 25.3/39.5 MB 1.4 MB/s eta 0:00:10\n",
      "   ------------------------- -------------- 25.4/39.5 MB 1.4 MB/s eta 0:00:10\n",
      "   ------------------------- -------------- 25.5/39.5 MB 1.4 MB/s eta 0:00:10\n",
      "   ------------------------- -------------- 25.5/39.5 MB 1.4 MB/s eta 0:00:10\n",
      "   ------------------------- -------------- 25.6/39.5 MB 1.4 MB/s eta 0:00:10\n",
      "   -------------------------- ------------- 25.7/39.5 MB 1.4 MB/s eta 0:00:10\n",
      "   -------------------------- ------------- 25.7/39.5 MB 1.4 MB/s eta 0:00:10\n",
      "   -------------------------- ------------- 25.8/39.5 MB 1.4 MB/s eta 0:00:10\n",
      "   -------------------------- ------------- 25.8/39.5 MB 1.4 MB/s eta 0:00:10\n",
      "   -------------------------- ------------- 25.9/39.5 MB 1.4 MB/s eta 0:00:10\n",
      "   -------------------------- ------------- 26.0/39.5 MB 1.4 MB/s eta 0:00:10\n",
      "   -------------------------- ------------- 26.1/39.5 MB 1.4 MB/s eta 0:00:10\n",
      "   -------------------------- ------------- 26.1/39.5 MB 1.4 MB/s eta 0:00:10\n",
      "   -------------------------- ------------- 26.2/39.5 MB 1.4 MB/s eta 0:00:10\n",
      "   -------------------------- ------------- 26.2/39.5 MB 1.4 MB/s eta 0:00:10\n",
      "   -------------------------- ------------- 26.3/39.5 MB 1.4 MB/s eta 0:00:10\n",
      "   -------------------------- ------------- 26.3/39.5 MB 1.4 MB/s eta 0:00:10\n",
      "   -------------------------- ------------- 26.4/39.5 MB 1.4 MB/s eta 0:00:10\n",
      "   -------------------------- ------------- 26.5/39.5 MB 1.4 MB/s eta 0:00:10\n",
      "   -------------------------- ------------- 26.6/39.5 MB 1.4 MB/s eta 0:00:10\n",
      "   -------------------------- ------------- 26.6/39.5 MB 1.4 MB/s eta 0:00:10\n",
      "   --------------------------- ------------ 26.7/39.5 MB 1.4 MB/s eta 0:00:10\n",
      "   --------------------------- ------------ 26.8/39.5 MB 1.4 MB/s eta 0:00:09\n",
      "   --------------------------- ------------ 26.8/39.5 MB 1.4 MB/s eta 0:00:09\n",
      "   --------------------------- ------------ 26.9/39.5 MB 1.4 MB/s eta 0:00:09\n",
      "   --------------------------- ------------ 26.9/39.5 MB 1.4 MB/s eta 0:00:09\n",
      "   --------------------------- ------------ 27.0/39.5 MB 1.4 MB/s eta 0:00:09\n",
      "   --------------------------- ------------ 27.1/39.5 MB 1.4 MB/s eta 0:00:09\n",
      "   --------------------------- ------------ 27.1/39.5 MB 1.4 MB/s eta 0:00:09\n",
      "   --------------------------- ------------ 27.2/39.5 MB 1.4 MB/s eta 0:00:09\n",
      "   --------------------------- ------------ 27.3/39.5 MB 1.4 MB/s eta 0:00:09\n",
      "   --------------------------- ------------ 27.4/39.5 MB 1.4 MB/s eta 0:00:09\n",
      "   --------------------------- ------------ 27.4/39.5 MB 1.4 MB/s eta 0:00:09\n",
      "   --------------------------- ------------ 27.5/39.5 MB 1.4 MB/s eta 0:00:09\n",
      "   --------------------------- ------------ 27.5/39.5 MB 1.4 MB/s eta 0:00:09\n",
      "   --------------------------- ------------ 27.6/39.5 MB 1.4 MB/s eta 0:00:09\n",
      "   ---------------------------- ----------- 27.7/39.5 MB 1.4 MB/s eta 0:00:09\n",
      "   ---------------------------- ----------- 27.7/39.5 MB 1.4 MB/s eta 0:00:09\n",
      "   ---------------------------- ----------- 27.8/39.5 MB 1.4 MB/s eta 0:00:09\n",
      "   ---------------------------- ----------- 27.9/39.5 MB 1.4 MB/s eta 0:00:09\n",
      "   ---------------------------- ----------- 28.0/39.5 MB 1.4 MB/s eta 0:00:09\n",
      "   ---------------------------- ----------- 28.0/39.5 MB 1.4 MB/s eta 0:00:09\n",
      "   ---------------------------- ----------- 28.1/39.5 MB 1.4 MB/s eta 0:00:08\n",
      "   ---------------------------- ----------- 28.1/39.5 MB 1.4 MB/s eta 0:00:08\n",
      "   ---------------------------- ----------- 28.2/39.5 MB 1.4 MB/s eta 0:00:08\n",
      "   ---------------------------- ----------- 28.3/39.5 MB 1.4 MB/s eta 0:00:08\n",
      "   ---------------------------- ----------- 28.3/39.5 MB 1.4 MB/s eta 0:00:08\n",
      "   ---------------------------- ----------- 28.4/39.5 MB 1.4 MB/s eta 0:00:08\n",
      "   ---------------------------- ----------- 28.5/39.5 MB 1.4 MB/s eta 0:00:08\n",
      "   ---------------------------- ----------- 28.6/39.5 MB 1.4 MB/s eta 0:00:08\n",
      "   ---------------------------- ----------- 28.6/39.5 MB 1.4 MB/s eta 0:00:08\n",
      "   ----------------------------- ---------- 28.7/39.5 MB 1.4 MB/s eta 0:00:08\n",
      "   ----------------------------- ---------- 28.7/39.5 MB 1.4 MB/s eta 0:00:08\n",
      "   ----------------------------- ---------- 28.8/39.5 MB 1.4 MB/s eta 0:00:08\n",
      "   ----------------------------- ---------- 28.8/39.5 MB 1.4 MB/s eta 0:00:08\n",
      "   ----------------------------- ---------- 28.9/39.5 MB 1.4 MB/s eta 0:00:08\n",
      "   ----------------------------- ---------- 29.0/39.5 MB 1.4 MB/s eta 0:00:08\n",
      "   ----------------------------- ---------- 29.1/39.5 MB 1.4 MB/s eta 0:00:08\n",
      "   ----------------------------- ---------- 29.1/39.5 MB 1.4 MB/s eta 0:00:08\n",
      "   ----------------------------- ---------- 29.2/39.5 MB 1.4 MB/s eta 0:00:08\n",
      "   ----------------------------- ---------- 29.3/39.5 MB 1.4 MB/s eta 0:00:08\n",
      "   ----------------------------- ---------- 29.3/39.5 MB 1.4 MB/s eta 0:00:08\n",
      "   ----------------------------- ---------- 29.4/39.5 MB 1.4 MB/s eta 0:00:08\n",
      "   ----------------------------- ---------- 29.5/39.5 MB 1.4 MB/s eta 0:00:08\n",
      "   ----------------------------- ---------- 29.5/39.5 MB 1.4 MB/s eta 0:00:08\n",
      "   ----------------------------- ---------- 29.6/39.5 MB 1.4 MB/s eta 0:00:07\n",
      "   ------------------------------ --------- 29.7/39.5 MB 1.4 MB/s eta 0:00:07\n",
      "   ------------------------------ --------- 29.7/39.5 MB 1.4 MB/s eta 0:00:07\n",
      "   ------------------------------ --------- 29.8/39.5 MB 1.4 MB/s eta 0:00:07\n",
      "   ------------------------------ --------- 29.9/39.5 MB 1.4 MB/s eta 0:00:07\n",
      "   ------------------------------ --------- 29.9/39.5 MB 1.4 MB/s eta 0:00:07\n",
      "   ------------------------------ --------- 30.0/39.5 MB 1.4 MB/s eta 0:00:07\n",
      "   ------------------------------ --------- 30.1/39.5 MB 1.4 MB/s eta 0:00:07\n",
      "   ------------------------------ --------- 30.1/39.5 MB 1.4 MB/s eta 0:00:07\n",
      "   ------------------------------ --------- 30.2/39.5 MB 1.4 MB/s eta 0:00:07\n",
      "   ------------------------------ --------- 30.3/39.5 MB 1.4 MB/s eta 0:00:07\n",
      "   ------------------------------ --------- 30.3/39.5 MB 1.4 MB/s eta 0:00:07\n",
      "   ------------------------------ --------- 30.4/39.5 MB 1.4 MB/s eta 0:00:07\n",
      "   ------------------------------ --------- 30.5/39.5 MB 1.4 MB/s eta 0:00:07\n",
      "   ------------------------------ --------- 30.5/39.5 MB 1.4 MB/s eta 0:00:07\n",
      "   ------------------------------- -------- 30.6/39.5 MB 1.4 MB/s eta 0:00:07\n",
      "   ------------------------------- -------- 30.7/39.5 MB 1.4 MB/s eta 0:00:07\n",
      "   ------------------------------- -------- 30.7/39.5 MB 1.4 MB/s eta 0:00:07\n",
      "   ------------------------------- -------- 30.8/39.5 MB 1.4 MB/s eta 0:00:07\n",
      "   ------------------------------- -------- 30.9/39.5 MB 1.4 MB/s eta 0:00:07\n",
      "   ------------------------------- -------- 30.9/39.5 MB 1.4 MB/s eta 0:00:06\n",
      "   ------------------------------- -------- 31.0/39.5 MB 1.4 MB/s eta 0:00:06\n",
      "   ------------------------------- -------- 31.0/39.5 MB 1.4 MB/s eta 0:00:06\n",
      "   ------------------------------- -------- 31.1/39.5 MB 1.4 MB/s eta 0:00:06\n",
      "   ------------------------------- -------- 31.2/39.5 MB 1.4 MB/s eta 0:00:06\n",
      "   ------------------------------- -------- 31.2/39.5 MB 1.4 MB/s eta 0:00:06\n",
      "   ------------------------------- -------- 31.3/39.5 MB 1.4 MB/s eta 0:00:06\n",
      "   ------------------------------- -------- 31.4/39.5 MB 1.4 MB/s eta 0:00:06\n",
      "   ------------------------------- -------- 31.5/39.5 MB 1.4 MB/s eta 0:00:06\n",
      "   ------------------------------- -------- 31.5/39.5 MB 1.4 MB/s eta 0:00:06\n",
      "   ------------------------------- -------- 31.6/39.5 MB 1.4 MB/s eta 0:00:06\n",
      "   -------------------------------- ------- 31.6/39.5 MB 1.4 MB/s eta 0:00:06\n",
      "   -------------------------------- ------- 31.7/39.5 MB 1.4 MB/s eta 0:00:06\n",
      "   -------------------------------- ------- 31.7/39.5 MB 1.4 MB/s eta 0:00:06\n",
      "   -------------------------------- ------- 31.8/39.5 MB 1.4 MB/s eta 0:00:06\n",
      "   -------------------------------- ------- 31.9/39.5 MB 1.4 MB/s eta 0:00:06\n",
      "   -------------------------------- ------- 31.9/39.5 MB 1.4 MB/s eta 0:00:06\n",
      "   -------------------------------- ------- 32.1/39.5 MB 1.4 MB/s eta 0:00:06\n",
      "   -------------------------------- ------- 32.1/39.5 MB 1.4 MB/s eta 0:00:06\n",
      "   -------------------------------- ------- 32.2/39.5 MB 1.4 MB/s eta 0:00:06\n",
      "   -------------------------------- ------- 32.2/39.5 MB 1.4 MB/s eta 0:00:06\n",
      "   -------------------------------- ------- 32.3/39.5 MB 1.4 MB/s eta 0:00:06\n",
      "   -------------------------------- ------- 32.3/39.5 MB 1.4 MB/s eta 0:00:06\n",
      "   -------------------------------- ------- 32.4/39.5 MB 1.4 MB/s eta 0:00:05\n",
      "   -------------------------------- ------- 32.5/39.5 MB 1.4 MB/s eta 0:00:05\n",
      "   -------------------------------- ------- 32.6/39.5 MB 1.4 MB/s eta 0:00:05\n",
      "   --------------------------------- ------ 32.6/39.5 MB 1.4 MB/s eta 0:00:05\n",
      "   --------------------------------- ------ 32.7/39.5 MB 1.4 MB/s eta 0:00:05\n",
      "   --------------------------------- ------ 32.7/39.5 MB 1.4 MB/s eta 0:00:05\n",
      "   --------------------------------- ------ 32.8/39.5 MB 1.4 MB/s eta 0:00:05\n",
      "   --------------------------------- ------ 32.8/39.5 MB 1.4 MB/s eta 0:00:05\n",
      "   --------------------------------- ------ 32.9/39.5 MB 1.4 MB/s eta 0:00:05\n",
      "   --------------------------------- ------ 33.0/39.5 MB 1.4 MB/s eta 0:00:05\n",
      "   --------------------------------- ------ 33.1/39.5 MB 1.4 MB/s eta 0:00:05\n",
      "   --------------------------------- ------ 33.2/39.5 MB 1.4 MB/s eta 0:00:05\n",
      "   --------------------------------- ------ 33.2/39.5 MB 1.4 MB/s eta 0:00:05\n",
      "   --------------------------------- ------ 33.3/39.5 MB 1.4 MB/s eta 0:00:05\n",
      "   --------------------------------- ------ 33.3/39.5 MB 1.4 MB/s eta 0:00:05\n",
      "   --------------------------------- ------ 33.4/39.5 MB 1.4 MB/s eta 0:00:05\n",
      "   --------------------------------- ------ 33.4/39.5 MB 1.4 MB/s eta 0:00:05\n",
      "   --------------------------------- ------ 33.5/39.5 MB 1.4 MB/s eta 0:00:05\n",
      "   ---------------------------------- ----- 33.6/39.5 MB 1.4 MB/s eta 0:00:05\n",
      "   ---------------------------------- ----- 33.7/39.5 MB 1.4 MB/s eta 0:00:05\n",
      "   ---------------------------------- ----- 33.7/39.5 MB 1.4 MB/s eta 0:00:05\n",
      "   ---------------------------------- ----- 33.8/39.5 MB 1.4 MB/s eta 0:00:04\n",
      "   ---------------------------------- ----- 33.9/39.5 MB 1.4 MB/s eta 0:00:04\n",
      "   ---------------------------------- ----- 33.9/39.5 MB 1.4 MB/s eta 0:00:04\n",
      "   ---------------------------------- ----- 34.0/39.5 MB 1.4 MB/s eta 0:00:04\n",
      "   ---------------------------------- ----- 34.1/39.5 MB 1.4 MB/s eta 0:00:04\n",
      "   ---------------------------------- ----- 34.1/39.5 MB 1.4 MB/s eta 0:00:04\n",
      "   ---------------------------------- ----- 34.2/39.5 MB 1.4 MB/s eta 0:00:04\n",
      "   ---------------------------------- ----- 34.3/39.5 MB 1.4 MB/s eta 0:00:04\n",
      "   ---------------------------------- ----- 34.3/39.5 MB 1.4 MB/s eta 0:00:04\n",
      "   ---------------------------------- ----- 34.4/39.5 MB 1.4 MB/s eta 0:00:04\n",
      "   ---------------------------------- ----- 34.4/39.5 MB 1.4 MB/s eta 0:00:04\n",
      "   ---------------------------------- ----- 34.5/39.5 MB 1.4 MB/s eta 0:00:04\n",
      "   ---------------------------------- ----- 34.5/39.5 MB 1.4 MB/s eta 0:00:04\n",
      "   ----------------------------------- ---- 34.6/39.5 MB 1.4 MB/s eta 0:00:04\n",
      "   ----------------------------------- ---- 34.7/39.5 MB 1.4 MB/s eta 0:00:04\n",
      "   ----------------------------------- ---- 34.8/39.5 MB 1.4 MB/s eta 0:00:04\n",
      "   ----------------------------------- ---- 34.9/39.5 MB 1.4 MB/s eta 0:00:04\n",
      "   ----------------------------------- ---- 34.9/39.5 MB 1.4 MB/s eta 0:00:04\n",
      "   ----------------------------------- ---- 35.0/39.5 MB 1.4 MB/s eta 0:00:04\n",
      "   ----------------------------------- ---- 35.1/39.5 MB 1.4 MB/s eta 0:00:04\n",
      "   ----------------------------------- ---- 35.1/39.5 MB 1.4 MB/s eta 0:00:04\n",
      "   ----------------------------------- ---- 35.2/39.5 MB 1.4 MB/s eta 0:00:04\n",
      "   ----------------------------------- ---- 35.2/39.5 MB 1.4 MB/s eta 0:00:03\n",
      "   ----------------------------------- ---- 35.3/39.5 MB 1.4 MB/s eta 0:00:03\n",
      "   ----------------------------------- ---- 35.4/39.5 MB 1.4 MB/s eta 0:00:03\n",
      "   ----------------------------------- ---- 35.5/39.5 MB 1.4 MB/s eta 0:00:03\n",
      "   ----------------------------------- ---- 35.5/39.5 MB 1.4 MB/s eta 0:00:03\n",
      "   ------------------------------------ --- 35.6/39.5 MB 1.4 MB/s eta 0:00:03\n",
      "   ------------------------------------ --- 35.6/39.5 MB 1.4 MB/s eta 0:00:03\n",
      "   ------------------------------------ --- 35.7/39.5 MB 1.4 MB/s eta 0:00:03\n",
      "   ------------------------------------ --- 35.7/39.5 MB 1.4 MB/s eta 0:00:03\n",
      "   ------------------------------------ --- 35.8/39.5 MB 1.4 MB/s eta 0:00:03\n",
      "   ------------------------------------ --- 35.9/39.5 MB 1.4 MB/s eta 0:00:03\n",
      "   ------------------------------------ --- 36.0/39.5 MB 1.4 MB/s eta 0:00:03\n",
      "   ------------------------------------ --- 36.1/39.5 MB 1.4 MB/s eta 0:00:03\n",
      "   ------------------------------------ --- 36.1/39.5 MB 1.4 MB/s eta 0:00:03\n",
      "   ------------------------------------ --- 36.2/39.5 MB 1.4 MB/s eta 0:00:03\n",
      "   ------------------------------------ --- 36.2/39.5 MB 1.4 MB/s eta 0:00:03\n",
      "   ------------------------------------ --- 36.3/39.5 MB 1.4 MB/s eta 0:00:03\n",
      "   ------------------------------------ --- 36.4/39.5 MB 1.4 MB/s eta 0:00:03\n",
      "   ------------------------------------ --- 36.4/39.5 MB 1.4 MB/s eta 0:00:03\n",
      "   ------------------------------------ --- 36.5/39.5 MB 1.4 MB/s eta 0:00:03\n",
      "   ------------------------------------- -- 36.6/39.5 MB 1.4 MB/s eta 0:00:03\n",
      "   ------------------------------------- -- 36.6/39.5 MB 1.4 MB/s eta 0:00:02\n",
      "   ------------------------------------- -- 36.7/39.5 MB 1.4 MB/s eta 0:00:02\n",
      "   ------------------------------------- -- 36.8/39.5 MB 1.4 MB/s eta 0:00:02\n",
      "   ------------------------------------- -- 36.9/39.5 MB 1.4 MB/s eta 0:00:02\n",
      "   ------------------------------------- -- 36.9/39.5 MB 1.4 MB/s eta 0:00:02\n",
      "   ------------------------------------- -- 37.0/39.5 MB 1.4 MB/s eta 0:00:02\n",
      "   ------------------------------------- -- 37.0/39.5 MB 1.4 MB/s eta 0:00:02\n",
      "   ------------------------------------- -- 37.1/39.5 MB 1.4 MB/s eta 0:00:02\n",
      "   ------------------------------------- -- 37.2/39.5 MB 1.4 MB/s eta 0:00:02\n",
      "   ------------------------------------- -- 37.2/39.5 MB 1.4 MB/s eta 0:00:02\n",
      "   ------------------------------------- -- 37.3/39.5 MB 1.4 MB/s eta 0:00:02\n",
      "   ------------------------------------- -- 37.4/39.5 MB 1.4 MB/s eta 0:00:02\n",
      "   ------------------------------------- -- 37.4/39.5 MB 1.4 MB/s eta 0:00:02\n",
      "   -------------------------------------- - 37.5/39.5 MB 1.4 MB/s eta 0:00:02\n",
      "   -------------------------------------- - 37.6/39.5 MB 1.4 MB/s eta 0:00:02\n",
      "   -------------------------------------- - 37.6/39.5 MB 1.4 MB/s eta 0:00:02\n",
      "   -------------------------------------- - 37.7/39.5 MB 1.4 MB/s eta 0:00:02\n",
      "   -------------------------------------- - 37.8/39.5 MB 1.4 MB/s eta 0:00:02\n",
      "   -------------------------------------- - 37.8/39.5 MB 1.4 MB/s eta 0:00:02\n",
      "   -------------------------------------- - 37.9/39.5 MB 1.4 MB/s eta 0:00:02\n",
      "   -------------------------------------- - 38.0/39.5 MB 1.4 MB/s eta 0:00:02\n",
      "   -------------------------------------- - 38.0/39.5 MB 1.4 MB/s eta 0:00:02\n",
      "   -------------------------------------- - 38.1/39.5 MB 1.4 MB/s eta 0:00:01\n",
      "   -------------------------------------- - 38.2/39.5 MB 1.4 MB/s eta 0:00:01\n",
      "   -------------------------------------- - 38.2/39.5 MB 1.4 MB/s eta 0:00:01\n",
      "   -------------------------------------- - 38.3/39.5 MB 1.4 MB/s eta 0:00:01\n",
      "   -------------------------------------- - 38.4/39.5 MB 1.4 MB/s eta 0:00:01\n",
      "   -------------------------------------- - 38.4/39.5 MB 1.4 MB/s eta 0:00:01\n",
      "   ---------------------------------------  38.5/39.5 MB 1.4 MB/s eta 0:00:01\n",
      "   ---------------------------------------  38.5/39.5 MB 1.4 MB/s eta 0:00:01\n",
      "   ---------------------------------------  38.6/39.5 MB 1.4 MB/s eta 0:00:01\n",
      "   ---------------------------------------  38.7/39.5 MB 1.4 MB/s eta 0:00:01\n",
      "   ---------------------------------------  38.8/39.5 MB 1.4 MB/s eta 0:00:01\n",
      "   ---------------------------------------  38.8/39.5 MB 1.4 MB/s eta 0:00:01\n",
      "   ---------------------------------------  38.9/39.5 MB 1.4 MB/s eta 0:00:01\n",
      "   ---------------------------------------  39.0/39.5 MB 1.4 MB/s eta 0:00:01\n",
      "   ---------------------------------------  39.0/39.5 MB 1.4 MB/s eta 0:00:01\n",
      "   ---------------------------------------  39.1/39.5 MB 1.4 MB/s eta 0:00:01\n",
      "   ---------------------------------------  39.1/39.5 MB 1.4 MB/s eta 0:00:01\n",
      "   ---------------------------------------  39.2/39.5 MB 1.4 MB/s eta 0:00:01\n",
      "   ---------------------------------------  39.3/39.5 MB 1.4 MB/s eta 0:00:01\n",
      "   ---------------------------------------  39.3/39.5 MB 1.4 MB/s eta 0:00:01\n",
      "   ---------------------------------------  39.4/39.5 MB 1.4 MB/s eta 0:00:01\n",
      "   ---------------------------------------  39.5/39.5 MB 1.4 MB/s eta 0:00:01\n",
      "   ---------------------------------------  39.5/39.5 MB 1.4 MB/s eta 0:00:01\n",
      "   ---------------------------------------- 39.5/39.5 MB 1.4 MB/s eta 0:00:00\n",
      "Downloading PyYAML-6.0.2-cp312-cp312-win_amd64.whl (156 kB)\n",
      "   ---------------------------------------- 0.0/156.3 kB ? eta -:--:--\n",
      "   ------- -------------------------------- 30.7/156.3 kB 1.4 MB/s eta 0:00:01\n",
      "   --------------- ----------------------- 61.4/156.3 kB 825.8 kB/s eta 0:00:01\n",
      "   --------------------------- ---------- 112.6/156.3 kB 939.4 kB/s eta 0:00:01\n",
      "   ---------------------------------------  153.6/156.3 kB 1.0 MB/s eta 0:00:01\n",
      "   -------------------------------------- 156.3/156.3 kB 781.3 kB/s eta 0:00:00\n",
      "Downloading ultralytics_thop-2.0.14-py3-none-any.whl (26 kB)\n",
      "Downloading py_cpuinfo-9.0.0-py3-none-any.whl (22 kB)\n",
      "Installing collected packages: py-cpuinfo, pyyaml, opencv-python, ultralytics-thop, ultralytics\n",
      "Successfully installed opencv-python-4.11.0.86 py-cpuinfo-9.0.0 pyyaml-6.0.2 ultralytics-8.3.92 ultralytics-thop-2.0.14\n",
      "Note: you may need to restart the kernel to use updated packages.\n"
     ]
    },
    {
     "name": "stderr",
     "output_type": "stream",
     "text": [
      "\n",
      "[notice] A new release of pip is available: 24.0 -> 25.0.1\n",
      "[notice] To update, run: python.exe -m pip install --upgrade pip\n"
     ]
    }
   ],
   "source": [
    "%pip install ultralytics"
   ]
  }
 ],
 "metadata": {
  "kernelspec": {
   "display_name": "Python 3",
   "language": "python",
   "name": "python3"
  },
  "language_info": {
   "codemirror_mode": {
    "name": "ipython",
    "version": 3
   },
   "file_extension": ".py",
   "mimetype": "text/x-python",
   "name": "python",
   "nbconvert_exporter": "python",
   "pygments_lexer": "ipython3",
   "version": "3.12.2"
  }
 },
 "nbformat": 4,
 "nbformat_minor": 2
}
