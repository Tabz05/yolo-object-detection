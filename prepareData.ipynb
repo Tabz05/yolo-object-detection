{
 "cells": [
  {
   "cell_type": "code",
   "execution_count": 6,
   "metadata": {},
   "outputs": [
    {
     "name": "stdout",
     "output_type": "stream",
     "text": [
      "Creating new Ultralytics Settings v0.0.6 file  \n",
      "View Ultralytics Settings with 'yolo settings' or at 'C:\\Users\\Shamim\\AppData\\Roaming\\Ultralytics\\settings.json'\n",
      "Update Settings with 'yolo settings key=value', i.e. 'yolo settings runs_dir=path/to/dir'. For help see https://docs.ultralytics.com/quickstart/#ultralytics-settings.\n"
     ]
    }
   ],
   "source": [
    "import cv2\n",
    "from matplotlib import pyplot as plt\n",
    "import numpy as np\n",
    "from ultralytics import YOLO\n",
    "import xml.etree.ElementTree as ET\n",
    "import os"
   ]
  },
  {
   "cell_type": "code",
   "execution_count": 2,
   "metadata": {},
   "outputs": [
    {
     "name": "stdout",
     "output_type": "stream",
     "text": [
      "Collecting opencv-python\n",
      "  Downloading opencv_python-4.11.0.86-cp37-abi3-win_amd64.whl (39.5 MB)\n",
      "     -------------------------------------- 39.5/39.5 MB 862.0 kB/s eta 0:00:00\n",
      "Collecting numpy>=1.21.2\n",
      "  Downloading numpy-2.2.4-cp311-cp311-win_amd64.whl (12.9 MB)\n",
      "     -------------------------------------- 12.9/12.9 MB 742.7 kB/s eta 0:00:00\n",
      "Installing collected packages: numpy, opencv-python\n",
      "Successfully installed numpy-2.2.4 opencv-python-4.11.0.86\n",
      "Note: you may need to restart the kernel to use updated packages.\n"
     ]
    },
    {
     "name": "stderr",
     "output_type": "stream",
     "text": [
      "\n",
      "[notice] A new release of pip available: 22.3 -> 25.0.1\n",
      "[notice] To update, run: python.exe -m pip install --upgrade pip\n"
     ]
    }
   ],
   "source": [
    "%pip install opencv-python"
   ]
  },
  {
   "cell_type": "code",
   "execution_count": 5,
   "metadata": {},
   "outputs": [
    {
     "name": "stdout",
     "output_type": "stream",
     "text": [
      "^C\n"
     ]
    },
    {
     "name": "stdout",
     "output_type": "stream",
     "text": [
      "Collecting ultralytics\n",
      "  Using cached ultralytics-8.3.92-py3-none-any.whl (949 kB)\n",
      "Collecting numpy<=2.1.1,>=1.23.0\n",
      "  Using cached numpy-2.1.1-cp311-cp311-win_amd64.whl (12.9 MB)\n",
      "Collecting matplotlib>=3.3.0\n",
      "  Using cached matplotlib-3.10.1-cp311-cp311-win_amd64.whl (8.1 MB)\n",
      "Requirement already satisfied: opencv-python>=4.6.0 in c:\\users\\shamim\\appdata\\local\\programs\\python\\python311\\lib\\site-packages (from ultralytics) (4.11.0.86)\n",
      "Collecting pillow>=7.1.2\n",
      "  Using cached pillow-11.1.0-cp311-cp311-win_amd64.whl (2.6 MB)\n",
      "Collecting pyyaml>=5.3.1\n",
      "  Using cached PyYAML-6.0.2-cp311-cp311-win_amd64.whl (161 kB)\n",
      "Collecting requests>=2.23.0\n",
      "  Using cached requests-2.32.3-py3-none-any.whl (64 kB)\n",
      "Collecting scipy>=1.4.1\n",
      "  Using cached scipy-1.15.2-cp311-cp311-win_amd64.whl (41.2 MB)\n",
      "Collecting torch>=1.8.0\n",
      "  Downloading torch-2.6.0-cp311-cp311-win_amd64.whl (204.2 MB)\n",
      "     ------------------------------------ 204.2/204.2 MB 553.0 kB/s eta 0:00:00\n",
      "Collecting torchvision>=0.9.0\n",
      "  Using cached torchvision-0.21.0-cp311-cp311-win_amd64.whl (1.6 MB)\n",
      "Collecting tqdm>=4.64.0\n",
      "  Using cached tqdm-4.67.1-py3-none-any.whl (78 kB)\n",
      "Requirement already satisfied: psutil in c:\\users\\shamim\\appdata\\roaming\\python\\python311\\site-packages (from ultralytics) (7.0.0)\n",
      "Collecting py-cpuinfo\n",
      "  Using cached py_cpuinfo-9.0.0-py3-none-any.whl (22 kB)\n",
      "Collecting pandas>=1.1.4\n",
      "  Using cached pandas-2.2.3-cp311-cp311-win_amd64.whl (11.6 MB)\n",
      "Collecting seaborn>=0.11.0\n",
      "  Using cached seaborn-0.13.2-py3-none-any.whl (294 kB)\n",
      "Collecting ultralytics-thop>=2.0.0\n",
      "  Using cached ultralytics_thop-2.0.14-py3-none-any.whl (26 kB)\n",
      "Collecting contourpy>=1.0.1\n",
      "  Using cached contourpy-1.3.1-cp311-cp311-win_amd64.whl (219 kB)\n",
      "Collecting cycler>=0.10\n",
      "  Using cached cycler-0.12.1-py3-none-any.whl (8.3 kB)\n",
      "Collecting fonttools>=4.22.0\n",
      "  Using cached fonttools-4.56.0-cp311-cp311-win_amd64.whl (2.2 MB)\n",
      "Collecting kiwisolver>=1.3.1\n",
      "  Using cached kiwisolver-1.4.8-cp311-cp311-win_amd64.whl (71 kB)\n"
     ]
    },
    {
     "name": "stderr",
     "output_type": "stream",
     "text": [
      "ERROR: Exception:\n",
      "Traceback (most recent call last):\n",
      "  File \"C:\\Users\\Shamim\\AppData\\Local\\Programs\\Python\\Python311\\Lib\\site-packages\\pip\\_internal\\cli\\base_command.py\", line 160, in exc_logging_wrapper\n",
      "    status = run_func(*args)\n",
      "             ^^^^^^^^^^^^^^^\n",
      "  File \"C:\\Users\\Shamim\\AppData\\Local\\Programs\\Python\\Python311\\Lib\\site-packages\\pip\\_internal\\cli\\req_command.py\", line 247, in wrapper\n",
      "    return func(self, options, args)\n",
      "           ^^^^^^^^^^^^^^^^^^^^^^^^^\n",
      "  File \"C:\\Users\\Shamim\\AppData\\Local\\Programs\\Python\\Python311\\Lib\\site-packages\\pip\\_internal\\commands\\install.py\", line 400, in run\n",
      "    requirement_set = resolver.resolve(\n",
      "                      ^^^^^^^^^^^^^^^^^\n",
      "  File \"C:\\Users\\Shamim\\AppData\\Local\\Programs\\Python\\Python311\\Lib\\site-packages\\pip\\_internal\\resolution\\resolvelib\\resolver.py\", line 92, in resolve\n",
      "    result = self._result = resolver.resolve(\n",
      "                            ^^^^^^^^^^^^^^^^^\n",
      "  File \"C:\\Users\\Shamim\\AppData\\Local\\Programs\\Python\\Python311\\Lib\\site-packages\\pip\\_vendor\\resolvelib\\resolvers.py\", line 481, in resolve\n",
      "    state = resolution.resolve(requirements, max_rounds=max_rounds)\n",
      "            ^^^^^^^^^^^^^^^^^^^^^^^^^^^^^^^^^^^^^^^^^^^^^^^^^^^^^^^\n",
      "  File \"C:\\Users\\Shamim\\AppData\\Local\\Programs\\Python\\Python311\\Lib\\site-packages\\pip\\_vendor\\resolvelib\\resolvers.py\", line 373, in resolve\n",
      "    failure_causes = self._attempt_to_pin_criterion(name)\n",
      "                     ^^^^^^^^^^^^^^^^^^^^^^^^^^^^^^^^^^^^\n",
      "  File \"C:\\Users\\Shamim\\AppData\\Local\\Programs\\Python\\Python311\\Lib\\site-packages\\pip\\_vendor\\resolvelib\\resolvers.py\", line 213, in _attempt_to_pin_criterion\n",
      "    criteria = self._get_updated_criteria(candidate)\n",
      "               ^^^^^^^^^^^^^^^^^^^^^^^^^^^^^^^^^^^^^\n",
      "  File \"C:\\Users\\Shamim\\AppData\\Local\\Programs\\Python\\Python311\\Lib\\site-packages\\pip\\_vendor\\resolvelib\\resolvers.py\", line 204, in _get_updated_criteria\n",
      "    self._add_to_criteria(criteria, requirement, parent=candidate)\n",
      "  File \"C:\\Users\\Shamim\\AppData\\Local\\Programs\\Python\\Python311\\Lib\\site-packages\\pip\\_vendor\\resolvelib\\resolvers.py\", line 147, in _add_to_criteria\n",
      "    matches = self._p.find_matches(\n",
      "              ^^^^^^^^^^^^^^^^^^^^^\n",
      "  File \"C:\\Users\\Shamim\\AppData\\Local\\Programs\\Python\\Python311\\Lib\\site-packages\\pip\\_internal\\resolution\\resolvelib\\provider.py\", line 224, in find_matches\n",
      "    return self._factory.find_candidates(\n",
      "           ^^^^^^^^^^^^^^^^^^^^^^^^^^^^^^\n",
      "  File \"C:\\Users\\Shamim\\AppData\\Local\\Programs\\Python\\Python311\\Lib\\site-packages\\pip\\_internal\\resolution\\resolvelib\\factory.py\", line 424, in find_candidates\n",
      "    return self._iter_found_candidates(\n",
      "           ^^^^^^^^^^^^^^^^^^^^^^^^^^^^\n",
      "  File \"C:\\Users\\Shamim\\AppData\\Local\\Programs\\Python\\Python311\\Lib\\site-packages\\pip\\_internal\\resolution\\resolvelib\\factory.py\", line 320, in _iter_found_candidates\n",
      "    _get_installed_candidate(),\n",
      "    ^^^^^^^^^^^^^^^^^^^^^^^^^^\n",
      "  File \"C:\\Users\\Shamim\\AppData\\Local\\Programs\\Python\\Python311\\Lib\\site-packages\\pip\\_internal\\resolution\\resolvelib\\factory.py\", line 266, in _get_installed_candidate\n",
      "    if not specifier.contains(installed_dist.version, prereleases=True):\n",
      "                              ^^^^^^^^^^^^^^^^^^^^^^\n",
      "  File \"C:\\Users\\Shamim\\AppData\\Local\\Programs\\Python\\Python311\\Lib\\site-packages\\pip\\_internal\\metadata\\importlib\\_dists.py\", line 178, in version\n",
      "    return parse_version(self._dist.version)\n",
      "           ^^^^^^^^^^^^^^^^^^^^^^^^^^^^^^^^^\n",
      "  File \"C:\\Users\\Shamim\\AppData\\Local\\Programs\\Python\\Python311\\Lib\\site-packages\\pip\\_vendor\\packaging\\version.py\", line 49, in parse\n",
      "    return Version(version)\n",
      "           ^^^^^^^^^^^^^^^^\n",
      "  File \"C:\\Users\\Shamim\\AppData\\Local\\Programs\\Python\\Python311\\Lib\\site-packages\\pip\\_vendor\\packaging\\version.py\", line 264, in __init__\n",
      "    match = self._regex.search(version)\n",
      "            ^^^^^^^^^^^^^^^^^^^^^^^^^^^\n",
      "TypeError: expected string or bytes-like object, got 'NoneType'\n",
      "\n",
      "[notice] A new release of pip available: 22.3 -> 25.0.1\n",
      "[notice] To update, run: python.exe -m pip install --upgrade pip\n"
     ]
    }
   ],
   "source": [
    "!pip install ultralytics"
   ]
  },
  {
   "cell_type": "code",
   "execution_count": 7,
   "metadata": {},
   "outputs": [],
   "source": [
    "train_path=str(os.getcwd())+\"/dataset/images/train/\"\n",
    "val_path=str(os.getcwd())+\"/dataset/images/val/\"\n",
    "test_path=str(os.getcwd())+\"/dataset/images/test/\"\n",
    "anno_train_path=str(os.getcwd())+\"/dataset/labels/train/\"\n",
    "anno_val_path=str(os.getcwd())+\"/dataset/labels/val/\"\n",
    "anno_test_path=str(os.getcwd())+\"/dataset/labels/test/\"\n",
    "image_path=str(os.getcwd())+\"/JPEGImages/\"\n",
    "anno_path=str(os.getcwd())+\"/Annotations/\""
   ]
  },
  {
   "cell_type": "code",
   "execution_count": 8,
   "metadata": {},
   "outputs": [],
   "source": [
    "def applyCLAHEandSobel(image_path,savepath):\n",
    "    img = cv2.imread(image_path)\n",
    "    lab = cv2.cvtColor(img, cv2.COLOR_BGR2LAB)\n",
    "    l_channel, a, b = cv2.split(lab)\n",
    "    clahe = cv2.createCLAHE(clipLimit=2.0, tileGridSize=(8,8))\n",
    "    cl = clahe.apply(l_channel)\n",
    "    cl2 = clahe.apply(a)\n",
    "    cl3 = clahe.apply(b)\n",
    "    limg = cv2.merge((cl, cl2, cl3))\n",
    "    enhanced_img = cv2.cvtColor(limg, cv2.COLOR_LAB2RGB)\n",
    "    gray = cv2.cvtColor(enhanced_img, cv2.COLOR_RGB2GRAY)\n",
    "    sobel_x = cv2.Sobel(gray, cv2.CV_64F, 1, 0, ksize=3)  # Detect vertical edges\n",
    "    sobel_y = cv2.Sobel(gray, cv2.CV_64F, 0, 1, ksize=3)  # Detect horizontal edges\n",
    "    sobel_edges = np.sqrt(sobel_x**2 + sobel_y**2)\n",
    "    sobel_edges = cv2.normalize(sobel_edges, None, 0, 255, cv2.NORM_MINMAX).astype(np.uint8)\n",
    "    sobel_edges_colored = cv2.cvtColor(sobel_edges, cv2.COLOR_GRAY2BGR)\n",
    "    sharpened = cv2.addWeighted(enhanced_img, 1, sobel_edges_colored, 0.5, 0)\n",
    "    sharpened = cv2.cvtColor(sharpened, cv2.COLOR_BGR2RGB)\n",
    "    sharpened = cv2.fastNlMeansDenoisingColored(sharpened, None, 10, 10, 7, 21)\n",
    "    cv2.imwrite(savepath, sharpened)"
   ]
  },
  {
   "cell_type": "code",
   "execution_count": 9,
   "metadata": {},
   "outputs": [],
   "source": [
    "def convert_voc_to_yolo(xml_path, output_txt_path, class_dict, orig_width=640, orig_height=480, new_size=640):\n",
    "    tree = ET.parse(xml_path)\n",
    "    root = tree.getroot()\n",
    "    scale = new_size / max(orig_width, orig_height)  # Scaling factor\n",
    "    pad_x = (new_size - orig_width * scale) / 2  # Horizontal padding\n",
    "    pad_y = (new_size - orig_height * scale) / 2  # Vertical padding\n",
    "    with open(output_txt_path, \"w\") as f:\n",
    "        for obj in root.findall(\"object\"):\n",
    "            class_name = obj.find(\"name\").text\n",
    "            if class_name not in class_dict:\n",
    "                continue\n",
    "            class_id = class_dict[class_name]\n",
    "            bbox = obj.find(\"bndbox\")\n",
    "            x_min = int(bbox.find(\"xmin\").text)\n",
    "            y_min = int(bbox.find(\"ymin\").text)\n",
    "            x_max = int(bbox.find(\"xmax\").text)\n",
    "            y_max = int(bbox.find(\"ymax\").text)\n",
    "            x_min = (x_min * scale + pad_x) / new_size\n",
    "            y_min = (y_min * scale + pad_y) / new_size\n",
    "            x_max = (x_max * scale + pad_x) / new_size\n",
    "            y_max = (y_max * scale + pad_y) / new_size\n",
    "            x_center = (x_min + x_max) / 2\n",
    "            y_center = (y_min + y_max) / 2\n",
    "            bbox_width = x_max - x_min\n",
    "            bbox_height = y_max - y_min\n",
    "            f.write(f\"{class_id} {x_center:.6f} {y_center:.6f} {bbox_width:.6f} {bbox_height:.6f}\\n\")"
   ]
  },
  {
   "cell_type": "code",
   "execution_count": 10,
   "metadata": {},
   "outputs": [],
   "source": [
    "with open(\"train.txt\", \"r\") as file:\n",
    "    content = file.read()\n",
    "train_list=content.split(\"\\n\")\n",
    "with open(\"val.txt\", \"r\") as file:\n",
    "    content = file.read()\n",
    "val_list=content.split(\"\\n\")\n",
    "with open(\"test.txt\", \"r\") as file:\n",
    "    content = file.read()\n",
    "test_list=content.split(\"\\n\")"
   ]
  },
  {
   "cell_type": "code",
   "execution_count": 11,
   "metadata": {},
   "outputs": [],
   "source": [
    "class_dict = {\"WBC\": 0, \"RBC\": 1, \"Platelets\":2}\n",
    "for i in train_list:\n",
    "    path_img=image_path+i+\".jpg\"\n",
    "    path_anno=anno_path+i+\".xml\"\n",
    "    save_img_path=train_path+i+\".jpg\"\n",
    "    save_anno_path=anno_train_path+i+\".txt\"\n",
    "    applyCLAHEandSobel(path_img,save_img_path)\n",
    "    convert_voc_to_yolo(path_anno,save_anno_path,class_dict)\n",
    "for i in val_list:\n",
    "    path_img=image_path+i+\".jpg\"\n",
    "    path_anno=anno_path+i+\".xml\"\n",
    "    save_img_path=val_path+i+\".jpg\"\n",
    "    save_anno_path=anno_val_path+i+\".txt\"\n",
    "    applyCLAHEandSobel(path_img,save_img_path)\n",
    "    convert_voc_to_yolo(path_anno,save_anno_path,class_dict)\n",
    "for i in test_list:\n",
    "    path_img=image_path+i+\".jpg\"\n",
    "    path_anno=anno_path+i+\".xml\"\n",
    "    save_img_path=test_path+i+\".jpg\"\n",
    "    save_anno_path=anno_test_path+i+\".txt\"\n",
    "    applyCLAHEandSobel(path_img,save_img_path)\n",
    "    convert_voc_to_yolo(path_anno,save_anno_path,class_dict)"
   ]
  }
 ],
 "metadata": {
  "kernelspec": {
   "display_name": "Python 3",
   "language": "python",
   "name": "python3"
  },
  "language_info": {
   "codemirror_mode": {
    "name": "ipython",
    "version": 3
   },
   "file_extension": ".py",
   "mimetype": "text/x-python",
   "name": "python",
   "nbconvert_exporter": "python",
   "pygments_lexer": "ipython3",
   "version": "3.11.0"
  }
 },
 "nbformat": 4,
 "nbformat_minor": 2
}
